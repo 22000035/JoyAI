{
 "cells": [
  {
   "cell_type": "markdown",
   "metadata": {},
   "source": [
    "# Welcome to \"CrushPython\"\n",
    "\n",
    "\n",
    "__The prudent see danger and take refuge, but the simple keep going and suffer for it.__ Proverbs 27:12\n",
    "\n",
    "---------"
   ]
  },
  {
   "cell_type": "markdown",
   "metadata": {},
   "source": [
    "# Lesson - Lists  \n",
    "\n",
    "------\n",
    "Most of programs work not only with variables, but also use lists of variables. For example, a program can handle students informationin in a class by reading the list of students from the keyboard or from a file. \n",
    "\n",
    "To store such data, you can use the data structure called __list__. \n",
    "\n",
    "- Lists are sequences of objects. \n",
    "- Lists can contain a mix of any type of objects:\n",
    "- Lists are one of the workhorse data structures.\n",
    "\n",
    "A list is a sequence of elements numbered from 0, just as characters in the string. You create a list by putting square brackets around a comma-separated list of other Python items:"
   ]
  },
  {
   "cell_type": "code",
   "execution_count": null,
   "metadata": {},
   "outputs": [],
   "source": [
    "primes = [2, 3, 5, 7, 11, 13]\n",
    "rainbow = ['red', 'orange', 'yellow', 'green', 'blue', 'indigo', 'violet']"
   ]
  },
  {
   "cell_type": "markdown",
   "metadata": {},
   "source": [
    "Like strings, you can concatenate lists using the add operation:"
   ]
  },
  {
   "cell_type": "code",
   "execution_count": 1,
   "metadata": {},
   "outputs": [
    {
     "name": "stdout",
     "output_type": "stream",
     "text": [
      "[1, 2, 3, 'four', 'five']\n"
     ]
    }
   ],
   "source": [
    "a = [1, 2, 3]\n",
    "b = ['four', 'five']\n",
    "c = None\n",
    "print(c)"
   ]
  },
  {
   "cell_type": "markdown",
   "metadata": {},
   "source": [
    "and you can multiply a list by an integer to repeat the items in a list multiple times:"
   ]
  },
  {
   "cell_type": "code",
   "execution_count": 5,
   "metadata": {},
   "outputs": [
    {
     "data": {
      "text/plain": [
       "[True, True, True, True, True, True, True, True, True, True]"
      ]
     },
     "execution_count": 5,
     "metadata": {},
     "output_type": "execute_result"
    }
   ],
   "source": [
    "[True] * None"
   ]
  },
  {
   "cell_type": "markdown",
   "metadata": {},
   "source": [
    "Range\n",
    "-----\n",
    "\n",
    "The `range()` built-in function creates a list of integers, and is used a lot in Python because the `for` loop operates over lists.\n",
    "\n",
    "The simplest way to use the range function is to just specify the number of elements or, in another way of thinking about it, specify the stop value:"
   ]
  },
  {
   "cell_type": "code",
   "execution_count": 9,
   "metadata": {},
   "outputs": [
    {
     "name": "stdout",
     "output_type": "stream",
     "text": [
      "0\n",
      "1\n",
      "2\n",
      "3\n",
      "4\n"
     ]
    }
   ],
   "source": [
    "for x in range(5):\n",
    "    print(x)"
   ]
  },
  {
   "cell_type": "code",
   "execution_count": null,
   "metadata": {},
   "outputs": [],
   "source": [
    "help(range)"
   ]
  },
  {
   "cell_type": "markdown",
   "metadata": {},
   "source": [
    "This creates a list of 5 elements, 0 through 4 but not including 5, because that would create a list with 6 elements.  This follows the same conventions as slicing: when you specify a start value it is included, when you specify a stop value it is excluded.\n",
    "\n",
    "You can give the range function a start and a stop value, so with 2 as the start and 7 as the stop, we have:"
   ]
  },
  {
   "cell_type": "code",
   "execution_count": 1,
   "metadata": {},
   "outputs": [
    {
     "name": "stdout",
     "output_type": "stream",
     "text": [
      "2 3 4 5 6 7 8 9 "
     ]
    }
   ],
   "source": [
    "for x in range(None):\n",
    "    print(x, end=' ')"
   ]
  },
  {
   "cell_type": "markdown",
   "metadata": {},
   "source": [
    "So this creates a list of 10 - 2 = 8 elements starting at 2 and going up to, but not including 10.\n",
    "\n",
    "Finally you can also give a step value, so with 2 as the start, 10 as the stop, and 2 as the step:"
   ]
  },
  {
   "cell_type": "code",
   "execution_count": 2,
   "metadata": {},
   "outputs": [
    {
     "name": "stdout",
     "output_type": "stream",
     "text": [
      "2 4 6 8 "
     ]
    }
   ],
   "source": [
    "for x in range(None):\n",
    "    print(x, end=' ')"
   ]
  },
  {
   "cell_type": "markdown",
   "metadata": {},
   "source": [
    "So this starts at 2, goes up to 10, skipping every other value.\n",
    "\n",
    "Indexing\n",
    "--------\n",
    "\n",
    "Indexing on lists works much the same way as strings.\n",
    "\n",
    "To get the first element of a list, use index 0:"
   ]
  },
  {
   "cell_type": "code",
   "execution_count": 3,
   "metadata": {},
   "outputs": [
    {
     "data": {
      "text/plain": [
       "'red'"
      ]
     },
     "execution_count": 3,
     "metadata": {},
     "output_type": "execute_result"
    }
   ],
   "source": [
    "# print the first color\n",
    "rainbow = ['red', 'orange', 'yellow', 'green', 'blue', 'indigo', 'violet']\n",
    "None"
   ]
  },
  {
   "cell_type": "markdown",
   "metadata": {},
   "source": [
    "Print the rainbow, one element at a time:\n",
    "- using index\n",
    "- using iterable"
   ]
  },
  {
   "cell_type": "code",
   "execution_count": 9,
   "metadata": {},
   "outputs": [
    {
     "name": "stdout",
     "output_type": "stream",
     "text": [
      "RED\n",
      "orange\n",
      "yellow\n",
      "green\n",
      "blue\n",
      "indigo\n",
      "violet\n"
     ]
    }
   ],
   "source": [
    "# using index, print colors\n",
    "for i in None:\n",
    "    print(None)"
   ]
  },
  {
   "cell_type": "code",
   "execution_count": 10,
   "metadata": {},
   "outputs": [
    {
     "name": "stdout",
     "output_type": "stream",
     "text": [
      "RED\n",
      "orange\n",
      "yellow\n",
      "green\n",
      "blue\n",
      "indigo\n",
      "violet\n"
     ]
    }
   ],
   "source": [
    "# using iterable\n",
    "for i in None:\n",
    "    print(None)"
   ]
  },
  {
   "cell_type": "code",
   "execution_count": null,
   "metadata": {},
   "outputs": [],
   "source": [
    "# enumeratung list\n",
    "for i, e in None(None):\n",
    "    print(None)"
   ]
  },
  {
   "cell_type": "markdown",
   "metadata": {},
   "source": [
    "Lists are Immutable\n",
    "----------\n",
    "\n",
    "Unlike strings, list indexing is different that you can set the values in the list: strings are _immutable_, but lists are _mutable_.\n",
    "\n",
    "So we can change the second element like so:"
   ]
  },
  {
   "cell_type": "code",
   "execution_count": 7,
   "metadata": {},
   "outputs": [
    {
     "name": "stdout",
     "output_type": "stream",
     "text": [
      "['RED', 'orange', 'yellow', 'green', 'blue', 'indigo', 'violet']\n"
     ]
    }
   ],
   "source": [
    "# change the first one to 'RED'\n",
    "None\n",
    "print(rainbow)"
   ]
  },
  {
   "cell_type": "markdown",
   "metadata": {},
   "source": [
    "__Negative indices__ work in the same way as strings:\n",
    "\n",
    "__Get the last element in the list__"
   ]
  },
  {
   "cell_type": "code",
   "execution_count": 8,
   "metadata": {},
   "outputs": [
    {
     "name": "stdout",
     "output_type": "stream",
     "text": [
      "violet\n"
     ]
    }
   ],
   "source": [
    "print(None)"
   ]
  },
  {
   "cell_type": "markdown",
   "metadata": {},
   "source": [
    "Creating a list from user's input\n",
    "---------------------------\n",
    "In the demonstrated example, the empty list is created, then the number of elements is read, then you read the list items line by line and append to the end. The same thing can be done, saving the variable `n`:"
   ]
  },
  {
   "cell_type": "code",
   "execution_count": 12,
   "metadata": {},
   "outputs": [
    {
     "name": "stdout",
     "output_type": "stream",
     "text": [
      "How many: 3\n",
      "1: 1\n",
      "2: 2\n",
      "3: 00\n",
      "[1, 2, 0]\n"
     ]
    }
   ],
   "source": [
    "a = []                            # start an empty list\n",
    "n = int(input('How many: '))      # read number of element in the list\n",
    "for i in range(n): \n",
    "    new_element = int(input(str(i+1) + ': '))  # read next element\n",
    "    a.append(new_element)                     # add it to the list\n",
    "    # the last two lines could be replaced by one:\n",
    "    # a.append(int(input(str(i+1) + ': ')))\n",
    "print(a)"
   ]
  },
  {
   "cell_type": "markdown",
   "metadata": {},
   "source": [
    "Simplified version:"
   ]
  },
  {
   "cell_type": "code",
   "execution_count": 13,
   "metadata": {},
   "outputs": [
    {
     "name": "stdout",
     "output_type": "stream",
     "text": [
      "2\n",
      "1\n",
      "5\n",
      "[1, 5]\n"
     ]
    }
   ],
   "source": [
    "a = []\n",
    "for i in range(int(input())):\n",
    "    a.append(int(input()))\n",
    "print(a)"
   ]
  },
  {
   "cell_type": "markdown",
   "metadata": {},
   "source": [
    "Slicing\n",
    "-------\n",
    "Slicing is used to extract a subsequence out of your sequence(e.g. list, string):\n",
    "\n",
    "    var[lower:upper:step]\n",
    "\n",
    "The element which has index equal to the lower bound is included in the slice, but the element which has index equal to the upper bound is excluded, so mathematically, the ie slice is `[lower, upper)`.  If you think of the indices as being between the elements, then this mentally works very nicely, as we'll see.\n",
    "\n",
    "The `step` argument is optional, and indicates the strides between elements in the subsequence, so a step of 2 takes every second element.\n",
    "\n",
    "List slicing also has very similar semantics to slicing on strings. \n",
    "- a[start:end]      \n",
    "  items start through end-1\n",
    "- a[start:]         \n",
    "  items start through the rest of the array\n",
    "- a[:end]           \n",
    "  items from the beginning through end-1\n",
    "- a[:]              \n",
    "  a copy of the whole list\n",
    "- a[start:end:step] \n",
    "  start through not past end, by step\n"
   ]
  },
  {
   "cell_type": "code",
   "execution_count": 3,
   "metadata": {},
   "outputs": [
    {
     "data": {
      "text/plain": [
       "[11, 12]"
      ]
     },
     "execution_count": 3,
     "metadata": {},
     "output_type": "execute_result"
    }
   ],
   "source": [
    "# slice [11, 12]\n",
    "a = [10, 11, 12, 13, 14]\n",
    "a[1:3]"
   ]
  },
  {
   "cell_type": "markdown",
   "metadata": {},
   "source": [
    "You can use negative indices:"
   ]
  },
  {
   "cell_type": "code",
   "execution_count": 15,
   "metadata": {},
   "outputs": [
    {
     "data": {
      "text/plain": [
       "[11, 12]"
      ]
     },
     "execution_count": 15,
     "metadata": {},
     "output_type": "execute_result"
    }
   ],
   "source": [
    "# slice [11, 12], use negative indices\n",
    "a = [10, 11, 12, 13, 14]\n",
    "a[1:-2]"
   ]
  },
  {
   "cell_type": "markdown",
   "metadata": {},
   "source": [
    "And you can omit indices:"
   ]
  },
  {
   "cell_type": "code",
   "execution_count": 16,
   "metadata": {},
   "outputs": [
    {
     "data": {
      "text/plain": [
       "[10, 11, 12]"
      ]
     },
     "execution_count": 16,
     "metadata": {},
     "output_type": "execute_result"
    }
   ],
   "source": [
    "# slice [10, 11, 12]\n",
    "a = [10, 11, 12, 13, 14]\n",
    "None"
   ]
  },
  {
   "cell_type": "markdown",
   "metadata": {},
   "source": [
    "#### Replace elements with \n",
    "\n",
    "Unlike strings, because lists are mutable, you can write values into a slice.  So we can inject a list `[1, 2]` with two elements into a slice like this:"
   ]
  },
  {
   "cell_type": "code",
   "execution_count": 19,
   "metadata": {},
   "outputs": [
    {
     "name": "stdout",
     "output_type": "stream",
     "text": [
      "[10, 1, 2, 13]\n"
     ]
    }
   ],
   "source": [
    "a = [10, 11, 12, 13]\n",
    "None = [1, 2]\n",
    "print(a)"
   ]
  },
  {
   "cell_type": "markdown",
   "metadata": {},
   "source": [
    "This overwrites the second and third elements.  However you can inject extra elements into the list in the same way: the length of the slice and the length of the injected list don't have to match.\n",
    "\n",
    "So if we inject `[1, 2, 3, 4]` into the slice from 1 to 3, this will remove the current contents of the slice and replace it with the new list, increasing the length of the list:"
   ]
  },
  {
   "cell_type": "code",
   "execution_count": 17,
   "metadata": {},
   "outputs": [
    {
     "name": "stdout",
     "output_type": "stream",
     "text": [
      "[10, 1, 2, 3, 4, 13]\n"
     ]
    }
   ],
   "source": [
    "a = [10, 1, 2, 13]\n",
    "None = [1, 2, 3, 4]\n",
    "print(a)"
   ]
  },
  {
   "cell_type": "markdown",
   "metadata": {},
   "source": [
    "#### Delete elements\n",
    "\n",
    "It's also possible to use the same idea for deleting elements.\n",
    "\n",
    "If we take the slice from 1 to 3 and inject an empty list into the slice, it will __delete__ the second and third elements:"
   ]
  },
  {
   "cell_type": "code",
   "execution_count": 18,
   "metadata": {},
   "outputs": [
    {
     "name": "stdout",
     "output_type": "stream",
     "text": [
      "[10, 3, 4, 13]\n"
     ]
    }
   ],
   "source": [
    "a = [10, 1, 2, 3, 4, 13]\n",
    "None = []\n",
    "print(a)"
   ]
  },
  {
   "cell_type": "markdown",
   "metadata": {},
   "source": [
    "#### Copying elements\n",
    "\n",
    "Finally, you can __slice or copy all of the elements__ with a slice like this:"
   ]
  },
  {
   "cell_type": "code",
   "execution_count": 24,
   "metadata": {},
   "outputs": [
    {
     "name": "stdout",
     "output_type": "stream",
     "text": [
      "a= ['x', 'b', 'c']\n",
      "b= ['x', 'b', 'c']\n"
     ]
    }
   ],
   "source": [
    "a = ['a', 'b', 'c']\n",
    "b = a                       \n",
    "b[0] = 'x'\n",
    "print('a=', a)\n",
    "print('b=', b)"
   ]
  },
  {
   "cell_type": "code",
   "execution_count": null,
   "metadata": {},
   "outputs": [],
   "source": [
    "b = a[:]                      # why not use b = a ?"
   ]
  },
  {
   "cell_type": "markdown",
   "metadata": {},
   "source": [
    "`a[:]` What for?"
   ]
  },
  {
   "cell_type": "code",
   "execution_count": 27,
   "metadata": {},
   "outputs": [
    {
     "name": "stdout",
     "output_type": "stream",
     "text": [
      "a= ['a', 'b', 'c']\n",
      "b= ['x', 'b', 'c']\n"
     ]
    }
   ],
   "source": [
    "a = ['a', 'b', 'c']\n",
    "b = a[:]                         # why not use b = a ?\n",
    "b[0] = 'x'\n",
    "print('a=', a)\n",
    "print('b=', b)"
   ]
  },
  {
   "cell_type": "markdown",
   "metadata": {},
   "source": [
    "## Pop Quiz: WWJD or WWPP?"
   ]
  },
  {
   "cell_type": "code",
   "execution_count": 2,
   "metadata": {},
   "outputs": [
    {
     "data": {
      "text/plain": [
       "'olleh'"
      ]
     },
     "execution_count": 2,
     "metadata": {},
     "output_type": "execute_result"
    }
   ],
   "source": [
    "# reverse\n",
    "s=\"hello\"\n",
    "s[None]"
   ]
  },
  {
   "cell_type": "markdown",
   "metadata": {},
   "source": [
    "Operations on Lists\n",
    "-------------------\n",
    "\n",
    "We've seen the generic length function in Python and it works on any kind of sequence, including lists:"
   ]
  },
  {
   "cell_type": "code",
   "execution_count": null,
   "metadata": {},
   "outputs": [],
   "source": [
    "a = [10, 11, 12, 13, 14]\n",
    "len(a)"
   ]
  },
  {
   "cell_type": "markdown",
   "metadata": {},
   "source": [
    "To delete an item from a list, use the `del` keyword.  For example, to delete the item at index 2, you would use:"
   ]
  },
  {
   "cell_type": "code",
   "execution_count": null,
   "metadata": {},
   "outputs": [],
   "source": [
    "a = [10, 11, 12, 13, 14]\n",
    "del a[2]\n",
    "print(a)"
   ]
  },
  {
   "cell_type": "markdown",
   "metadata": {},
   "source": [
    "A powerful feature is being able to test for membership in a list using the `in` keyword.\n",
    "\n",
    "So to test if 13 is in our list, we would use:"
   ]
  },
  {
   "cell_type": "code",
   "execution_count": null,
   "metadata": {},
   "outputs": [],
   "source": [
    "a = [10, 11, 12, 13, 14]\n",
    "13 in a"
   ]
  },
  {
   "cell_type": "markdown",
   "metadata": {},
   "source": [
    "which is `True` since 13 is in the list.\n",
    "\n",
    "You can invert the idea and test to see if something is `not in` the list:"
   ]
  },
  {
   "cell_type": "code",
   "execution_count": null,
   "metadata": {},
   "outputs": [],
   "source": [
    "a = [10, 11, 12, 13, 14]\n",
    "13 not in a"
   ]
  },
  {
   "cell_type": "markdown",
   "metadata": {},
   "source": [
    "which is `False` since 13 is in `a`."
   ]
  },
  {
   "cell_type": "markdown",
   "metadata": {},
   "source": [
    "List Methods\n",
    "------------\n",
    "\n",
    "Lists are objects, so they have a lot of methods available on them.\n",
    "\n",
    "`append()` adds a single element to the end of a list:"
   ]
  },
  {
   "cell_type": "code",
   "execution_count": 7,
   "metadata": {},
   "outputs": [
    {
     "name": "stdout",
     "output_type": "stream",
     "text": [
      "[10, 11, 12, 11]\n"
     ]
    }
   ],
   "source": [
    "a = [10, 11, 12]\n",
    "None\n",
    "print(a)"
   ]
  },
  {
   "cell_type": "markdown",
   "metadata": {},
   "source": [
    "If you instead want to add a sequence to the end of a list, then you can use `extend()`:"
   ]
  },
  {
   "cell_type": "code",
   "execution_count": 8,
   "metadata": {},
   "outputs": [
    {
     "name": "stdout",
     "output_type": "stream",
     "text": [
      "[10, 11, 12, 11, 1, 2]\n"
     ]
    }
   ],
   "source": [
    "a = [10, 11, 12, 11]\n",
    "a.extend([1, 2])\n",
    "print(a)"
   ]
  },
  {
   "cell_type": "markdown",
   "metadata": {},
   "source": [
    "This is the same as using __inplace addition__:"
   ]
  },
  {
   "cell_type": "code",
   "execution_count": 9,
   "metadata": {},
   "outputs": [
    {
     "name": "stdout",
     "output_type": "stream",
     "text": [
      "[10, 11, 12, 11, 1, 2]\n"
     ]
    }
   ],
   "source": [
    "a = [10, 11, 12, 11]\n",
    "a += [1, 2]\n",
    "print(a)"
   ]
  },
  {
   "cell_type": "markdown",
   "metadata": {},
   "source": [
    "Note that using `append()` with a list produces a differnt result than `extend()`:"
   ]
  },
  {
   "cell_type": "code",
   "execution_count": 10,
   "metadata": {},
   "outputs": [
    {
     "name": "stdout",
     "output_type": "stream",
     "text": [
      "[10, 11, 12, 11, 1, 2, [1, 2]]\n"
     ]
    }
   ],
   "source": [
    "a = [10, 11, 12, 11, 1, 2]\n",
    "a.append([1, 2])\n",
    "print(a)"
   ]
  },
  {
   "cell_type": "markdown",
   "metadata": {},
   "source": [
    "This adds a single element to the end of the list, and that element contains the thing we appended, in this case the list `[1, 2]`.\n",
    "\n",
    "The `count()` method tells you how many of a certain element are in a list:"
   ]
  },
  {
   "cell_type": "code",
   "execution_count": null,
   "metadata": {},
   "outputs": [],
   "source": [
    "a = [10, 11, 12, 13, 11]\n",
    "a.count(11)"
   ]
  },
  {
   "cell_type": "markdown",
   "metadata": {},
   "source": [
    "The `index()` method tells you the index of the first occurence of an element:\n",
    "\n",
    "__ index of 11__"
   ]
  },
  {
   "cell_type": "code",
   "execution_count": null,
   "metadata": {},
   "outputs": [],
   "source": [
    "a = [10, 11, 12, 13, 11]\n",
    "a.index(11)"
   ]
  },
  {
   "cell_type": "markdown",
   "metadata": {},
   "source": [
    "Notice that even though we have two 11s we only get the index of the first one.\n",
    "\n",
    "The `insert()` method inserts a new element into a list at a particular index.  So we could inject the number 20 into a list at index 3 like this:"
   ]
  },
  {
   "cell_type": "code",
   "execution_count": null,
   "metadata": {},
   "outputs": [],
   "source": [
    "a = [10, 11, 12, 13, 11]\n",
    "a.insert(3, 20)\n",
    "print(a)"
   ]
  },
  {
   "cell_type": "markdown",
   "metadata": {},
   "source": [
    "If instead you want to remove an element, you can use the `remove()` method:"
   ]
  },
  {
   "cell_type": "code",
   "execution_count": null,
   "metadata": {},
   "outputs": [],
   "source": [
    "a = [10, 11, 12, 13, 11]\n",
    "a.remove(11)\n",
    "print(a)"
   ]
  },
  {
   "cell_type": "markdown",
   "metadata": {},
   "source": [
    "So this removed the first occurrence of the element 11 from the list.\n",
    "\n",
    "The `pop()` method is another way to remove an element from a list, but by index rather than by value."
   ]
  },
  {
   "cell_type": "code",
   "execution_count": null,
   "metadata": {},
   "outputs": [],
   "source": [
    "a = [10, 12, 13, 11]\n",
    "a.pop(2)\n",
    "print(a)"
   ]
  },
  {
   "cell_type": "markdown",
   "metadata": {},
   "source": [
    "So this removed the element at index 2, returning the value that was removed so now you can use that value in some other operation.  This is similar to `del a[2]`, but `del a[2]` doesn't return the element, it just gets rid of it:"
   ]
  },
  {
   "cell_type": "code",
   "execution_count": null,
   "metadata": {},
   "outputs": [],
   "source": [
    "a = [10, 12, 11]\n",
    "del a[2]\n",
    "print(a)"
   ]
  },
  {
   "cell_type": "markdown",
   "metadata": {},
   "source": [
    "Lists have a `sort()` method which is quite powerful.  The sort method takes various arguments that allow you to control how the sorting is done, and we'll cover that in another lecture.  But if you just call it without any argument it will sort the elements in ascending order, which is fairly useful by itself:"
   ]
  },
  {
   "cell_type": "code",
   "execution_count": null,
   "metadata": {},
   "outputs": [],
   "source": [
    "a = [10, 1, 11, 13, 11, 2]\n",
    "a.sort()\n",
    "print(a)"
   ]
  },
  {
   "cell_type": "markdown",
   "metadata": {},
   "source": [
    "This is an __in-place sort__, so it actually modifies the list `a`.  If you want to sort a list, but don't want to modify it, but instead create a new, sorted list, then the `sorted()` built-in function will do this for you. Some built-in functions such as sum, len, max can be used."
   ]
  },
  {
   "cell_type": "code",
   "execution_count": null,
   "metadata": {},
   "outputs": [],
   "source": [
    "a = [10, 1, 11, 13, 11, 2]\n",
    "b = sorted(a)\n",
    "print(b)\n",
    "print(sum(b))\n",
    "print(max(b))\n",
    "print(a)"
   ]
  },
  {
   "cell_type": "markdown",
   "metadata": {},
   "source": [
    "Finally, there is the `reverse()` method that reverses the elements of the list in-place:"
   ]
  },
  {
   "cell_type": "code",
   "execution_count": null,
   "metadata": {},
   "outputs": [],
   "source": [
    "a = [1, 2, 3, 4, 5, 6]\n",
    "a.reverse()                                  # a[::-1]\n",
    "print(a)"
   ]
  },
  {
   "cell_type": "markdown",
   "metadata": {},
   "source": [
    "## Pop Quiz 1\n",
    "The list reverse() method modifies the original list. How can you get a new reversed list? "
   ]
  },
  {
   "cell_type": "code",
   "execution_count": null,
   "metadata": {},
   "outputs": [],
   "source": [
    "a = [1, 2, 3, 4, 5, 6]\n",
    "a = None             # your code here to reverse\n",
    "print(a)\n",
    "a.reverse()              # change it back\n",
    "print(a)"
   ]
  },
  {
   "cell_type": "markdown",
   "metadata": {},
   "source": [
    "## Pop Quiz 2\n",
    "\n",
    "Initialize a list, `a`, with True and print it. Its length is 10. Don't use  any loop nor range().  \n",
    "`a = [True, True, True, True, True, True, True, True, True, True]`"
   ]
  },
  {
   "cell_type": "code",
   "execution_count": null,
   "metadata": {},
   "outputs": [],
   "source": [
    "a = [True] * 10      # your code here\n",
    "print(a)"
   ]
  },
  {
   "cell_type": "markdown",
   "metadata": {},
   "source": [
    "# List comprehension \n",
    "- This is a brief introduction; stay tuned for more.\n",
    "- A list of numbers can be created using *list comprehension*.  \n",
    "\n",
    "The syntax is:\n",
    "\n",
    "[**expression** for **variable** in **iterable**] \n",
    "\n",
    "[**expression** for **variable** in **iterable** if **condition**] \n",
    "\n",
    "The `if` **condition** part is optional, the statement and the condition can use variable."
   ]
  },
  {
   "cell_type": "markdown",
   "metadata": {},
   "source": [
    "Create a list from 0 to 9. "
   ]
  },
  {
   "cell_type": "code",
   "execution_count": null,
   "metadata": {
    "collapsed": true
   },
   "outputs": [],
   "source": [
    "numbers = [0, 1, 2, 3, 4, 5, 6, 7, 8, 9]"
   ]
  },
  {
   "cell_type": "markdown",
   "metadata": {},
   "source": [
    "Creat a list from 0 to 99. There should be a better way to do it."
   ]
  },
  {
   "cell_type": "code",
   "execution_count": 3,
   "metadata": {},
   "outputs": [
    {
     "data": {
      "text/plain": [
       "[0, 1, 2, 3, 4, 5, 6, 7, 8, 9]"
      ]
     },
     "execution_count": 3,
     "metadata": {},
     "output_type": "execute_result"
    }
   ],
   "source": [
    "numbers = []\n",
    "for x in range(10):\n",
    "    numbers.append(x)\n",
    "numbers"
   ]
  },
  {
   "cell_type": "code",
   "execution_count": null,
   "metadata": {},
   "outputs": [],
   "source": [
    "numbers = [x for x in range(10)]\n",
    "numbers"
   ]
  },
  {
   "cell_type": "code",
   "execution_count": 11,
   "metadata": {},
   "outputs": [
    {
     "data": {
      "text/plain": [
       "[0, 2, 4, 6, 8]"
      ]
     },
     "execution_count": 11,
     "metadata": {},
     "output_type": "execute_result"
    }
   ],
   "source": [
    "numbers = [x for x in range(10) if x % 2 == 0]\n",
    "numbers"
   ]
  },
  {
   "cell_type": "markdown",
   "metadata": {},
   "source": [
    "Create a list of the square roots of odd numbers between 1 and 20:"
   ]
  },
  {
   "cell_type": "code",
   "execution_count": 12,
   "metadata": {},
   "outputs": [
    {
     "data": {
      "text/plain": [
       "[1, 9, 25, 49, 81, 121, 169, 225, 289, 361]"
      ]
     },
     "execution_count": 12,
     "metadata": {},
     "output_type": "execute_result"
    }
   ],
   "source": [
    "numbers = [x * x for x in range(20) if x % 2 == 1]\n",
    "numbers"
   ]
  },
  {
   "cell_type": "markdown",
   "metadata": {},
   "source": [
    "What would the code do? Do the same thing using list comprehension."
   ]
  },
  {
   "cell_type": "code",
   "execution_count": null,
   "metadata": {},
   "outputs": [],
   "source": [
    "# for loop\n",
    "doubled_odds = []\n",
    "for n in numbers:\n",
    "    if n % 2 == 1:\n",
    "        doubled_odds.append(n * 2)\n",
    "\n",
    "doubled_odds"
   ]
  },
  {
   "cell_type": "code",
   "execution_count": null,
   "metadata": {
    "collapsed": true
   },
   "outputs": [],
   "source": [
    "#list comprehension\n",
    "doubled_odds = [n * 2 for n in numbers if n % 2 == 1]"
   ]
  },
  {
   "cell_type": "markdown",
   "metadata": {},
   "source": [
    "Convert Celsius values into Fahrenheit in the list."
   ]
  },
  {
   "cell_type": "code",
   "execution_count": null,
   "metadata": {},
   "outputs": [],
   "source": [
    "clist = [-10, 0, 10, 50, 100, 200]\n",
    "flist = []\n",
    "for c in clist:\n",
    "    f = 9/5 * c + 32\n",
    "    flist.append(f)\n",
    "print(flist)"
   ]
  },
  {
   "cell_type": "code",
   "execution_count": null,
   "metadata": {},
   "outputs": [],
   "source": [
    "#use list comprehension\n",
    "c = [-10, 0, 10, 50, 100] \n",
    "f = [ float(9)/5 * x + 32 for x in c]\n",
    "f"
   ]
  },
  {
   "cell_type": "markdown",
   "metadata": {},
   "source": [
    "Convert words into all uppercase words\n",
    "use obj.upper() to convert upper"
   ]
  },
  {
   "cell_type": "code",
   "execution_count": null,
   "metadata": {},
   "outputs": [],
   "source": [
    "words = ['The', 'world', 'is', 'small']\n",
    "[ x.upper() for x in words]"
   ]
  },
  {
   "cell_type": "markdown",
   "metadata": {},
   "source": [
    "What would the code do? Do the same thing using list comprehension."
   ]
  },
  {
   "cell_type": "code",
   "execution_count": 14,
   "metadata": {
    "collapsed": true
   },
   "outputs": [],
   "source": [
    "matrix = [\n",
    "    [1, 2, 3, 4],\n",
    "    [5, 6, 7, 8],\n",
    "    [9, 10, 11, 12],\n",
    "]\n",
    "flattened = []\n",
    "for row in matrix:\n",
    "    for n in row:\n",
    "        flattened.append(n)"
   ]
  },
  {
   "cell_type": "markdown",
   "metadata": {},
   "source": [
    "It flattens the list of the list. "
   ]
  },
  {
   "cell_type": "code",
   "execution_count": 13,
   "metadata": {},
   "outputs": [
    {
     "data": {
      "text/plain": [
       "[1, 2, 3, 4, 5, 6, 7, 8, 9, 10, 11, 12]"
      ]
     },
     "execution_count": 13,
     "metadata": {},
     "output_type": "execute_result"
    }
   ],
   "source": [
    "flattened = [n for row in matrix for n in row]      # incorrect ->  [n for n in row for row in matrix]\n",
    "flattened"
   ]
  },
  {
   "cell_type": "markdown",
   "metadata": {},
   "source": [
    "## Example: Grades\n",
    "Given a list of grades, count how many are above the average."
   ]
  },
  {
   "cell_type": "code",
   "execution_count": 1,
   "metadata": {},
   "outputs": [],
   "source": [
    "grades = [88,67,45,67,76,78,53,87,12,100,77,89,92,53,55,45,87,88,95,99,76,87,56,45,98,87,89]"
   ]
  },
  {
   "cell_type": "markdown",
   "metadata": {},
   "source": [
    "1. Get average\n",
    "2. Find how many grades are above avg.  \n",
    "    (a) using for lopp\n",
    "    (b) using list comprehension"
   ]
  },
  {
   "cell_type": "markdown",
   "metadata": {},
   "source": [
    "Using for loop:"
   ]
  },
  {
   "cell_type": "code",
   "execution_count": 2,
   "metadata": {},
   "outputs": [
    {
     "name": "stdout",
     "output_type": "stream",
     "text": [
      "17 grades are above the average 73.74074074074075\n"
     ]
    }
   ],
   "source": [
    "avg = None/None\n",
    "\n",
    "above = 0\n",
    "for gr in None:\n",
    "    if gr > None:\n",
    "        above += 1\n",
    "        \n",
    "print(above, \"grades are above the average\", avg)"
   ]
  },
  {
   "cell_type": "code",
   "execution_count": 3,
   "metadata": {},
   "outputs": [
    {
     "name": "stdout",
     "output_type": "stream",
     "text": [
      "17 grades are above the average 73.74074074074075\n"
     ]
    }
   ],
   "source": [
    "avg = None/None\n",
    "above = len([gr for gr in grades if gr > avg])\n",
    "\n",
    "print(above, \"grades are above the average\", avg)"
   ]
  },
  {
   "cell_type": "markdown",
   "metadata": {},
   "source": [
    "## Pop Quiz:\n",
    "Do the same thing using list comprehension instead of using for loop shown above:"
   ]
  },
  {
   "cell_type": "code",
   "execution_count": 4,
   "metadata": {},
   "outputs": [
    {
     "name": "stdout",
     "output_type": "stream",
     "text": [
      "17 grades are above the average 73.74074074074075\n"
     ]
    }
   ],
   "source": [
    "# %load grades_list.py\n",
    "#pop quiz in \"WhyNotPython\"\n",
    "#To write: %%file <file name> \n",
    "#To load: %load <file name>\n",
    "avg = sum(grades)/len(grades)\n",
    "above = len([gr for gr in grades if gr > avg])\n",
    "        \n",
    "print(above, \"grades are above the average\", avg)\n"
   ]
  },
  {
   "cell_type": "markdown",
   "metadata": {},
   "source": [
    "###  Get list of grades that are above avg and its length"
   ]
  },
  {
   "cell_type": "code",
   "execution_count": 6,
   "metadata": {},
   "outputs": [
    {
     "name": "stdout",
     "output_type": "stream",
     "text": [
      "[88, 76, 78, 87, 100, 77, 89, 92, 87, 88, 95, 99, 76, 87, 98, 87, 89] grades are above the average 73.74074074074075\n"
     ]
    }
   ],
   "source": [
    "#pop quiz in \"WhyNotPython\"\n",
    "#To write: %%file <file name> \n",
    "#To load: %load <file name>\n",
    "avg = sum(grades)/len(grades)\n",
    "above_list = [gr for gr in grades if gr > avg]\n",
    "        \n",
    "print(above_list, \"grades are above the average\", avg)\n"
   ]
  },
  {
   "cell_type": "markdown",
   "metadata": {},
   "source": [
    "## Exercises"
   ]
  },
  {
   "cell_type": "markdown",
   "metadata": {},
   "source": [
    "## 1. Swap neighbours\n",
    "\n",
    "Given a list of numbers, swap adjacent items in pairs (`a[0]` with `a[1]`, `a[2]` with `a[3]`, etc.). Print the resulting list. If a list has an odd number of elements, leave the last element in place.\n",
    "\n",
    "For example:\n",
    "```\n",
    "a = [1, 2, 3]\n",
    "2 1 3\n",
    "```\n",
    "```\n",
    "a = [0, 9, 4, 5, 2, 3]\n",
    "9 0 5 4 3 2\n",
    "```\n",
    "__Hint__: Believe it or not, mutiple assignment is possible. In the following code, two values of `x` and `y` are swapped.\n",
    "```\n",
    "x, y = 1, 2      # x = 1, y = 2\n",
    "x, y = y, x      # x = 2, y = 1\n",
    "```"
   ]
  },
  {
   "cell_type": "code",
   "execution_count": 25,
   "metadata": {},
   "outputs": [
    {
     "data": {
      "text/plain": [
       "[9, 0, 5, 4, 3, 2]"
      ]
     },
     "execution_count": 25,
     "metadata": {},
     "output_type": "execute_result"
    }
   ],
   "source": [
    "a = [0, 9, 4, 5, 2, 3]\n",
    "for i in None:\n",
    "    None"
   ]
  },
  {
   "cell_type": "code",
   "execution_count": null,
   "metadata": {},
   "outputs": [],
   "source": [
    "a = []\n",
    "for i in range(int(input())):\n",
    "    a.append(int(input()))\n",
    "    "
   ]
  },
  {
   "cell_type": "markdown",
   "metadata": {},
   "source": [
    "## 2. The largest element and its index\n",
    "\n",
    "Get a list of integers from user, print the value of the largest element and then the index number. If the highest element is not unique, print the index of the first instance.\n",
    "\n",
    "__Hint__: You can solve this problem without using a loop if you use a method available for the list object as well as built-in functions in Python. "
   ]
  },
  {
   "cell_type": "code",
   "execution_count": 29,
   "metadata": {},
   "outputs": [
    {
     "name": "stdout",
     "output_type": "stream",
     "text": [
      "0\n"
     ]
    }
   ],
   "source": [
    "a = []\n",
    "for i in range(int(input())):\n",
    "    a.append(int(input()))\n",
    "   "
   ]
  },
  {
   "cell_type": "code",
   "execution_count": 27,
   "metadata": {},
   "outputs": [
    {
     "name": "stdout",
     "output_type": "stream",
     "text": [
      "26 7\n"
     ]
    }
   ],
   "source": [
    "a = [6, 9, 6, 23, 12, 19, 14, 26]\n",
    "print(None, None)"
   ]
  },
  {
   "cell_type": "markdown",
   "metadata": {},
   "source": [
    "## 3. Unique elements\n",
    "\n",
    "Given a list of integers, create a new list with the elements that appear in the original list only once. The elements must be listed in the order in which they occur in the original list. Don't use set. \n",
    "For example:\n",
    "```\n",
    "a = [4, 3, 5, 2, 5, 1, 3, 5]\n",
    "4 2 1\n",
    "```\n",
    "```\n",
    "a = [6, 9, 6, 23, 12, 19, 14, 26]\n",
    "9 23 12 19 14 26\n",
    "```\n",
    "Hint: Use a method available for a list object. Remember that `obejct`.<tab> displays a list of methods for the `object`."
   ]
  },
  {
   "cell_type": "code",
   "execution_count": 30,
   "metadata": {},
   "outputs": [
    {
     "name": "stdout",
     "output_type": "stream",
     "text": [
      "[9, 23, 12, 19, 14, 26]\n"
     ]
    }
   ],
   "source": [
    "a = [4, 3, 5, 2, 5, 1, 3, 5]\n",
    "a = [6, 9, 6, 23, 12, 19, 14, 26]\n",
    "b = []\n",
    "for e in a:\n",
    "    None;\n",
    "print(b)"
   ]
  },
  {
   "cell_type": "markdown",
   "metadata": {},
   "source": [
    "--------\n",
    "__슬기로운 자는 재앙을 보면 숨어 피하여도 어리석은 자들은 나가다가 해를 받느니라.__\n",
    "잠언27:12"
   ]
  }
 ],
 "metadata": {
  "kernelspec": {
   "display_name": "Python 3",
   "language": "python",
   "name": "python3"
  },
  "language_info": {
   "codemirror_mode": {
    "name": "ipython",
    "version": 3
   },
   "file_extension": ".py",
   "mimetype": "text/x-python",
   "name": "python",
   "nbconvert_exporter": "python",
   "pygments_lexer": "ipython3",
   "version": "3.7.1"
  }
 },
 "nbformat": 4,
 "nbformat_minor": 1
}
