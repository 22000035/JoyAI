{
 "cells": [
  {
   "cell_type": "markdown",
   "metadata": {},
   "source": [
    "# Welcome to \"CrashPython\"\n",
    "\n",
    "__But God demonstrates his own love for us in this: While we were still sinners, Christ died for us.__ Romans 5:9\n",
    "\n",
    "--------"
   ]
  },
  {
   "cell_type": "markdown",
   "metadata": {},
   "source": [
    "\n",
    "        "
   ]
  },
  {
   "cell_type": "markdown",
   "metadata": {},
   "source": [
    "# Lesson - Control Flow\n",
    "\n",
    "-------\n",
    "It is very important to control the program execution because in reality the situations are full of conditions and if you want your program to work with the real world closer, then you need to transform the reality into your program - another form of an abstration. That is the reason you need to control the flow of the program execution. It is commonly known as __control flow__ in programming terms.\n",
    "Python has several constructs for controlling the flow of your program.  The first one we will look at is the if statement. \n",
    "\n",
    "## If Statement\n",
    "The basic construct of control flow is \"if\" statements. \"if\" construct in Python works just like one in all other programming languages. It is just a matter of different syntax and a unique identations. It is very intuitive.  Let's learn it through a few examples.\n",
    "\n",
    "The simplest form of the if statement looks like this:"
   ]
  },
  {
   "cell_type": "code",
   "execution_count": 3,
   "metadata": {},
   "outputs": [],
   "source": [
    "x = 0.5\n",
    "if (x > 0):\n",
    "    print('it is greater than 0')\n"
   ]
  },
  {
   "cell_type": "markdown",
   "metadata": {},
   "source": [
    "The block ends when Python encounters a line of code which is indented at the original level:"
   ]
  },
  {
   "cell_type": "code",
   "execution_count": 5,
   "metadata": {},
   "outputs": [
    {
     "name": "stdout",
     "output_type": "stream",
     "text": [
      "x is positive\n",
      "inside if block\n",
      "This isn't part of the block, and will always print.\n"
     ]
    }
   ],
   "source": [
    "x = 5\n",
    "if x > 0:\n",
    "    print(\"x is positive\")\n",
    "    print(\"inside if block\")\n",
    "\n",
    "print(\"This isn't part of the block, and will always print.\")"
   ]
  },
  {
   "cell_type": "markdown",
   "metadata": {},
   "source": [
    "If we change the value of x to a negative number and run the same code:"
   ]
  },
  {
   "cell_type": "code",
   "execution_count": null,
   "metadata": {},
   "outputs": [],
   "source": [
    "x = -0.5\n",
    "if None:\n",
    "    print(\"x is positive\")\n",
    "    print(\"inside if block\")\n",
    "print(\"This isn't part of the block, and will always print.\")"
   ]
  },
  {
   "cell_type": "markdown",
   "metadata": {},
   "source": [
    "Sometimes there may be a number of different possibilities, and you want to do a different thing in each possible case. The if statement can have additional blocks associated with it via the elif and else clauses:"
   ]
  },
  {
   "cell_type": "code",
   "execution_count": null,
   "metadata": {},
   "outputs": [],
   "source": [
    "x = 0\n",
    "if x > 0:\n",
    "    print(\"x is positive\")\n",
    "elif None:\n",
    "    print(\"x is zero\")\n",
    "else:\n",
    "    print(\"x is negative\")"
   ]
  },
  {
   "cell_type": "code",
   "execution_count": null,
   "metadata": {},
   "outputs": [],
   "source": [
    "x = 1.5\n",
    "if x > 1:\n",
    "    print(\"x is greater than 1\")\n",
    "elif None:\n",
    "    print(\"x is non-negative\")"
   ]
  },
  {
   "cell_type": "code",
   "execution_count": null,
   "metadata": {},
   "outputs": [],
   "source": [
    "if x > 1:\n",
    "    print(\"x is greater than 1\")\n",
    "if x >= 0:\n",
    "    print(\"x is non-negative\")"
   ]
  },
  {
   "cell_type": "markdown",
   "metadata": {},
   "source": [
    "An example of the nested if statements:"
   ]
  },
  {
   "cell_type": "code",
   "execution_count": null,
   "metadata": {},
   "outputs": [],
   "source": [
    "if x >= 0:\n",
    "    if x > 1:\n",
    "        print(\"x is greater than 1\")\n",
    "    print(\"x is non-negative\")"
   ]
  },
  {
   "cell_type": "markdown",
   "metadata": {},
   "source": [
    "__Example 1__:\n",
    "Get user's input for a score. Then say pass if it is above 60, otherwiae fail.\n"
   ]
  },
  {
   "cell_type": "code",
   "execution_count": 1,
   "metadata": {},
   "outputs": [
    {
     "name": "stdout",
     "output_type": "stream",
     "text": [
      "Enter your score:\n"
     ]
    }
   ],
   "source": [
    "score = input(\"Enter your score:\")\n"
   ]
  },
  {
   "cell_type": "markdown",
   "metadata": {},
   "source": [
    "__Example 2__:\n",
    "If score is larger than 90, it prints \"A\",\n",
    "it is larger than 80, \"B\", \n",
    "it is larger than 70, \"C\", \n",
    "if is below 70, \"Freezing\"."
   ]
  },
  {
   "cell_type": "code",
   "execution_count": null,
   "metadata": {},
   "outputs": [],
   "source": [
    "score = input(\"Enter your score:\")"
   ]
  },
  {
   "cell_type": "markdown",
   "metadata": {},
   "source": [
    "Looping\n",
    "=======\n",
    "\n",
    "When programming, you want to be able to repeatedly execute chunks of code without having to manually duplicate the code. Python implements a number of looping constructs, and in this lecture we'll discuss the __while__ loop and the __for__ loop.\n",
    "\n",
    "While loop\n",
    "----------\n",
    "\n",
    "```\n",
    "while <condition>:\n",
    "    <statements>\n",
    "```    \n"
   ]
  },
  {
   "cell_type": "markdown",
   "metadata": {},
   "source": [
    "__Example 1__:\n",
    "\n",
    "Print 0 through 9 as shown below:\n",
    "\n",
    "`n = 0 n = 1 n = 2 n = 3 n = 4 n = 5 n = 6 n = 7 n = 8 n = 9` "
   ]
  },
  {
   "cell_type": "code",
   "execution_count": 3,
   "metadata": {},
   "outputs": [
    {
     "name": "stdout",
     "output_type": "stream",
     "text": [
      "n = 0 n = 1 n = 2 n = 3 n = 4 n = 5 n = 6 n = 7 n = 8 n = 9 "
     ]
    }
   ],
   "source": [
    "n = 0\n",
    "while n < 10:\n",
    "    print(\"n =\", n, end=\" \")\n",
    "    n = n + 1"
   ]
  },
  {
   "cell_type": "markdown",
   "metadata": {},
   "source": [
    "__Example 2__:\n",
    "\n",
    "Given n = 1234, print it as shown below:\n",
    "`4 3 2 1`\n",
    "\n",
    "    Hint: 1234 % 10 returns 4\n",
    "    Hint: 1234 // 10 returns 123"
   ]
  },
  {
   "cell_type": "code",
   "execution_count": 5,
   "metadata": {},
   "outputs": [
    {
     "name": "stdout",
     "output_type": "stream",
     "text": [
      "4 3 2 1 "
     ]
    }
   ],
   "source": [
    "n = 1234\n",
    "while n > 0:\n",
    "    print(n % 10, end = ' ')\n",
    "    n = n // 10"
   ]
  },
  {
   "cell_type": "markdown",
   "metadata": {},
   "source": [
    "__Example 3:\n",
    "\n",
    "Given n = 1234, print the sum of each digit. It prints 10 since 1 + 2 + 3 + 4 = 10."
   ]
  },
  {
   "cell_type": "code",
   "execution_count": 6,
   "metadata": {},
   "outputs": [
    {
     "name": "stdout",
     "output_type": "stream",
     "text": [
      "10\n"
     ]
    }
   ],
   "source": [
    "n = 1234\n",
    "sum = 0\n",
    "while n > 0:\n",
    "    sum = sum + n % 10 \n",
    "    n = n // 10\n",
    "    \n",
    "print(sum)"
   ]
  },
  {
   "cell_type": "markdown",
   "metadata": {},
   "source": [
    "__Example 4__ - \n",
    "\n",
    "Count how many times 0 appears in an integer number:"
   ]
  },
  {
   "cell_type": "code",
   "execution_count": 14,
   "metadata": {},
   "outputs": [
    {
     "name": "stdout",
     "output_type": "stream",
     "text": [
      "1267650600228229401496703205376\n"
     ]
    }
   ],
   "source": [
    "num = 2**100\n",
    "print(num)"
   ]
  },
  {
   "cell_type": "code",
   "execution_count": 17,
   "metadata": {},
   "outputs": [
    {
     "name": "stdout",
     "output_type": "stream",
     "text": [
      "1267650600228229401496703205376\n",
      "6 7 3 5 0 2 3 0 7 6 9 4 1 0 4 9 2 2 8 2 2 0 0 6 0 5 6 7 6 2 1 \n",
      " 6\n"
     ]
    }
   ],
   "source": [
    "num = 2**100\n",
    "print(num)\n",
    "\n",
    "count = 0\n",
    "\n",
    "while num > 0:   # what if we changed to >=0?\n",
    "    last = num % 10\n",
    "    print(last, end = ' ')\n",
    "    if (last == 0):\n",
    "        count = count + 1\n",
    "    num = num // 10\n",
    "    \n",
    "print('\\n', count)"
   ]
  },
  {
   "cell_type": "markdown",
   "metadata": {},
   "source": [
    "As we'll see, there are better ways of looping over collections of numbers,\n",
    "but this illustrates the basics of the while loop.\n",
    "\n",
    "From the lecture about the if statement, you may remember that things like\n",
    "empty objects and None also evaluate to false.  You can use this to write\n",
    "loops which consume lists, sets and dictionaries:"
   ]
  },
  {
   "cell_type": "markdown",
   "metadata": {},
   "source": [
    "Use while & pop() to print plays"
   ]
  },
  {
   "cell_type": "code",
   "execution_count": 24,
   "metadata": {},
   "outputs": [
    {
     "name": "stdout",
     "output_type": "stream",
     "text": [
      "Perform King Lear\n",
      "Perform Hamlet\n",
      "Perform Romeo and Juliet\n",
      "Perform Macbeth\n"
     ]
    }
   ],
   "source": [
    "plays = set(['Hamlet', 'Macbeth', 'King Lear', 'Hamlet', 'Romeo and Juliet'])\n",
    "while plays:\n",
    "    print('Perform', plays.pop())\n"
   ]
  },
  {
   "cell_type": "markdown",
   "metadata": {},
   "source": [
    "This repeatedly pops an element from the set of plays until the set of plays\n",
    "is empty.\n",
    "\n",
    "For loop\n",
    "--------\n",
    "\n",
    "The other type of looping statement that is available is the for loop.  The\n",
    "for loop is designed to loop over sequences, like lists, sets, dictionaries,\n",
    "and even strings.  The for statement has the form:\n",
    "\n",
    "    for <variable> in <sequence>:\n",
    "        <indented block of code>\n",
    "\n",
    "The variable is given each element of the sequence in turn, and then the block\n",
    "of code is executed with the variable referring to that element:"
   ]
  },
  {
   "cell_type": "code",
   "execution_count": null,
   "metadata": {},
   "outputs": [],
   "source": [
    "plays = set(['Hamlet', 'Macbeth', 'King Lear'])\n",
    "\n"
   ]
  },
  {
   "cell_type": "markdown",
   "metadata": {},
   "source": [
    "Notice that the loop does not interfere with the values in the list:"
   ]
  },
  {
   "cell_type": "code",
   "execution_count": null,
   "metadata": {},
   "outputs": [],
   "source": []
  },
  {
   "cell_type": "markdown",
   "metadata": {},
   "source": [
    "In fact this is a very important restriction on for loops: a for loop should\n",
    "not try to modify the sequence it is looping over, or you may get unexpected\n",
    "results!\n",
    "\n",
    "A very common pattern is to use the `range()` function to create a list of\n",
    "numbers to loop over:"
   ]
  },
  {
   "cell_type": "code",
   "execution_count": null,
   "metadata": {},
   "outputs": [],
   "source": [
    "total = 0\n",
    "for i in range(100000):\n",
    "    total += i\n",
    "print(total)"
   ]
  },
  {
   "cell_type": "markdown",
   "metadata": {},
   "source": [
    "__Example 5__ \n",
    "\n",
    "Solve the same problem (or finding zero's) with a `str` type instead of `int`:\n"
   ]
  },
  {
   "cell_type": "code",
   "execution_count": null,
   "metadata": {},
   "outputs": [],
   "source": [
    "num = 2**100\n",
    "count = 0\n",
    "\n",
    "\n",
    "print(count)"
   ]
  },
  {
   "cell_type": "markdown",
   "metadata": {},
   "source": [
    "__Example 6__ \n",
    "\n",
    "Solve the same problem (or finding zero's) using built-in functions, count() & str():"
   ]
  },
  {
   "cell_type": "code",
   "execution_count": null,
   "metadata": {},
   "outputs": [],
   "source": [
    "num = 2**100\n",
    "\n",
    "\n",
    "print(count)"
   ]
  },
  {
   "cell_type": "markdown",
   "metadata": {},
   "source": [
    "## __Challenge:__ \n",
    "### Which one is the fastest or most efficient algorithms above? \n",
    "    \n",
    "### Efficiency\n",
    "We can measure which solution is faster:"
   ]
  },
  {
   "cell_type": "markdown",
   "metadata": {},
   "source": [
    "(1) Using num % 10, num // 10"
   ]
  },
  {
   "cell_type": "code",
   "execution_count": null,
   "metadata": {},
   "outputs": [],
   "source": [
    "%%timeit\n",
    "num = 2**100\n",
    "count = 0\n",
    "\n"
   ]
  },
  {
   "cell_type": "markdown",
   "metadata": {},
   "source": [
    "(2) Using str() & for loop"
   ]
  },
  {
   "cell_type": "code",
   "execution_count": null,
   "metadata": {},
   "outputs": [],
   "source": [
    "%%timeit \n",
    "num = 2**100\n",
    "count = 0\n"
   ]
  },
  {
   "cell_type": "markdown",
   "metadata": {},
   "source": [
    "(3) Using str.count()"
   ]
  },
  {
   "cell_type": "code",
   "execution_count": null,
   "metadata": {},
   "outputs": [],
   "source": [
    "%%timeit \n",
    "num = 2**100\n"
   ]
  },
  {
   "cell_type": "markdown",
   "metadata": {},
   "source": [
    "The solution using built-in functions is four times faster than the __for__ loop solution which is 3 times faster than the __while__ loop solution.\n",
    "\n",
    "### Other notes\n",
    "* The `while` solution will not work for `num <= 0`\n",
    "* The `while` solution will not work for non-numerals (e.g, `num = \"Cola Zero is awesome!\"`)\n",
    "* The built-in solution is implemented in C internally. That is why it is faster."
   ]
  },
  {
   "cell_type": "markdown",
   "metadata": {},
   "source": [
    "Break and Continue\n",
    "------------------\n",
    "\n",
    "Both for and while statements can have the flow modified with the break and\n",
    "continue statements.\n",
    "\n",
    "If execution hits a continue statement, then the execution will jump\n",
    "immediately to the start of the next iteration of the loop.  This is useful if\n",
    "you want to skip occasional values:"
   ]
  },
  {
   "cell_type": "code",
   "execution_count": null,
   "metadata": {},
   "outputs": [],
   "source": [
    "values = [7, 6, 4, 7, 19, 2, 1]     # skip odd index \n",
    "\n"
   ]
  },
  {
   "cell_type": "markdown",
   "metadata": {},
   "source": [
    "The break statement halts the execution of the loop at that point and starts\n",
    "executing the following code:\n",
    "\n",
    "Print the comand list until it encounters 'stop'"
   ]
  },
  {
   "cell_type": "code",
   "execution_count": null,
   "metadata": {},
   "outputs": [],
   "source": [
    "command_list = ['start', 'process', 'process', 'process', 'stop', 'start', 'process', 'stop']\n",
    "\n",
    "while command_list:\n",
    "    command = command_list.pop(0)\n",
    "    if command == 'stop':\n",
    "        break\n",
    "    print(command)"
   ]
  },
  {
   "cell_type": "markdown",
   "metadata": {},
   "source": [
    "This example shows a common pattern using while loops and break statements.\n",
    "\n",
    "In many cases you can re-write a loop without needing continue or break\n",
    "statements, but using a continue or break makes things more readable.  For\n",
    "example, the previous example could be written as:"
   ]
  },
  {
   "cell_type": "code",
   "execution_count": null,
   "metadata": {},
   "outputs": [],
   "source": [
    "command_list = ['start', 'process', 'process', 'process', 'stop', 'start', 'process', 'stop']\n",
    "\n",
    "if command_list:\n",
    "    command = command_list.pop(0)\n",
    "while command != 'stop':\n",
    "    print(command)\n",
    "    if command_list:\n",
    "        command = command_list.pop(0)"
   ]
  },
  {
   "cell_type": "markdown",
   "metadata": {},
   "source": [
    "which removes the break at the expense of a great deal of clarity.\n",
    "\n",
    "Else Statements\n",
    "---------------\n",
    "\n",
    "Just like the if statement, both while and for loops can have else statements\n",
    "at the end.  These get executed if the loop terminates normally, but don't run\n",
    "if the loop terminates with a break.  For example, you might search a list for\n",
    "values less than 10 as follows:"
   ]
  },
  {
   "cell_type": "code",
   "execution_count": null,
   "metadata": {},
   "outputs": [],
   "source": [
    "values = [7, 6, 4, 7, 19, 2, 1]\n",
    "\n",
    "for x in values:\n",
    "    if x <= 10:\n",
    "        print('Found:', x)\n",
    "        break\n",
    "else:\n",
    "    print('All values greater than 10')"
   ]
  },
  {
   "cell_type": "markdown",
   "metadata": {},
   "source": [
    "so in this case we found 7 and the loop terminated with the `break`, so the else didn't execute.\n",
    "\n",
    "If all the numbers had been bigger:"
   ]
  },
  {
   "cell_type": "code",
   "execution_count": null,
   "metadata": {},
   "outputs": [],
   "source": [
    "values = [11, 12, 13, 100]\n",
    "\n",
    "for x in values:\n",
    "    if x <= 10:\n",
    "        print('Found:', x)\n",
    "        break\n",
    "else:\n",
    "    print('All values greater than 10')"
   ]
  },
  {
   "cell_type": "markdown",
   "metadata": {},
   "source": [
    "then the loop would have exited normally when it ran out of values, and the `else` is executed.\n",
    "\n",
    "Notice that the else is associated with the for statement, and not the if.\n",
    "Like the break and continue statements, you can re-write a loop so that it\n",
    "doesn't use an else, but having an else statement can result in cleaner, more\n",
    "readable code."
   ]
  },
  {
   "cell_type": "markdown",
   "metadata": {},
   "source": [
    "# Example : \n",
    "## Collatz Conjecture or Hailstone sequence\n",
    "\n",
    "The [Collatz Conjecture](http://en.wikipedia.org/wiki/Collatz_conjecture) (also known as the *3n+1* conjecture) is the conjecture that the following process is finite for every natural number:\n",
    "\n",
    "> Take any natural number n. If the number $n$ is even divide it by two ($n/2$), if it is odd, multiply it by 3 and add 1 ($3n+1$). Repeat this process untill you get the number 1.\n",
    "\n",
    "Note: The sequence of numbers involved is referred to as the __hailstone sequence__ or __hailstone numbers__ (because the values are usually subject to multiple descents and ascents like hailstones in a cloud), or as wondrous numbers.\n",
    "\n",
    "### Implementation\n",
    "We start with the \"Half Or Triple Plus One\" process:"
   ]
  },
  {
   "cell_type": "code",
   "execution_count": null,
   "metadata": {},
   "outputs": [],
   "source": [
    "m = 100 # integer to apply the conjecture on\n",
    "\n",
    "n = m\n",
    "\n",
    "\n",
    "\n",
    "\n",
    "print(1)             # since 1 was not printed\n",
    "print(m, \"is OK\")"
   ]
  },
  {
   "cell_type": "markdown",
   "metadata": {},
   "source": [
    "Next we add another loop that will run the conjecture check on a range of numbers:    "
   ]
  },
  {
   "cell_type": "code",
   "execution_count": null,
   "metadata": {},
   "outputs": [],
   "source": [
    "limit = 10\n",
    "m = 1\n",
    "while m <= limit:\n",
    "    n = m\n",
    "\n",
    "    \n",
    "    \n",
    "    print(m, \"is OK\")\n",
    "    m += 1"
   ]
  },
  {
   "cell_type": "markdown",
   "metadata": {},
   "source": [
    "When a loop goes over a simple range it is easier to use the range function with a for loop - and more robust against bugs:"
   ]
  },
  {
   "cell_type": "code",
   "execution_count": null,
   "metadata": {},
   "outputs": [],
   "source": [
    "for m in range(111, 98, -2):\n",
    "    print(m, end=\" \")"
   ]
  },
  {
   "cell_type": "code",
   "execution_count": 4,
   "metadata": {},
   "outputs": [
    {
     "name": "stdout",
     "output_type": "stream",
     "text": [
      "10 is OK\n",
      "11 is OK\n",
      "12 is OK\n",
      "13 is OK\n",
      "14 is OK\n",
      "15 is OK\n",
      "16 is OK\n",
      "17 is OK\n",
      "18 is OK\n",
      "19 is OK\n",
      "20 is OK\n"
     ]
    }
   ],
   "source": [
    "start, stop = 10, 20\n",
    "for m in range(start, stop + 1):\n",
    "    n = m\n",
    "    while n != 1:\n",
    "        if n % 2 == 0:\n",
    "            n = n // 2\n",
    "        else:\n",
    "            n = 3 * n + 1\n",
    "    print(m, \"is OK\")"
   ]
  },
  {
   "cell_type": "markdown",
   "metadata": {},
   "source": [
    "### Need a break? Click [here](http://xkcd.com/710/)?"
   ]
  },
  {
   "cell_type": "markdown",
   "metadata": {},
   "source": [
    "# Exercise: Collatz Conjecture\n",
    "\n",
    "Find a natural number between 10 and 20 that generates the most hailstone numbers."
   ]
  },
  {
   "cell_type": "code",
   "execution_count": null,
   "metadata": {},
   "outputs": [],
   "source": [
    "# your code here"
   ]
  },
  {
   "cell_type": "markdown",
   "metadata": {},
   "source": [
    "### Solution: conjecture.py"
   ]
  },
  {
   "cell_type": "code",
   "execution_count": null,
   "metadata": {},
   "outputs": [],
   "source": [
    "# %load conjecture.py\n",
    "#%%writefile conjecture.py\n",
    "# WhyNotPython ControlFlow Exercise - Conjecture \n",
    "# Find a natural number between 10 and 20 that generates the most hailstone numbers.\n",
    "# and the largest hailstone number, respectively. \n",
    "start, stop = 10, 20\n",
    "max_len = 0\n",
    "max_len_n = 0\n",
    "\n",
    "max_hail = 0\n",
    "max_hail_n = 0\n",
    "\n",
    "\n",
    "\n",
    "print(\"max_len_n  =\", max_len_n,  \"\\tmax_len =\", max_len)\n",
    "print(\"max_hail_n =\", max_hail_n, \"\\tmax_hail=\", max_hail)"
   ]
  },
  {
   "cell_type": "code",
   "execution_count": null,
   "metadata": {},
   "outputs": [],
   "source": [
    "%%writefile conjecture.py\n",
    "# WhyNotPython ControlFlow Exercise - Conjecture \n",
    "# Find a natural number between 10 and 20 that generates the most hailstone numbers.\n",
    "# and the largest hailstone number, respectively. \n",
    "start, stop = 10, 20\n",
    "max_len = 0\n",
    "max_len_n = 0\n",
    "\n",
    "\n",
    "print(\"max_len_n  =\", max_len_n,  \"\\tmax_len =\", max_len)\n",
    "print(\"max_hail_n =\", max_hail_n, \"\\tmax_hail=\", max_hail)"
   ]
  },
  {
   "cell_type": "markdown",
   "metadata": {},
   "source": [
    "# Challenge 1: Collatz Conjecture \n",
    "Fix the program above such that it can handle the cases which generate the same numbers of hailstones. If your program already handles those cases, then you already overcome the challenge.\n"
   ]
  },
  {
   "cell_type": "code",
   "execution_count": null,
   "metadata": {},
   "outputs": [],
   "source": [
    "# your code here"
   ]
  },
  {
   "cell_type": "markdown",
   "metadata": {},
   "source": [
    "# Challenge 2: Collatz Conjecture Plot\n",
    "\n",
    "Plot the hailstone numbers from 10 and 20. The x range is 0 through the length of hailstones. The y axis is the hailstone numbers. \n"
   ]
  },
  {
   "cell_type": "code",
   "execution_count": null,
   "metadata": {},
   "outputs": [],
   "source": [
    "# WhyNotPython ControlFlow Exercise - Conjecture Challenge 2\n",
    "# Plot the hailstone numbers from 10 and 20. \n",
    "# The x range is 0 through the length of hailstones. \n",
    "# The y axis is the hailstone numbers.\n",
    "\n",
    "%matplotlib inline\n",
    "import matplotlib.pyplot as plot\n",
    "\n",
    "#your code here\n"
   ]
  },
  {
   "cell_type": "markdown",
   "metadata": {},
   "source": [
    "### Solution: conjecture_ch2.py"
   ]
  },
  {
   "cell_type": "code",
   "execution_count": null,
   "metadata": {},
   "outputs": [],
   "source": [
    "import matplotlib.pyplot as plot\n",
    "plot?\n",
    "plot.legend?"
   ]
  },
  {
   "cell_type": "code",
   "execution_count": 5,
   "metadata": {},
   "outputs": [
    {
     "name": "stdout",
     "output_type": "stream",
     "text": [
      "[10, 5, 16, 8, 4, 2, 1]\n",
      "[11, 34, 17, 52, 26, 13, 40, 20, 10, 5, 16, 8, 4, 2, 1]\n",
      "[12, 6, 3, 10, 5, 16, 8, 4, 2, 1]\n",
      "[13, 40, 20, 10, 5, 16, 8, 4, 2, 1]\n",
      "[14, 7, 22, 11, 34, 17, 52, 26, 13, 40, 20, 10, 5, 16, 8, 4, 2, 1]\n",
      "[15, 46, 23, 70, 35, 106, 53, 160, 80, 40, 20, 10, 5, 16, 8, 4, 2, 1]\n"
     ]
    },
    {
     "data": {
      "text/plain": [
       "<matplotlib.legend.Legend at 0x23678370240>"
      ]
     },
     "execution_count": 5,
     "metadata": {},
     "output_type": "execute_result"
    },
    {
     "data": {
      "image/png": "[encoded data removed]",
      "text/plain": [
       "<matplotlib.figure.Figure at 0x23678370390>"
      ]
     },
     "metadata": {},
     "output_type": "display_data"
    }
   ],
   "source": [
    "# %load conjecture_ch2.py\n",
    "#%%file conjecture_ch2.py\n",
    "# WhyNotPython ControlFlow Exercise - Conjecture Challenge 2\n",
    "# Plot the hailstone numbers from 10 and 20. \n",
    "# The x range is 0 through the length of hailstones. \n",
    "# The y axis is the hailstone numbers.\n",
    "\n",
    "%matplotlib inline\n",
    "#from matplotlib.pyplot import plot\n",
    "import matplotlib.pyplot as plot\n",
    "\n",
    "start, stop = 10, 15\n",
    "for m in range(start, stop + 1):\n",
    "    hailstones = []\n",
    "    n = m\n",
    "    while n != 1:\n",
    "        hailstones.append(n)\n",
    "        #print(n, end=\", \")\n",
    "        if n % 2 == 0:\n",
    "            n = n // 2\n",
    "        else:\n",
    "            n = 3 * n + 1\n",
    "    hailstones.append(1)\n",
    "    print(hailstones)\n",
    "    plot.plot([x for x in range(len(hailstones))], hailstones, label=str(m))\n",
    "    \n",
    "plot.title(\"Collarz Conjecture Plot\")\n",
    "plot.ylabel(\"Hailstone numbers\")\n",
    "plot.legend() \n",
    "# plot.axis([0, 20, 0, 200])    # you can set xmax=20, ymax=200 dynamically"
   ]
  },
  {
   "cell_type": "code",
   "execution_count": 6,
   "metadata": {},
   "outputs": [
    {
     "name": "stdout",
     "output_type": "stream",
     "text": [
      "[10, 5, 16, 8, 4, 2, 1]\n",
      "[11, 34, 17, 52, 26, 13, 40, 20, 10, 5, 16, 8, 4, 2, 1]\n",
      "[12, 6, 3, 10, 5, 16, 8, 4, 2, 1]\n",
      "[13, 40, 20, 10, 5, 16, 8, 4, 2, 1]\n",
      "[14, 7, 22, 11, 34, 17, 52, 26, 13, 40, 20, 10, 5, 16, 8, 4, 2, 1]\n",
      "[15, 46, 23, 70, 35, 106, 53, 160, 80, 40, 20, 10, 5, 16, 8, 4, 2, 1]\n"
     ]
    },
    {
     "data": {
      "text/plain": [
       "<matplotlib.legend.Legend at 0x2367a66a898>"
      ]
     },
     "execution_count": 6,
     "metadata": {},
     "output_type": "execute_result"
    },
    {
     "data": {
      "image/png": "[encoded data removed]",
      "text/plain": [
       "<matplotlib.figure.Figure at 0x2367833cf60>"
      ]
     },
     "metadata": {},
     "output_type": "display_data"
    }
   ],
   "source": [
    "#%%file conjecture_ch2.py\n",
    "# WhyNotPython ControlFlow Exercise - Conjecture Challenge 2\n",
    "# Plot the hailstone numbers from 10 and 20. \n",
    "# The x range is 0 through the length of hailstones. \n",
    "# The y axis is the hailstone numbers.\n",
    "\n",
    "%matplotlib inline\n",
    "#from matplotlib.pyplot import plot\n",
    "import matplotlib.pyplot as plot\n",
    "\n",
    "start, stop = 10, 15\n",
    "for m in range(start, stop + 1):\n",
    "    hailstones = []\n",
    "    n = m\n",
    "    while n != 1:\n",
    "        hailstones.append(n)\n",
    "        #print(n, end=\", \")\n",
    "        if n % 2 == 0:\n",
    "            n = n // 2\n",
    "        else:\n",
    "            n = 3 * n + 1\n",
    "    hailstones.append(1)\n",
    "    print(hailstones)\n",
    "    plot.plot([x for x in range(len(hailstones))], hailstones, label=str(m))\n",
    "    \n",
    "plot.title(\"Collarz Conjecture Plot\")\n",
    "plot.ylabel(\"Hailstone numbers\")\n",
    "plot.legend() \n",
    "# plot.axis([0, 20, 0, 200])    # you can set xmax=20, ymax=200 dynamically"
   ]
  },
  {
   "cell_type": "code",
   "execution_count": 7,
   "metadata": {},
   "outputs": [
    {
     "name": "stdout",
     "output_type": "stream",
     "text": [
      "[10, 5, 16, 8, 4, 2, 1]\n",
      "[11, 34, 17, 52, 26, 13, 40, 20, 10, 5, 16, 8, 4, 2, 1]\n",
      "[12, 6, 3, 10, 5, 16, 8, 4, 2, 1]\n",
      "[13, 40, 20, 10, 5, 16, 8, 4, 2, 1]\n",
      "[14, 7, 22, 11, 34, 17, 52, 26, 13, 40, 20, 10, 5, 16, 8, 4, 2, 1]\n",
      "[15, 46, 23, 70, 35, 106, 53, 160, 80, 40, 20, 10, 5, 16, 8, 4, 2, 1]\n"
     ]
    },
    {
     "data": {
      "text/plain": [
       "<matplotlib.legend.Legend at 0x2367a269780>"
      ]
     },
     "execution_count": 7,
     "metadata": {},
     "output_type": "execute_result"
    },
    {
     "data": {
      "image/png": "[encoded data removed]",
      "text/plain": [
       "<matplotlib.figure.Figure at 0x2367a6576d8>"
      ]
     },
     "metadata": {},
     "output_type": "display_data"
    }
   ],
   "source": [
    "#%%file conjecture_ch2.py\n",
    "# WhyNotPython ControlFlow Exercise - Conjecture Challenge 2\n",
    "# Plot the hailstone numbers from 10 and 20. \n",
    "# The x range is 0 through the length of hailstones. \n",
    "# The y axis is the hailstone numbers.\n",
    "\n",
    "%matplotlib inline\n",
    "#from matplotlib.pyplot import plot\n",
    "import matplotlib.pyplot as plot\n",
    "\n",
    "start, stop = 10, 15\n",
    "for m in range(start, stop + 1):\n",
    "    hailstones = []\n",
    "    n = m\n",
    "    while n != 1:\n",
    "        hailstones.append(n)\n",
    "        #print(n, end=\", \")\n",
    "        if n % 2 == 0:\n",
    "            n = n // 2\n",
    "        else:\n",
    "            n = 3 * n + 1\n",
    "    hailstones.append(1)\n",
    "    print(hailstones)\n",
    "    plot.plot([x for x in range(len(hailstones))], hailstones, label=str(m))\n",
    "    \n",
    "plot.title(\"Collarz Conjecture Plot\")\n",
    "plot.ylabel(\"Hailstone numbers\")\n",
    "plot.legend() \n",
    "# plot.axis([0, 20, 0, 200])    # you can set xmax=20, ymax=200 dynamically"
   ]
  },
  {
   "cell_type": "markdown",
   "metadata": {},
   "source": [
    "# Exercise: Perfect numbers\n",
    "\n",
    "Implement a function called is_perfect() which takes an integer number and returns True if and only if n equals the sum of its divisors. A perfect number is a number that is equal to the sum of its divisors:\n",
    "\n",
    "__NOTE:__ Get your copy of Lec05ExPerfectNum.ipynb from Dropbox folder or Piazza."
   ]
  },
  {
   "cell_type": "markdown",
   "metadata": {},
   "source": [
    "# More Exercises\n",
    "\n",
    "* FizzBuzz\n",
    "* filter words\n",
    "* dna translation\n",
    "* inventory\n",
    "* prime numbers\n"
   ]
  },
  {
   "cell_type": "markdown",
   "metadata": {},
   "source": [
    "----------\n",
    "__우리가 아직 죄인되었을 때에 그리스도께서 우리를 위하여 죽으심으로 하나님께서 우리에 대한 자기의 사랑을 확증하셨느니라__ 롬5:9"
   ]
  },
  {
   "cell_type": "code",
   "execution_count": null,
   "metadata": {},
   "outputs": [],
   "source": []
  }
 ],
 "metadata": {
  "kernelspec": {
   "display_name": "Python 3",
   "language": "python",
   "name": "python3"
  },
  "language_info": {
   "codemirror_mode": {
    "name": "ipython",
    "version": 3
   },
   "file_extension": ".py",
   "mimetype": "text/x-python",
   "name": "python",
   "nbconvert_exporter": "python",
   "pygments_lexer": "ipython3",
   "version": "3.7.1"
  }
 },
 "nbformat": 4,
 "nbformat_minor": 1
}
