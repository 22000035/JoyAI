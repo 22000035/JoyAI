{
 "cells": [
  {
   "cell_type": "markdown",
   "metadata": {},
   "source": [
    "# Welcome to \"CrushPython\"\n",
    "\n",
    "__But God demonstrates his own love for us in this: While we were still sinners, Christ died for us.__ Romans 5:9\n",
    "\n",
    "--------"
   ]
  },
  {
   "cell_type": "markdown",
   "metadata": {},
   "source": [
    "\n",
    "        "
   ]
  },
  {
   "cell_type": "markdown",
   "metadata": {},
   "source": [
    "# Lesson - Control Flow\n",
    "\n",
    "-------\n",
    "It is very important to control the program execution because in reality the situations are full of conditions and if you want your program to work with the real world closer, then you need to transform the reality into your program - another form of an abstration. That is the reason you need to control the flow of the program execution. It is commonly known as __control flow__ in programming terms.\n",
    "Python has several constructs for controlling the flow of your program.  The first one we will look at is the if statement. \n",
    "\n",
    "## If Statement\n",
    "The basic construct of control flow is \"if\" statements. \"if\" construct in Python works just like one in all other programming languages. It is just a matter of different syntax and a unique identations. It is very intuitive.  Let's learn it through a few examples.\n",
    "\n",
    "The simplest form of the if statement looks like this:"
   ]
  },
  {
   "cell_type": "code",
   "execution_count": null,
   "metadata": {},
   "outputs": [],
   "source": [
    "x = 0.5\n",
    "if None:\n",
    "    print(\"x is positive\")"
   ]
  },
  {
   "cell_type": "markdown",
   "metadata": {},
   "source": [
    "The block ends when Python encounters a line of code which is indented at the original level:"
   ]
  },
  {
   "cell_type": "code",
   "execution_count": null,
   "metadata": {},
   "outputs": [],
   "source": [
    "if None:\n",
    "    print(\"x is positive\")\n",
    "    print(\"inside if block\")\n",
    "print(\"This isn't part of the block, and will always print.\")"
   ]
  },
  {
   "cell_type": "markdown",
   "metadata": {},
   "source": [
    "If we change the value of x to a negative number and run the same code:"
   ]
  },
  {
   "cell_type": "code",
   "execution_count": null,
   "metadata": {},
   "outputs": [],
   "source": [
    "x = None\n",
    "if x > 0:\n",
    "    print(\"x is positive\")\n",
    "    print(\"inside if block\")\n",
    "print(\"This isn't part of the block, and will always print.\")"
   ]
  },
  {
   "cell_type": "markdown",
   "metadata": {},
   "source": [
    "Sometimes there may be a number of different possibilities, and you want to do a different thing in each possible case. The if statement can have additional blocks associated with it via the elif and else clauses:"
   ]
  },
  {
   "cell_type": "code",
   "execution_count": null,
   "metadata": {},
   "outputs": [],
   "source": [
    "x = 0\n",
    "if x > 0:\n",
    "    print(\"x is positive\")\n",
    "elif None:\n",
    "    print(\"x is zero\")\n",
    "else:\n",
    "    print(\"x is negative\")"
   ]
  },
  {
   "cell_type": "code",
   "execution_count": 1,
   "metadata": {},
   "outputs": [
    {
     "name": "stdout",
     "output_type": "stream",
     "text": [
      "x is greater than 1\n"
     ]
    }
   ],
   "source": [
    "x = 1.5\n",
    "if x > 1:\n",
    "    print(\"x is greater than 1\")\n",
    "elif x >= 0:\n",
    "    print(\"x is non-negative\")"
   ]
  },
  {
   "cell_type": "markdown",
   "metadata": {},
   "source": [
    "Modify the code above such that it prints lines below:\n",
    "For x = 2\n",
    "```\n",
    "x is greater than 1\n",
    "x is non-negative\n",
    "```\n",
    "For x = 0.5\n",
    "```\n",
    "x is non-negative\n",
    "```"
   ]
  },
  {
   "cell_type": "code",
   "execution_count": 2,
   "metadata": {},
   "outputs": [
    {
     "name": "stdout",
     "output_type": "stream",
     "text": [
      "x is greater than 1\n",
      "x is non-negative\n"
     ]
    }
   ],
   "source": [
    "x = 2\n",
    "None:\n",
    "    print(\"x is greater than 1\")\n",
    "None:\n",
    "    print(\"x is non-negative\")"
   ]
  },
  {
   "cell_type": "code",
   "execution_count": null,
   "metadata": {},
   "outputs": [],
   "source": [
    "x = 0.5\n",
    "None:\n",
    "    print(\"x is greater than 1\")\n",
    "None:\n",
    "    print(\"x is non-negative\")"
   ]
  },
  {
   "cell_type": "markdown",
   "metadata": {},
   "source": [
    "An example of the nested if statements:"
   ]
  },
  {
   "cell_type": "code",
   "execution_count": null,
   "metadata": {},
   "outputs": [],
   "source": [
    "if x >= 0:\n",
    "    if x > 1:\n",
    "        print(\"x is greater than 1\")\n",
    "    print(\"x is non-negative\")"
   ]
  },
  {
   "cell_type": "markdown",
   "metadata": {},
   "source": [
    "Looping\n",
    "=======\n",
    "\n",
    "When programming, you want to be able to repeatedly execute chunks of code without having to manually duplicate the code. Python implements a number of looping constructs, and in this lecture we'll discuss the __while__ loop and the __for__ loop.\n",
    "\n",
    "While loop\n",
    "----------\n",
    "\n",
    "```\n",
    "while <condition>:\n",
    "    <statements>\n",
    "```    \n",
    "__Example__ - count how many times 0 appears in an integer number:\n"
   ]
  },
  {
   "cell_type": "code",
   "execution_count": null,
   "metadata": {},
   "outputs": [],
   "source": [
    "num = 2**100\n",
    "print(num)"
   ]
  },
  {
   "cell_type": "code",
   "execution_count": null,
   "metadata": {},
   "outputs": [],
   "source": [
    "count = 0\n",
    "\n",
    "while num > 0:   # what if we changed to >=0?\n",
    "    if num None 10 == 0:\n",
    "        count = count + 1\n",
    "    num = num None 10\n",
    "\n",
    "print(count)"
   ]
  },
  {
   "cell_type": "markdown",
   "metadata": {},
   "source": [
    "\n",
    "\n",
    "For loop\n",
    "--------\n",
    "\n",
    "The other type of looping statement that is available is the for loop.  The\n",
    "for loop is designed to loop over sequences, like lists, sets, dictionaries,\n",
    "and even strings.  The for statement has the form:\n",
    "\n",
    "    for <variable> in <sequence>:\n",
    "        <indented block of code>\n",
    "\n",
    "The variable is given each element of the sequence in turn, and then the block\n",
    "of code is executed with the variable referring to that element:"
   ]
  },
  {
   "cell_type": "markdown",
   "metadata": {
    "collapsed": true
   },
   "source": [
    "Use 'for' and 'iterable' to list plays"
   ]
  },
  {
   "cell_type": "code",
   "execution_count": 7,
   "metadata": {},
   "outputs": [
    {
     "name": "stdout",
     "output_type": "stream",
     "text": [
      "red orange yellow green blue indigo violet "
     ]
    }
   ],
   "source": [
    "# print cplors in one line \n",
    "# red orange yellow green blue indigo violet\n",
    "rainbow = ['red', 'orange', 'yellow', 'green', 'blue', 'indigo', 'violet']\n",
    "for color in rainbow:\n",
    "    print(None)"
   ]
  },
  {
   "cell_type": "markdown",
   "metadata": {},
   "source": [
    "Enumerating elements in the list\n",
    "-----------------\n",
    "\n",
    "Print rainbow colors as shown below:\n",
    "```\n",
    "1 red\n",
    "2 orange\n",
    "3 yellow\n",
    "4 green\n",
    "5 blue\n",
    "6 indigo\n",
    "7 violet\n",
    "```"
   ]
  },
  {
   "cell_type": "code",
   "execution_count": 8,
   "metadata": {},
   "outputs": [
    {
     "name": "stdout",
     "output_type": "stream",
     "text": [
      "1 red\n",
      "2 orange\n",
      "3 yellow\n",
      "4 green\n",
      "5 blue\n",
      "6 indigo\n",
      "7 violet\n"
     ]
    }
   ],
   "source": [
    "for i, color in None:\n",
    "    print(None)"
   ]
  },
  {
   "cell_type": "markdown",
   "metadata": {},
   "source": [
    "Notice that the loop does not interfere with the values in the list:"
   ]
  },
  {
   "cell_type": "code",
   "execution_count": null,
   "metadata": {},
   "outputs": [],
   "source": [
    "print(rainbow)"
   ]
  },
  {
   "cell_type": "markdown",
   "metadata": {},
   "source": [
    "In fact this is a very important restriction on for loops: a for loop should\n",
    "not try to modify the sequence it is looping over, or you may get unexpected\n",
    "results!\n",
    "\n",
    "A very common pattern is to use the `range()` function to create a list of\n",
    "numbers to loop over:"
   ]
  },
  {
   "cell_type": "code",
   "execution_count": null,
   "metadata": {},
   "outputs": [],
   "source": [
    "total = 0\n",
    "for i in range(1000):\n",
    "    total += i\n",
    "print(total)"
   ]
  },
  {
   "cell_type": "markdown",
   "metadata": {},
   "source": [
    "__Example__ - solve the same problem (or finding zero's) with a `str` type instead of `int`:\n"
   ]
  },
  {
   "cell_type": "code",
   "execution_count": 7,
   "metadata": {},
   "outputs": [
    {
     "name": "stdout",
     "output_type": "stream",
     "text": [
      "6\n"
     ]
    }
   ],
   "source": [
    "num = 2**100\n",
    "count = 0\n",
    "for digit in None:\n",
    "    #print(digit, type(digit))\n",
    "    if None:\n",
    "        count = count + 1     \n",
    "print(count)"
   ]
  },
  {
   "cell_type": "markdown",
   "metadata": {},
   "source": [
    "__Example__ - solve the same problem (or finding zero's) using built-in functions:count() & str():"
   ]
  },
  {
   "cell_type": "code",
   "execution_count": 6,
   "metadata": {},
   "outputs": [
    {
     "name": "stdout",
     "output_type": "stream",
     "text": [
      "6\n"
     ]
    }
   ],
   "source": [
    "num = 2**100\n",
    "count = None\n",
    "print(count)"
   ]
  },
  {
   "cell_type": "markdown",
   "metadata": {},
   "source": [
    "# __Challenge:__ \n",
    "Which one is the fastest or most efficient algorithms above? \n",
    "    \n",
    "### Efficiency\n",
    "We can measure which solution is faster:"
   ]
  },
  {
   "cell_type": "markdown",
   "metadata": {},
   "source": [
    "(1) Using num % 10, num // 10"
   ]
  },
  {
   "cell_type": "code",
   "execution_count": 8,
   "metadata": {},
   "outputs": [
    {
     "name": "stdout",
     "output_type": "stream",
     "text": [
      "4.94 µs ± 141 ns per loop (mean ± std. dev. of 7 runs, 100000 loops each)\n"
     ]
    }
   ],
   "source": [
    "%%timeit\n",
    "num = 2**100\n",
    "count = 0\n",
    "while num > 0:   #what if we changed to >=0?\n",
    "    if num % 10 == 0:\n",
    "        count = count + 1\n",
    "    num = num // 10"
   ]
  },
  {
   "cell_type": "markdown",
   "metadata": {},
   "source": [
    "(2) Using str() & for loop"
   ]
  },
  {
   "cell_type": "code",
   "execution_count": 9,
   "metadata": {},
   "outputs": [
    {
     "name": "stdout",
     "output_type": "stream",
     "text": [
      "1.8 µs ± 41.5 ns per loop (mean ± std. dev. of 7 runs, 1000000 loops each)\n"
     ]
    }
   ],
   "source": [
    "%%timeit \n",
    "num = 2**100\n",
    "count = 0\n",
    "for digit in str(num):\n",
    "    if digit == \"0\":\n",
    "        count = count + 1"
   ]
  },
  {
   "cell_type": "markdown",
   "metadata": {},
   "source": [
    "(3) Using str.count()"
   ]
  },
  {
   "cell_type": "code",
   "execution_count": 10,
   "metadata": {},
   "outputs": [
    {
     "name": "stdout",
     "output_type": "stream",
     "text": [
      "865 ns ± 16.8 ns per loop (mean ± std. dev. of 7 runs, 1000000 loops each)\n"
     ]
    }
   ],
   "source": [
    "%%timeit \n",
    "num = 2**100\n",
    "count = str.count(str(num), \"0\")"
   ]
  },
  {
   "cell_type": "markdown",
   "metadata": {},
   "source": [
    "The solution using built-in functions is four times faster than the __for__ loop solution which is 3 times faster than the __while__ loop solution."
   ]
  },
  {
   "cell_type": "markdown",
   "metadata": {},
   "source": [
    "Loop control flow: continue and break\n",
    "------------------\n",
    "\n",
    "Another instruction used to control the loop execution is `continue`. If Python interpreter meets `continue` somewhere in the middle of the loop iteration, it skips all the remaining instructions and proceeds to the next iteration."
   ]
  },
  {
   "cell_type": "code",
   "execution_count": 10,
   "metadata": {},
   "outputs": [
    {
     "name": "stdout",
     "output_type": "stream",
     "text": [
      "Found an even number 2\n",
      "Found a number 3\n",
      "Found an even number 4\n",
      "Found a number 5\n",
      "Found an even number 6\n",
      "Found a number 7\n",
      "Found an even number 8\n",
      "Found a number 9\n"
     ]
    }
   ],
   "source": [
    "for num in range(2, 10):\n",
    "    if num % 2 == 0:\n",
    "        print(\"Found an even number\", num)\n",
    "        None\n",
    "    print(\"Found a number\", num)"
   ]
  },
  {
   "cell_type": "markdown",
   "metadata": {},
   "source": [
    "If the break and continue are placed inside several nested loops, they affect only the execution of the innermost one. Let's look at rather silly example to demonstrate it:\n"
   ]
  },
  {
   "cell_type": "code",
   "execution_count": 11,
   "metadata": {},
   "outputs": [
    {
     "name": "stdout",
     "output_type": "stream",
     "text": [
      "0 0\n",
      "1 0\n",
      "1 1\n",
      "2 0\n",
      "2 1\n",
      "2 2\n"
     ]
    }
   ],
   "source": [
    "for i in range(3):\n",
    "    for j in range(5):\n",
    "        if j > i:\n",
    "            # breaks only the for on line 2\n",
    "            None\n",
    "        print(i, j)"
   ]
  },
  {
   "cell_type": "markdown",
   "metadata": {},
   "source": [
    "The instructions break and continue are __discouraged__, if you can implement your idea without using them. Here is a typical example of a bad usage of the break: this code counts the number of digits in an integer.\n"
   ]
  },
  {
   "cell_type": "code",
   "execution_count": 14,
   "metadata": {},
   "outputs": [
    {
     "name": "stdout",
     "output_type": "stream",
     "text": [
      "12345\n",
      "Length is 5\n"
     ]
    }
   ],
   "source": [
    "n = int(input())\n",
    "length = 0\n",
    "while True:\n",
    "    length += 1\n",
    "    None\n",
    "    if n == 0:\n",
    "        break\n",
    "print('Length is', length)"
   ]
  },
  {
   "cell_type": "markdown",
   "metadata": {},
   "source": [
    "It's cleaner and easier-to-read to rewrite this loop with a meaningful loop condition:"
   ]
  },
  {
   "cell_type": "code",
   "execution_count": null,
   "metadata": {},
   "outputs": [],
   "source": [
    "n = int(input())\n",
    "length = 0\n",
    "while n != 0:\n",
    "    length += 1\n",
    "    None\n",
    "print('Length is', length)"
   ]
  },
  {
   "cell_type": "markdown",
   "metadata": {},
   "source": [
    "In Python, there is an easier way to solve this problem: "
   ]
  },
  {
   "cell_type": "code",
   "execution_count": null,
   "metadata": {},
   "outputs": [],
   "source": [
    "n = int(input())\n",
    "length = None"
   ]
  },
  {
   "cell_type": "markdown",
   "metadata": {},
   "source": [
    "\n",
    "Else Statements\n",
    "---------------\n",
    "\n",
    "One can write an else: statement after a loop body which is executed `once` after the end of the loop: \n",
    "\n",
    "For example, you might search a list for values less than 10 as follows:"
   ]
  },
  {
   "cell_type": "code",
   "execution_count": 12,
   "metadata": {},
   "outputs": [
    {
     "name": "stdout",
     "output_type": "stream",
     "text": [
      "Found: 7\n"
     ]
    }
   ],
   "source": [
    "values = [7, 6, 4, 7, 19, 2, 1]\n",
    "\n",
    "for x in values:\n",
    "    if x <= 10:\n",
    "        print('Found:', x)\n",
    "        break\n",
    "else:\n",
    "    print('All values greater than 10')"
   ]
  },
  {
   "cell_type": "markdown",
   "metadata": {},
   "source": [
    "so in this case we found 7 and the loop terminated with the `break`, so the else didn't execute.\n",
    "\n",
    "If all the numbers had been bigger:"
   ]
  },
  {
   "cell_type": "code",
   "execution_count": 13,
   "metadata": {},
   "outputs": [
    {
     "name": "stdout",
     "output_type": "stream",
     "text": [
      "All values greater than 10\n"
     ]
    }
   ],
   "source": [
    "values = [11, 12, 13, 100]\n",
    "\n",
    "for x in values:\n",
    "    if x <= 10:\n",
    "        print('Found:', x)\n",
    "        break\n",
    "else:\n",
    "    print('All values greater than 10')"
   ]
  },
  {
   "cell_type": "markdown",
   "metadata": {},
   "source": [
    "then the loop would have exited normally when it ran out of values, and the `else` is executed.\n",
    "\n",
    "Notice that the else is associated with the for statement, and not the if.\n",
    "Like the break and continue statements, you can re-write a loop so that it\n",
    "doesn't use an else, but having an else statement can result in cleaner, more\n",
    "readable code."
   ]
  },
  {
   "cell_type": "markdown",
   "metadata": {},
   "source": [
    "# Example : "
   ]
  },
  {
   "cell_type": "markdown",
   "metadata": {},
   "source": [
    "Black Jack\n",
    "----------------\n",
    "\n",
    "__OBJECT OF THE GAME:__ Each participant attempts to beat the dealer by getting a count as close to 21 as possible, without going over 21.\n",
    "\n",
    "A program that reads numbers and sums it until the total gets greater or equal to 21. The input sequence ends with 0 for the program to be able to stop even if the total sum of all numbers is less than 21.\n",
    "\n",
    "Let's see how it behaves on the different inputs.\n",
    "\n",
    "__Version 1.__ The loop is exited normally after checking the condition,  so the \"else\" branch is executed.\n"
   ]
  },
  {
   "cell_type": "code",
   "execution_count": 10,
   "metadata": {
    "scrolled": true
   },
   "outputs": [
    {
     "name": "stdout",
     "output_type": "stream",
     "text": [
      "11\n",
      "hit(1~13) or stand(0): 10\n",
      "Game is over: Your score is 21\n",
      "Congrat! You won the game.\n"
     ]
    }
   ],
   "source": [
    "score = 0\n",
    "a = int(input())\n",
    "while a != 0:       # 0 means stand(not ask for another card)\n",
    "    score += a\n",
    "    if None:\n",
    "        print('Game is over: Your score is', score)\n",
    "        if (score == 21):\n",
    "            print('Congrat! You won the game.')\n",
    "        break\n",
    "    a = int(input(\"hit(1~13) or stand(0): \"))     # hit or stand\n",
    "else:\n",
    "    print('Your score is', score)"
   ]
  },
  {
   "cell_type": "markdown",
   "metadata": {},
   "source": [
    "__Version 2.__ Using random number generation in python. User just simply say 0 for stand, 1 for hit. The dealer deals the cards based on user's order."
   ]
  },
  {
   "cell_type": "code",
   "execution_count": 12,
   "metadata": {},
   "outputs": [
    {
     "name": "stdout",
     "output_type": "stream",
     "text": [
      "Your first card is  3\n",
      "hit(1) or stand(0): 1\n",
      "Your additional card is  10\n",
      "hit(1) or stand(0): 1\n",
      "Your additional card is  13\n",
      "Game is over: Your score is 26\n",
      "Your score is 26\n"
     ]
    }
   ],
   "source": [
    "import random\n",
    "random.seed(1)\n",
    "score = 0\n",
    "a = random.randint(1, 13)\n",
    "print('Your first card is ', a)\n",
    "while a != 0:       # 0 means stand(not ask for another card)\n",
    "    score += a\n",
    "    if score >= 21:\n",
    "        print('Game is over: Your score is', score)\n",
    "        if (score == 21):\n",
    "            print('Congrat! You won the game.')\n",
    "        break\n",
    "    a = int(input(\"hit(1) or stand(0): \"))     # hit or stand\n",
    "    if a != 0:\n",
    "        a = random.randint(1, 13)\n",
    "        print('Your additional card is ', a)\n",
    "\n",
    "print('Your score is', score)"
   ]
  },
  {
   "cell_type": "markdown",
   "metadata": {},
   "source": [
    "\n",
    "Hailstone sequence\n",
    "----------------------------\n",
    "\n",
    "Let us define a sequence call hailstone of the process is finite for every natural number as shown below:\n",
    "\n",
    "> Take any natural number n. If the number $n$ is even divide it by two ($n//2$), if it is odd, multiply it by 3 and add 1 ($3n+1$). Repeat this process untill you get the number 1.\n",
    "\n",
    "Note: The sequence of numbers involved is referred to as the __hailstone sequence__ or __hailstone numbers__ (because the values are usually subject to multiple descents and ascents like hailstones in a cloud), or as wondrous numbers.\n",
    "\n",
    "### Implementation\n",
    "We start with the \"Half Or Triple Plus One\" process:"
   ]
  },
  {
   "cell_type": "code",
   "execution_count": 12,
   "metadata": {},
   "outputs": [
    {
     "name": "stdout",
     "output_type": "stream",
     "text": [
      "30, 15, 46, 23, 70, 35, 106, 53, 160, 80, 40, 20, 10, 5, 16, 8, 4, 2, 1\n",
      "30 is OK\n"
     ]
    }
   ],
   "source": [
    "m = 30 # integer to apply the conjecture on\n",
    "\n",
    "n = m\n",
    "while n != 1:\n",
    "    print(n, end=\", \")\n",
    "    if n % 2 == 0:\n",
    "        None\n",
    "    else:\n",
    "        None\n",
    "print(1)                     # since 1 was not printed\n",
    "print(m, \"is OK\")"
   ]
  },
  {
   "cell_type": "markdown",
   "metadata": {},
   "source": [
    "Next we add another loop that will run the conjecture check on a range of numbers:    "
   ]
  },
  {
   "cell_type": "code",
   "execution_count": 13,
   "metadata": {},
   "outputs": [
    {
     "name": "stdout",
     "output_type": "stream",
     "text": [
      "1 sum = 1\n",
      "2 1 sum = 3\n",
      "3 10 5 16 8 4 2 1 sum = 49\n",
      "4 2 1 sum = 7\n",
      "5 16 8 4 2 1 sum = 36\n",
      "6 3 10 5 16 8 4 2 1 sum = 55\n",
      "7 22 11 34 17 52 26 13 40 20 10 5 16 8 4 2 1 sum = 288\n",
      "8 4 2 1 sum = 15\n",
      "9 28 14 7 22 11 34 17 52 26 13 40 20 10 5 16 8 4 2 1 sum = 339\n",
      "10 5 16 8 4 2 1 sum = 46\n"
     ]
    }
   ],
   "source": [
    "limit = 10\n",
    "m = 1\n",
    "while m <= limit:\n",
    "    n = m\n",
    "    while n != 1:\n",
    "        print(n, end=' ')\n",
    "        if n % 2 == 0:\n",
    "            n = n // 2\n",
    "        else:\n",
    "            n = 3 * n + 1\n",
    "    print(1)\n",
    "    m += 1"
   ]
  },
  {
   "cell_type": "markdown",
   "metadata": {},
   "source": [
    "When a loop goes over a simple range it is easier to use the range function with a for loop - and more robust against bugs:"
   ]
  },
  {
   "cell_type": "code",
   "execution_count": 14,
   "metadata": {},
   "outputs": [
    {
     "name": "stdout",
     "output_type": "stream",
     "text": [
      "111 109 107 105 103 101 99 "
     ]
    }
   ],
   "source": [
    "for m in range(111, 98, -2):\n",
    "    print(m, end=\" \")"
   ]
  },
  {
   "cell_type": "code",
   "execution_count": 15,
   "metadata": {},
   "outputs": [
    {
     "name": "stdout",
     "output_type": "stream",
     "text": [
      "10 is OK\n",
      "11 is OK\n",
      "12 is OK\n",
      "13 is OK\n",
      "14 is OK\n",
      "15 is OK\n",
      "16 is OK\n",
      "17 is OK\n",
      "18 is OK\n",
      "19 is OK\n",
      "20 is OK\n"
     ]
    }
   ],
   "source": [
    "start, stop = 10, 20\n",
    "for m in range(start, stop + 1):\n",
    "    n = m\n",
    "    while n != 1:\n",
    "        if n % 2 == 0:\n",
    "            n = n // 2\n",
    "        else:\n",
    "            n = 3 * n + 1\n",
    "    print(m, \"is OK\")"
   ]
  },
  {
   "cell_type": "markdown",
   "metadata": {},
   "source": [
    "# Exercise: Hailstones\n",
    "\n",
    "Find a natural number between 10 and 20 that generates the most hailstone numbers.\n",
    "Find a natural number between 10 and 20 that generates the largest hailstone number."
   ]
  },
  {
   "cell_type": "markdown",
   "metadata": {},
   "source": [
    "### Solution: conjecture.py"
   ]
  },
  {
   "cell_type": "code",
   "execution_count": 17,
   "metadata": {},
   "outputs": [
    {
     "name": "stdout",
     "output_type": "stream",
     "text": [
      "20 : len= 7 \t max= 16\n",
      "21 : len= 7 \t max= 64\n",
      "22 : len= 15 \t max= 52\n",
      "23 : len= 15 \t max= 160\n",
      "24 : len= 10 \t max= 16\n",
      "25 : len= 23 \t max= 88\n",
      "26 : len= 10 \t max= 40\n",
      "27 : len= 111 \t max= 9232\n",
      "28 : len= 18 \t max= 52\n",
      "29 : len= 18 \t max= 88\n",
      "30 : len= 18 \t max= 160\n",
      "max_len_n  = 27 \tmax_len = 111\n",
      "max_hail_n = 27 \tmax_hail= 9232\n"
     ]
    }
   ],
   "source": [
    "# %load conjecture.py\n",
    "#%%writefile conjecture.py\n",
    "# WhyNotPython ControlFlow Exercise - Conjecture \n",
    "# Find a natural number between 10 and 20 that generates the most hailstone numbers.\n",
    "# and the largest hailstone number, respectively. \n",
    "start, stop = 20, 30\n",
    "max_len = 0\n",
    "max_len_n = 0\n",
    "\n",
    "max_hail = 0\n",
    "max_hail_n = 0\n",
    "\n",
    "for m in range(start, stop + 1):\n",
    "    n = m\n",
    "    hailstones = []\n",
    "    while n != 1:\n",
    "        if n % 2 == 0:\n",
    "            n = n // 2\n",
    "        else:\n",
    "            n = 3 * n + 1\n",
    "        hailstones.append(n)\n",
    "    if len(hailstones) > max_len:\n",
    "        max_len = len(hailstones)\n",
    "        max_len_n = m\n",
    "    if max(hailstones) > max_hail:\n",
    "        max_hail = max(hailstones)\n",
    "        max_hail_n = m\n",
    "    print(m, \": len=\", len(hailstones), \"\\t max=\", max(hailstones))\n",
    "\n",
    "print(\"max_len_n  =\", max_len_n,  \"\\tmax_len =\", max_len)\n",
    "print(\"max_hail_n =\", max_hail_n, \"\\tmax_hail=\", max_hail)"
   ]
  },
  {
   "cell_type": "code",
   "execution_count": 18,
   "metadata": {},
   "outputs": [
    {
     "name": "stdout",
     "output_type": "stream",
     "text": [
      "10 is OK, len= 6 ,\t max_hail= 16\n",
      "11 is OK, len= 14 ,\t max_hail= 52\n",
      "12 is OK, len= 9 ,\t max_hail= 16\n",
      "13 is OK, len= 9 ,\t max_hail= 40\n",
      "14 is OK, len= 17 ,\t max_hail= 52\n",
      "15 is OK, len= 17 ,\t max_hail= 160\n",
      "16 is OK, len= 4 ,\t max_hail= 8\n",
      "17 is OK, len= 12 ,\t max_hail= 52\n",
      "18 is OK, len= 20 ,\t max_hail= 52\n",
      "19 is OK, len= 20 ,\t max_hail= 88\n",
      "20 is OK, len= 7 ,\t max_hail= 16\n",
      "21 is OK, len= 7 ,\t max_hail= 64\n",
      "22 is OK, len= 15 ,\t max_hail= 52\n",
      "23 is OK, len= 15 ,\t max_hail= 160\n",
      "24 is OK, len= 10 ,\t max_hail= 16\n",
      "25 is OK, len= 23 ,\t max_hail= 88\n",
      "26 is OK, len= 10 ,\t max_hail= 40\n",
      "27 is OK, len= 111 ,\t max_hail= 9232\n",
      "28 is OK, len= 18 ,\t max_hail= 52\n",
      "29 is OK, len= 18 ,\t max_hail= 88\n",
      "30 is OK, len= 18 ,\t max_hail= 160\n",
      "max_len_n  = 27 \tmax_len = 111\n",
      "max_hail_n = 27 \tmax_hail= 9232\n"
     ]
    }
   ],
   "source": [
    "#%%writefile conjecture.py\n",
    "# WhyNotPython ControlFlow Exercise - Conjecture \n",
    "# Find a natural number between 10 and 20 that generates the most hailstone numbers.\n",
    "# and the largest hailstone number, respectively. \n",
    "start, stop = 10, 30\n",
    "max_len = 0\n",
    "max_len_n = 0\n",
    "\n",
    "max_hail = 0\n",
    "max_hail_n = 0\n",
    "\n",
    "for m in range(start, stop + 1):\n",
    "    n = m\n",
    "    hailstones = []\n",
    "    while n != 1:\n",
    "        if n % 2 == 0:\n",
    "            n = n // 2\n",
    "        else:\n",
    "            n = 3 * n + 1\n",
    "        hailstones.append(n)\n",
    "    if len(hailstones) > max_len:\n",
    "        max_len = len(hailstones)\n",
    "        max_len_n = m\n",
    "    if max(hailstones) > max_hail:\n",
    "        max_hail = max(hailstones)\n",
    "        max_hail_n = m\n",
    "    print(m, \"is OK, len=\", len(hailstones), \",\\t max_hail=\", max(hailstones))\n",
    "\n",
    "print(\"max_len_n  =\", max_len_n,  \"\\tmax_len =\", max_len)\n",
    "print(\"max_hail_n =\", max_hail_n, \"\\tmax_hail=\", max_hail)"
   ]
  },
  {
   "cell_type": "code",
   "execution_count": null,
   "metadata": {},
   "outputs": [],
   "source": []
  },
  {
   "cell_type": "markdown",
   "metadata": {},
   "source": [
    "## Challenge 1: Hailstones\n",
    "Fix the program above such that it can handle the cases which generate the same numbers of hailstones. If your program already handles those cases, then you already overcome the challenge.\n"
   ]
  },
  {
   "cell_type": "code",
   "execution_count": 19,
   "metadata": {},
   "outputs": [],
   "source": [
    "# your code here"
   ]
  },
  {
   "cell_type": "markdown",
   "metadata": {},
   "source": [
    "## Challenge 2: Plot\n",
    "\n",
    "Plot the hailstone numbers from 10 and 20. The x range is 0 through the length of hailstones. The y axis is the hailstone numbers. \n"
   ]
  },
  {
   "cell_type": "code",
   "execution_count": 20,
   "metadata": {},
   "outputs": [],
   "source": [
    "# WhyNotPython ControlFlow Exercise - Conjecture Challenge 2\n",
    "# Plot the hailstone numbers from 10 and 20. \n",
    "# The x range is 0 through the length of hailstones. \n",
    "# The y axis is the hailstone numbers.\n",
    "\n",
    "%matplotlib inline\n",
    "import matplotlib.pyplot as plot\n",
    "\n",
    "#your code here\n"
   ]
  },
  {
   "cell_type": "markdown",
   "metadata": {},
   "source": [
    "### Solution: conjecture_ch2.py"
   ]
  },
  {
   "cell_type": "code",
   "execution_count": 21,
   "metadata": {},
   "outputs": [],
   "source": [
    "import matplotlib.pyplot as plot\n",
    "plot?\n",
    "plot.legend?"
   ]
  },
  {
   "cell_type": "code",
   "execution_count": 22,
   "metadata": {},
   "outputs": [
    {
     "name": "stdout",
     "output_type": "stream",
     "text": [
      "[10, 5, 16, 8, 4, 2, 1]\n",
      "[11, 34, 17, 52, 26, 13, 40, 20, 10, 5, 16, 8, 4, 2, 1]\n",
      "[12, 6, 3, 10, 5, 16, 8, 4, 2, 1]\n",
      "[13, 40, 20, 10, 5, 16, 8, 4, 2, 1]\n",
      "[14, 7, 22, 11, 34, 17, 52, 26, 13, 40, 20, 10, 5, 16, 8, 4, 2, 1]\n",
      "[15, 46, 23, 70, 35, 106, 53, 160, 80, 40, 20, 10, 5, 16, 8, 4, 2, 1]\n",
      "[16, 8, 4, 2, 1]\n",
      "[17, 52, 26, 13, 40, 20, 10, 5, 16, 8, 4, 2, 1]\n",
      "[18, 9, 28, 14, 7, 22, 11, 34, 17, 52, 26, 13, 40, 20, 10, 5, 16, 8, 4, 2, 1]\n",
      "[19, 58, 29, 88, 44, 22, 11, 34, 17, 52, 26, 13, 40, 20, 10, 5, 16, 8, 4, 2, 1]\n",
      "[20, 10, 5, 16, 8, 4, 2, 1]\n"
     ]
    },
    {
     "data": {
      "text/plain": [
       "<matplotlib.legend.Legend at 0x1cd9df38748>"
      ]
     },
     "execution_count": 22,
     "metadata": {},
     "output_type": "execute_result"
    },
    {
     "data": {
      "image/png": "[encoded data removed]",
      "text/plain": [
       "<Figure size 432x288 with 1 Axes>"
      ]
     },
     "metadata": {},
     "output_type": "display_data"
    }
   ],
   "source": [
    "# %load conjecture_ch2.py\n",
    "#%%file conjecture_ch2.py\n",
    "# WhyNotPython ControlFlow Exercise - Conjecture Challenge 2\n",
    "# Plot the hailstone numbers from 10 and 20. \n",
    "# The x range is 0 through the length of hailstones. \n",
    "# The y axis is the hailstone numbers.\n",
    "\n",
    "%matplotlib inline\n",
    "#from matplotlib.pyplot import plot\n",
    "import matplotlib.pyplot as plot\n",
    "\n",
    "start, stop = 10, 20\n",
    "for m in range(start, stop + 1):\n",
    "    hailstones = []\n",
    "    n = m\n",
    "    while n != 1:\n",
    "        hailstones.append(n)\n",
    "        #print(n, end=\", \")\n",
    "        if n % 2 == 0:\n",
    "            n = n // 2\n",
    "        else:\n",
    "            n = 3 * n + 1\n",
    "    hailstones.append(1)\n",
    "    print(hailstones)\n",
    "    plot.plot([x for x in range(len(hailstones))], hailstones, label=str(m))\n",
    "    \n",
    "plot.title(\"Hailstone Plot\")\n",
    "plot.ylabel(\"Hailstone numbers\")\n",
    "plot.legend() \n",
    "# plot.axis([0, 20, 0, 200])    # you can set xmax=20, ymax=200 dynamically"
   ]
  },
  {
   "cell_type": "code",
   "execution_count": 16,
   "metadata": {},
   "outputs": [
    {
     "name": "stdout",
     "output_type": "stream",
     "text": [
      "[10, 5, 16, 8, 4, 2, 1]\n",
      "[11, 34, 17, 52, 26, 13, 40, 20, 10, 5, 16, 8, 4, 2, 1]\n",
      "[12, 6, 3, 10, 5, 16, 8, 4, 2, 1]\n",
      "[13, 40, 20, 10, 5, 16, 8, 4, 2, 1]\n",
      "[14, 7, 22, 11, 34, 17, 52, 26, 13, 40, 20, 10, 5, 16, 8, 4, 2, 1]\n",
      "[15, 46, 23, 70, 35, 106, 53, 160, 80, 40, 20, 10, 5, 16, 8, 4, 2, 1]\n"
     ]
    },
    {
     "data": {
      "text/plain": [
       "<matplotlib.legend.Legend at 0x1cd9d738198>"
      ]
     },
     "execution_count": 16,
     "metadata": {},
     "output_type": "execute_result"
    },
    {
     "data": {
      "image/png": "[encoded data removed]",
      "text/plain": [
       "<Figure size 432x288 with 1 Axes>"
      ]
     },
     "metadata": {},
     "output_type": "display_data"
    }
   ],
   "source": [
    "#%%file conjecture_ch2.py\n",
    "# WhyNotPython ControlFlow Exercise - Conjecture Challenge 2\n",
    "# Plot the hailstone numbers from 10 and 20. \n",
    "# The x range is 0 through the length of hailstones. \n",
    "# The y axis is the hailstone numbers.\n",
    "\n",
    "%matplotlib inline\n",
    "#from matplotlib.pyplot import plot\n",
    "import matplotlib.pyplot as plot\n",
    "\n",
    "start, stop = 10, 15\n",
    "for m in range(start, stop + 1):\n",
    "    hailstones = []\n",
    "    n = m\n",
    "    while n != 1:\n",
    "        hailstones.append(n)\n",
    "        #print(n, end=\", \")\n",
    "        if n % 2 == 0:\n",
    "            n = n // 2\n",
    "        else:\n",
    "            n = 3 * n + 1\n",
    "    hailstones.append(1)\n",
    "    print(hailstones)\n",
    "    plot.plot([x for x in range(len(hailstones))], hailstones, label=str(m))\n",
    "    \n",
    "plot.title(\"Collarz Conjecture Plot\")\n",
    "plot.ylabel(\"Hailstone numbers\")\n",
    "plot.legend() \n",
    "# plot.axis([0, 20, 0, 200])    # you can set xmax=20, ymax=200 dynamically"
   ]
  },
  {
   "cell_type": "code",
   "execution_count": 21,
   "metadata": {},
   "outputs": [
    {
     "name": "stdout",
     "output_type": "stream",
     "text": [
      "[25, 76, 38, 19, 58, 29, 88, 44, 22, 11, 34, 17, 52, 26, 13, 40, 20, 10, 5, 16, 8, 4, 2, 1]\n",
      "[26, 13, 40, 20, 10, 5, 16, 8, 4, 2, 1]\n",
      "[27, 82, 41, 124, 62, 31, 94, 47, 142, 71, 214, 107, 322, 161, 484, 242, 121, 364, 182, 91, 274, 137, 412, 206, 103, 310, 155, 466, 233, 700, 350, 175, 526, 263, 790, 395, 1186, 593, 1780, 890, 445, 1336, 668, 334, 167, 502, 251, 754, 377, 1132, 566, 283, 850, 425, 1276, 638, 319, 958, 479, 1438, 719, 2158, 1079, 3238, 1619, 4858, 2429, 7288, 3644, 1822, 911, 2734, 1367, 4102, 2051, 6154, 3077, 9232, 4616, 2308, 1154, 577, 1732, 866, 433, 1300, 650, 325, 976, 488, 244, 122, 61, 184, 92, 46, 23, 70, 35, 106, 53, 160, 80, 40, 20, 10, 5, 16, 8, 4, 2, 1]\n",
      "[28, 14, 7, 22, 11, 34, 17, 52, 26, 13, 40, 20, 10, 5, 16, 8, 4, 2, 1]\n",
      "[29, 88, 44, 22, 11, 34, 17, 52, 26, 13, 40, 20, 10, 5, 16, 8, 4, 2, 1]\n",
      "[30, 15, 46, 23, 70, 35, 106, 53, 160, 80, 40, 20, 10, 5, 16, 8, 4, 2, 1]\n"
     ]
    },
    {
     "data": {
      "text/plain": [
       "<matplotlib.legend.Legend at 0x1cd9dec6ac8>"
      ]
     },
     "execution_count": 21,
     "metadata": {},
     "output_type": "execute_result"
    },
    {
     "data": {
      "image/png": "[encoded data removed]",
      "text/plain": [
       "<Figure size 432x288 with 1 Axes>"
      ]
     },
     "metadata": {},
     "output_type": "display_data"
    }
   ],
   "source": [
    "#%%file conjecture_ch2.py\n",
    "# WhyNotPython ControlFlow Exercise - Conjecture Challenge 2\n",
    "# Plot the hailstone numbers from 10 and 20. \n",
    "# The x range is 0 through the length of hailstones. \n",
    "# The y axis is the hailstone numbers.\n",
    "\n",
    "%matplotlib inline\n",
    "#from matplotlib.pyplot import plot\n",
    "import matplotlib.pyplot as plot\n",
    "\n",
    "start, stop = 25, 30\n",
    "for m in range(start, stop + 1):\n",
    "    hailstones = []\n",
    "    n = m\n",
    "    while n != 1:\n",
    "        hailstones.append(n)\n",
    "        #print(n, end=\", \")\n",
    "        if n % 2 == 0:\n",
    "            n = n // 2\n",
    "        else:\n",
    "            n = 3 * n + 1\n",
    "    hailstones.append(1)\n",
    "    print(hailstones)\n",
    "    plot.plot([x for x in range(len(hailstones))], hailstones, label=str(m))\n",
    "    \n",
    "plot.title(\"Collarz Conjecture Plot\")\n",
    "plot.ylabel(\"Hailstone numbers\")\n",
    "plot.legend() \n",
    "# plot.axis([0, 20, 0, 200])    # you can set xmax=20, ymax=200 dynamically"
   ]
  },
  {
   "cell_type": "markdown",
   "metadata": {},
   "source": [
    "## Exercise: \n",
    "\n",
    "### 1. The count and sum of the sequence\n",
    "Count the number of input elements and determine the sum of all elements in the sequence. The user's input sequence ends with the number 0. Get the input data using input() and print the result using print().\n",
    "Some sample runs:\n",
    "```\n",
    "1\n",
    "7\n",
    "9\n",
    "0\n",
    "3 17\n",
    "```\n",
    "```\n",
    "1\n",
    "1\n",
    "1\n",
    "1\n",
    "1\n",
    "0\n",
    "5 5\n",
    "```\n",
    "```\n",
    "123\n",
    "0\n",
    "1 123\n",
    "```"
   ]
  },
  {
   "cell_type": "code",
   "execution_count": null,
   "metadata": {},
   "outputs": [],
   "source": []
  },
  {
   "cell_type": "markdown",
   "metadata": {},
   "source": [
    "### 2. The second largest\n",
    "The sequence consists of _distinct positive integer numbers_ and ends with the number 0. Determine the value of the second largest element in this sequence. It is guaranteed that the sequence has at least two elements. Get the input data using input() and print the result using print(). \n",
    "\n",
    "Some sample runs:\n",
    "```\n",
    "1\n",
    "7\n",
    "9\n",
    "5\n",
    "0\n",
    "7\n",
    "```\n",
    "```\n",
    "7\n",
    "1\n",
    "8\n",
    "3\n",
    "0\n",
    "7\n",
    "```\n",
    "```\n",
    "9\n",
    "1\n",
    "2\n",
    "3\n",
    "7\n",
    "5\n",
    "0\n",
    "7\n",
    "```"
   ]
  },
  {
   "cell_type": "code",
   "execution_count": null,
   "metadata": {},
   "outputs": [],
   "source": []
  },
  {
   "cell_type": "markdown",
   "metadata": {},
   "source": [
    "### 3. The second largest in a list\n",
    "The list consists of _distinct positive integer numbers_. Find the value of the second largest element in the list. It is guaranteed that the sequence has at least two elements. \n",
    "\n",
    "Some sample runs:\n",
    "```\n",
    "a = [1, 2, 3, 4]\n",
    "# your code here\n",
    "2\n",
    "```\n",
    "```\n",
    "a = [4, 5, 3, 1, 2]\n",
    "# your code here\n",
    "4\n",
    "```\n",
    "```\n",
    "a = [10, 5, 7, 1, 9]\n",
    "# your code here\n",
    "9\n",
    "```\n",
    "```\n",
    "a = [2, 5, 7, 8, 9]\n",
    "# your code here\n",
    "7\n",
    "```"
   ]
  },
  {
   "cell_type": "markdown",
   "metadata": {
    "collapsed": true
   },
   "source": [
    "### 4. The maximum number of consecutive equal elements\n",
    "\n",
    "Given a sequence of integer numbers ending with the number 0. Determine the length of the widest fragment where all the elements are equal to each other. Get the input data using input() and print the result using print().\n",
    "\n",
    "__Some sample runs:__\n",
    "```\n",
    "1\n",
    "7\n",
    "7\n",
    "9\n",
    "1\n",
    "0\n",
    "2\n",
    "```\n",
    "```\n",
    "1\n",
    "2\n",
    "3\n",
    "10\n",
    "11\n",
    "0\n",
    "1\n",
    "```\n",
    "```\n",
    "3\n",
    "3\n",
    "3\n",
    "3\n",
    "0\n",
    "4\n",
    "```\n",
    "```\n",
    "1\n",
    "1\n",
    "2\n",
    "2\n",
    "2\n",
    "3\n",
    "3\n",
    "0\n",
    "2\n",
    "```"
   ]
  },
  {
   "cell_type": "code",
   "execution_count": null,
   "metadata": {},
   "outputs": [],
   "source": []
  },
  {
   "cell_type": "markdown",
   "metadata": {},
   "source": [
    "### 5. The maximum number of consecutive equal elements in a list\n",
    "\n",
    "Given a sequence of integer numbers in a list, determine the length of the widest fragment where all the elements are equal to each other. \n",
    "\n",
    "__Some sample runs:__\n",
    "```\n",
    "a = [1, 7, 7, 9, 1]\n",
    "# your code here\n",
    "2\n",
    "```\n",
    "```\n",
    "a = [1, 2, 3, 10, 11]\n",
    "# your code here\n",
    "1\n",
    "```\n",
    "```\n",
    "a = [3, 3, 3, 3]\n",
    "# your code here\n",
    "4\n",
    "```\n",
    "```\n",
    "a = [1, 1, 2, 2, 2, 3, 3]\n",
    "# your code here\n",
    "2\n",
    "```"
   ]
  },
  {
   "cell_type": "code",
   "execution_count": null,
   "metadata": {},
   "outputs": [],
   "source": []
  },
  {
   "cell_type": "markdown",
   "metadata": {},
   "source": [
    "### 5. Black Jack (version 3)\n",
    "\n",
    "Enhance the black jack game such that an ace card (or 1) can be considered either 1 or 10 for the player. For example, if a player gets 5, 1, and 6, his score becomes 21. If a player gets 10, 7, and 1, his score becomes 18.\n"
   ]
  },
  {
   "cell_type": "markdown",
   "metadata": {},
   "source": [
    "----------\n",
    "__우리가 아직 죄인되었을 때에 그리스도께서 우리를 위하여 죽으심으로 하나님께서 우리에 대한 자기의 사랑을 확증하셨느니라__ 롬5:9"
   ]
  }
 ],
 "metadata": {
  "kernelspec": {
   "display_name": "Python 3",
   "language": "python",
   "name": "python3"
  },
  "language_info": {
   "codemirror_mode": {
    "name": "ipython",
    "version": 3
   },
   "file_extension": ".py",
   "mimetype": "text/x-python",
   "name": "python",
   "nbconvert_exporter": "python",
   "pygments_lexer": "ipython3",
   "version": "3.7.1"
  }
 },
 "nbformat": 4,
 "nbformat_minor": 1
}
