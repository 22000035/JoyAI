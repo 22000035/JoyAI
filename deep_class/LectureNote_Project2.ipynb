{
 "cells": [
  {
   "cell_type": "markdown",
   "metadata": {},
   "source": [
    "# LectureNote: Project - 2\n",
    "\n",
    "\n",
    "# Project - 선형회귀를 활용한 배추가격 예측 AI 개발 (1 ~ 7강)"
   ]
  },
  {
   "cell_type": "markdown",
   "metadata": {},
   "source": [
    "\n",
    "### 추천의 말\n",
    "여기에 소개하는 \"안경잡이 개발자(동빈나)\" 강의는 최근(2018)에 만들어지고, 우리의 교육과정의 일부분으로 적합하여 여러분에게 수강을 추천합니다. 모든 동영상 강의가 유튜브에 공개되어 있을 뿐만 아니라 [naver blog](https://blog.naver.com/ndb796/221036493985)에는 스크립트와 함께 동영상을 볼 수 있습니다.  \n",
    "\n",
    "본 프로젝트도 동빈나 강의자가 유튜브에 1강부터 7강까지로 소개하고 있습니다. 아래와 같이 자료들과 깃허브 소스도 제공하고 있으니 참고하길 바랍니다.\n",
    "\n",
    "- [블로그와 자료](https://ndb796.tistory.com/124?category=1013932)\n",
    "\n",
    "- [깃허브 자료와 소스](https://github.com/ndb796/Vegita/blob/master/README.md)\n",
    "\n",
    "- [웹서버 부트스트랩](https://mdbootstrap.com/freebies/jquery/full-page-video-carousel/)\n",
    "\n",
    "#### 1. [프로젝트 개요](https://www.youtube.com/watch?v=wZvhBVqitn8&list=PLRx0vPvlEmdAbnmLH9yh03cw9UQU_o7PO&index=13) (4:30)\n",
    "\n",
    "#### 2. [프로젝트 아이디어 결정 및 데이터 수집](https://www.youtube.com/watch?v=86u8TmkRN38&list=PLRx0vPvlEmdAbnmLH9yh03cw9UQU_o7PO&index=14) (4:46)\n",
    "\n",
    "#### 3. [다변인 선형회귀 모델 개발하기](https://www.youtube.com/watch?v=9Ur7bbZtoTc&list=PLRx0vPvlEmdAbnmLH9yh03cw9UQU_o7PO&index=15) (8:44)\n",
    "\n",
    "#### 4. [저장된 학습 모델로 배추 가격 예측하기](https://www.youtube.com/watch?v=xJuW_DltmDE&list=PLRx0vPvlEmdAbnmLH9yh03cw9UQU_o7PO&index=16) (4:09)\n",
    "\n",
    "#### 5. [기초 데이터 시각화하기](https://www.youtube.com/watch?v=EtW6c8W_cnw&list=PLRx0vPvlEmdAbnmLH9yh03cw9UQU_o7PO&index=17) (3:32)\n",
    "\n",
    "#### 6. [플라스크 웹 서버와 웹 디자인](https://www.youtube.com/watch?v=gmbkKE-jUUE&list=PLRx0vPvlEmdAbnmLH9yh03cw9UQU_o7PO&index=18) (6:21)\n",
    "\n",
    "#### 7. [플라스크와 텐서플로우 연동하기](https://www.youtube.com/watch?v=gmbkKE-jUUE&list=PLRx0vPvlEmdAbnmLH9yh03cw9UQU_o7PO&index=18) (5:44)"
   ]
  },
  {
   "cell_type": "markdown",
   "metadata": {},
   "source": [
    "# 4강 저장된 학습 모델로 배추 가격 예측하기"
   ]
  },
  {
   "cell_type": "code",
   "execution_count": 5,
   "metadata": {},
   "outputs": [],
   "source": [
    "import tensorflow as tf\n",
    "import numpy as np\n",
    "from pandas.io.parsers import read_csv"
   ]
  },
  {
   "cell_type": "code",
   "execution_count": null,
   "metadata": {},
   "outputs": [],
   "source": []
  },
  {
   "cell_type": "markdown",
   "metadata": {},
   "source": [
    "# 제 5 강 데이터 시각화 "
   ]
  },
  {
   "cell_type": "code",
   "execution_count": null,
   "metadata": {},
   "outputs": [],
   "source": []
  },
  {
   "cell_type": "markdown",
   "metadata": {},
   "source": [
    "\n",
    "# 제 6 강 플라스크 웹 서버와 웹 디자인 구현하기"
   ]
  },
  {
   "cell_type": "code",
   "execution_count": null,
   "metadata": {},
   "outputs": [],
   "source": []
  },
  {
   "cell_type": "markdown",
   "metadata": {},
   "source": [
    "# 제 7 강 플라스크와 텐서플로우 연동하기"
   ]
  },
  {
   "cell_type": "code",
   "execution_count": null,
   "metadata": {},
   "outputs": [],
   "source": []
  }
 ],
 "metadata": {
  "kernelspec": {
   "display_name": "Python 3",
   "language": "python",
   "name": "python3"
  },
  "language_info": {
   "codemirror_mode": {
    "name": "ipython",
    "version": 3
   },
   "file_extension": ".py",
   "mimetype": "text/x-python",
   "name": "python",
   "nbconvert_exporter": "python",
   "pygments_lexer": "ipython3",
   "version": "3.7.1"
  }
 },
 "nbformat": 4,
 "nbformat_minor": 2
}
