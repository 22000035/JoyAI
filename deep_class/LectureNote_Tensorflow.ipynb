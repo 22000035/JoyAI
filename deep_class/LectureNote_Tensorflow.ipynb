{
 "cells": [
  {
   "cell_type": "markdown",
   "metadata": {},
   "source": [
    "# Lecture Note: Tensorflow"
   ]
  },
  {
   "cell_type": "markdown",
   "metadata": {},
   "source": [
    "## Anaconda를 설치한 후, Tensorflow 설치하기 "
   ]
  },
  {
   "cell_type": "markdown",
   "metadata": {},
   "source": [
    "관리자 권한으로 Windows cmd 혹은 powershell을 시작합니다. Mac에서는 terminal을 시작합니다. \n",
    "\n",
    "1. 다음 명령어로 파이썬 버전을 확인합니다. \n",
    "\n",
    "```\n",
    "   python --version \n",
    "   \n",
    "   (Python 3.7.1 출력된다면, Python 3.7 버전입니다)\n",
    "```\n",
    "   \n",
    "\n",
    "2. pip를 upgrade합니다. \n",
    "\n",
    "```\n",
    "    python -m pip install --upgrade pip\n",
    "```    \n",
    "    \n",
    "3. conda를 이용하여 tensorflow라는 가상환경(virtual environment)를 만듭니다. \n",
    "\n",
    "```\n",
    "    conda create -n tensorflow python=3.7\n",
    "```    \n",
    "    \n",
    "4. 위에서 만든 tensorflow 가상환경을 활성화합니다. \n",
    "\n",
    "```\n",
    "    activate tensorflow\n",
    "```    \n",
    "    \n",
    "5. 활성화된 tensorflow 가상환경에 tensorflow를 설치합니다. \n",
    "\n",
    "```\n",
    "    pip install tensorflow\n",
    "```    \n",
    "\n",
    "6. 이제 콘솔 창에서 tensorflow 설치를 확인합니다. Python을 시작하여, tensorflow를 import 하고, 버전을 확인하면 됩니다. \n",
    "\n",
    "```\n",
    "   python\n",
    "   import tensorflow as tf\n",
    "   print(tf.__version__)\n",
    "   exit()\n",
    "```   \n",
    "\n",
    "참고로, keras도 pip를 이용하여 다음과 같이 설치할 수 있습니다. \n",
    "\n",
    "    pip install keras\n",
    "    "
   ]
  },
  {
   "cell_type": "markdown",
   "metadata": {},
   "source": [
    "## 'Hello World'를 Tensorflow로 실행하기"
   ]
  },
  {
   "cell_type": "code",
   "execution_count": 1,
   "metadata": {},
   "outputs": [
    {
     "name": "stdout",
     "output_type": "stream",
     "text": [
      "Tensor(\"Const:0\", shape=(), dtype=string)\n",
      "b'Hello World'\n"
     ]
    }
   ],
   "source": [
    "import tensorflow as tf\n",
    "\n",
    "hello = tf.constant(\"Hello World\")\n",
    "sess = tf.Session()\n",
    "\n",
    "print(hello)\n",
    "print(sess.run(hello))"
   ]
  },
  {
   "cell_type": "markdown",
   "metadata": {},
   "source": [
    "## Constant "
   ]
  },
  {
   "cell_type": "code",
   "execution_count": 3,
   "metadata": {},
   "outputs": [
    {
     "name": "stdout",
     "output_type": "stream",
     "text": [
      "Tensor(\"Add_1:0\", shape=(), dtype=int32)\n"
     ]
    }
   ],
   "source": [
    "a = 1\n",
    "\n",
    "a = tf.constant(1)\n",
    "b = tf.constant(2)\n",
    "c = tf.add(a, b)      # a, b, c are tensors with a tensor data type\n",
    "\n",
    "sess = tf.Session()   # session object initiation\n",
    "sess.run(c)\n",
    "\n",
    "print(c)"
   ]
  },
  {
   "cell_type": "markdown",
   "metadata": {},
   "source": [
    "## Variable"
   ]
  },
  {
   "cell_type": "code",
   "execution_count": 4,
   "metadata": {},
   "outputs": [
    {
     "name": "stdout",
     "output_type": "stream",
     "text": [
      "WARNING:tensorflow:From C:\\Users\\user\\Anaconda3\\lib\\site-packages\\tensorflow\\python\\framework\\op_def_library.py:263: colocate_with (from tensorflow.python.framework.ops) is deprecated and will be removed in a future version.\n",
      "Instructions for updating:\n",
      "Colocations handled automatically by placer.\n"
     ]
    },
    {
     "data": {
      "text/plain": [
       "15"
      ]
     },
     "execution_count": 4,
     "metadata": {},
     "output_type": "execute_result"
    }
   ],
   "source": [
    "a = tf.Variable(3)\n",
    "b = tf.Variable(5)\n",
    "c = tf.multiply(a, b)     \n",
    "\n",
    "init = tf.global_variables_initializer()   #\n",
    "sess.run(init)\n",
    "sess.run(c)"
   ]
  },
  {
   "cell_type": "code",
   "execution_count": 5,
   "metadata": {},
   "outputs": [
    {
     "data": {
      "text/plain": [
       "75"
      ]
     },
     "execution_count": 5,
     "metadata": {},
     "output_type": "execute_result"
    }
   ],
   "source": [
    "a = tf.Variable(15)\n",
    "c = tf.multiply(a, b)     \n",
    "\n",
    "init = tf.global_variables_initializer()   #\n",
    "sess.run(init)\n",
    "sess.run(c)"
   ]
  },
  {
   "cell_type": "markdown",
   "metadata": {},
   "source": [
    "## Placeholder - 학습 데이터를 포함하는 변수\n",
    "\n",
    "tf.placeholder(dtype, shape, name)\n"
   ]
  },
  {
   "cell_type": "code",
   "execution_count": 6,
   "metadata": {},
   "outputs": [],
   "source": [
    "input = [1, 2, 3, 4, 5]\n",
    "\n",
    "x = tf.placeholder(dtype = tf.float32)\n",
    "y = x + 5"
   ]
  },
  {
   "cell_type": "code",
   "execution_count": 7,
   "metadata": {},
   "outputs": [
    {
     "data": {
      "text/plain": [
       "array([ 6.,  7.,  8.,  9., 10.], dtype=float32)"
      ]
     },
     "execution_count": 7,
     "metadata": {},
     "output_type": "execute_result"
    }
   ],
   "source": [
    "sess = tf.Session()\n",
    "sess.run(y, feed_dict={x: input})"
   ]
  },
  {
   "cell_type": "code",
   "execution_count": null,
   "metadata": {},
   "outputs": [],
   "source": []
  },
  {
   "cell_type": "code",
   "execution_count": null,
   "metadata": {},
   "outputs": [],
   "source": [
    "mathScore = [85, 80, 84, 97, 92]\n",
    "englScore = [90, 77, 86, 92, 90]\n",
    "\n",
    "a = tf.placeholder(dtype=tf.float32)\n",
    "b = tf.placeholder(dtype=tf.float32)\n",
    "y = (a + b) / 2"
   ]
  },
  {
   "cell_type": "code",
   "execution_count": null,
   "metadata": {},
   "outputs": [],
   "source": [
    "sess = tf.Session()\n",
    "sess.run(y, feed_dict={a: mathScore, b:englScore})"
   ]
  },
  {
   "cell_type": "markdown",
   "metadata": {},
   "source": [
    "# Tensorflow Functions\n",
    "\n",
    "- tf.add\n",
    "- tf.subtract\n",
    "- tf.multiply\n",
    "- tf.truediv\n",
    "- tf.mod\n",
    "- tf.abs\n",
    "- tf.negative\n",
    "- tf.sign\n",
    "- tf.square\n",
    "- tf.sqrt\n",
    "- tf.pow\n",
    "- tf.maximum\n",
    "- tf.minimum\n",
    "- tf.exp\n",
    "- tf.log"
   ]
  },
  {
   "cell_type": "code",
   "execution_count": 8,
   "metadata": {},
   "outputs": [],
   "source": [
    "a = tf.constant(7)\n",
    "b = tf.constant(5)"
   ]
  },
  {
   "cell_type": "code",
   "execution_count": 9,
   "metadata": {},
   "outputs": [
    {
     "data": {
      "text/plain": [
       "2"
      ]
     },
     "execution_count": 9,
     "metadata": {},
     "output_type": "execute_result"
    }
   ],
   "source": [
    "sess = tf.Session()\n",
    "\n",
    "c =  tf.add(a, b)\n",
    "sess.run(c)\n",
    "\n",
    "c = tf.subtract(a, b)\n",
    "sess.run(c)"
   ]
  },
  {
   "cell_type": "code",
   "execution_count": 10,
   "metadata": {},
   "outputs": [
    {
     "name": "stdout",
     "output_type": "stream",
     "text": [
      "12\n",
      "2\n"
     ]
    }
   ],
   "source": [
    "c =  tf.add(a, b)\n",
    "print(sess.run(c))\n",
    "\n",
    "c = tf.subtract(a, b)\n",
    "print(sess.run(c))"
   ]
  },
  {
   "cell_type": "markdown",
   "metadata": {},
   "source": [
    "# Tensorflow Session()\n",
    "\n",
    "아래 예제에서 c는 a 와 b를 더하는 연산을 정의한 tensor 그 자체라는 것이다. 이렇게 정의된 연산을 수행하기 위해, a와 b에 데이터를 넣고, 흐름이 일어나도록 하는 동작이 Session이다. "
   ]
  },
  {
   "cell_type": "code",
   "execution_count": 11,
   "metadata": {},
   "outputs": [
    {
     "name": "stdout",
     "output_type": "stream",
     "text": [
      "Tensor(\"Add_5:0\", shape=(), dtype=float32)\n"
     ]
    }
   ],
   "source": [
    "import tensorflow as tf\n",
    "\n",
    "a = tf.constant(11.5)\n",
    "b = tf.constant(7.2)\n",
    "c = tf.add(a, b)     # c is a tensor type\n",
    "\n",
    "print(c)"
   ]
  },
  {
   "cell_type": "code",
   "execution_count": 12,
   "metadata": {},
   "outputs": [
    {
     "data": {
      "text/plain": [
       "18.7"
      ]
     },
     "execution_count": 12,
     "metadata": {},
     "output_type": "execute_result"
    }
   ],
   "source": [
    "sess = tf.Session()\n",
    "sess.run(c)"
   ]
  },
  {
   "cell_type": "markdown",
   "metadata": {},
   "source": [
    "# K-means Clustering (군집화) Algorithm\n",
    "\n",
    "0. 무작위 중심(Centroid)값을 선택합니다. \n",
    "1. 중심에 가까운 데이터를 클러스터에 포함시킵니다.\n",
    "2. 중심을 클러스터 중앙으로 이동시킵니다.\n",
    "\n",
    "마지막 두 과정을 반복하면서 더 이상 중심의 위치가 변하지 않을 때까지 반복합니다. "
   ]
  },
  {
   "cell_type": "code",
   "execution_count": 13,
   "metadata": {},
   "outputs": [],
   "source": [
    "from sklearn.cluster import KMeans\n",
    "import numpy as np\n",
    "import pandas as pd\n",
    "import seaborn as sb\n",
    "import matplotlib.pyplot as plt\n",
    "%matplotlib inline\n"
   ]
  },
  {
   "cell_type": "code",
   "execution_count": 14,
   "metadata": {},
   "outputs": [],
   "source": [
    "df = pd.DataFrame(columns=['x', 'y'])\n",
    "df.loc[0] = [2, 3]\n",
    "df.loc[1] = [2, 11]\n",
    "df.loc[2] = [2, 18]\n",
    "df.loc[3] = [4, 5]\n",
    "df.loc[4] = [4, 7]\n",
    "df.loc[5] = [5, 3]\n",
    "df.loc[6] = [5, 15]\n",
    "df.loc[7] = [6, 6]\n",
    "df.loc[8] = [6, 8]\n",
    "df.loc[9] = [6, 9]\n",
    "df.loc[10] = [7, 3]\n",
    "df.loc[11] = [7, 4]\n",
    "df.loc[12] = [7, 5]\n",
    "df.loc[13] = [7, 15]\n",
    "df.loc[14] = [7, 17]\n",
    "df.loc[15] = [8, 5]\n",
    "df.loc[16] = [8, 4]\n",
    "df.loc[17] = [9, 10]\n",
    "df.loc[18] = [9, 11]\n",
    "df.loc[19] = [9, 15]\n",
    "df.loc[20] = [9, 19]\n",
    "df.loc[21] = [10, 4]\n",
    "df.loc[22] = [10, 8]\n",
    "df.loc[23] = [10, 15]\n",
    "df.loc[24] = [12, 6]\n",
    "df.loc[25] = [13, 15]\n",
    "df.loc[26] = [14, 11]\n",
    "df.loc[27] = [15, 6]\n",
    "df.loc[28] = [15, 18]\n",
    "df.loc[29] = [19, 15]"
   ]
  },
  {
   "cell_type": "code",
   "execution_count": 15,
   "metadata": {},
   "outputs": [
    {
     "data": {
      "text/html": [
       "<div>\n",
       "<style scoped>\n",
       "    .dataframe tbody tr th:only-of-type {\n",
       "        vertical-align: middle;\n",
       "    }\n",
       "\n",
       "    .dataframe tbody tr th {\n",
       "        vertical-align: top;\n",
       "    }\n",
       "\n",
       "    .dataframe thead th {\n",
       "        text-align: right;\n",
       "    }\n",
       "</style>\n",
       "<table border=\"1\" class=\"dataframe\">\n",
       "  <thead>\n",
       "    <tr style=\"text-align: right;\">\n",
       "      <th></th>\n",
       "      <th>x</th>\n",
       "      <th>y</th>\n",
       "    </tr>\n",
       "  </thead>\n",
       "  <tbody>\n",
       "    <tr>\n",
       "      <th>0</th>\n",
       "      <td>2</td>\n",
       "      <td>3</td>\n",
       "    </tr>\n",
       "    <tr>\n",
       "      <th>1</th>\n",
       "      <td>2</td>\n",
       "      <td>11</td>\n",
       "    </tr>\n",
       "    <tr>\n",
       "      <th>2</th>\n",
       "      <td>2</td>\n",
       "      <td>18</td>\n",
       "    </tr>\n",
       "    <tr>\n",
       "      <th>3</th>\n",
       "      <td>4</td>\n",
       "      <td>5</td>\n",
       "    </tr>\n",
       "    <tr>\n",
       "      <th>4</th>\n",
       "      <td>4</td>\n",
       "      <td>7</td>\n",
       "    </tr>\n",
       "    <tr>\n",
       "      <th>5</th>\n",
       "      <td>5</td>\n",
       "      <td>3</td>\n",
       "    </tr>\n",
       "    <tr>\n",
       "      <th>6</th>\n",
       "      <td>5</td>\n",
       "      <td>15</td>\n",
       "    </tr>\n",
       "    <tr>\n",
       "      <th>7</th>\n",
       "      <td>6</td>\n",
       "      <td>6</td>\n",
       "    </tr>\n",
       "    <tr>\n",
       "      <th>8</th>\n",
       "      <td>6</td>\n",
       "      <td>8</td>\n",
       "    </tr>\n",
       "    <tr>\n",
       "      <th>9</th>\n",
       "      <td>6</td>\n",
       "      <td>9</td>\n",
       "    </tr>\n",
       "    <tr>\n",
       "      <th>10</th>\n",
       "      <td>7</td>\n",
       "      <td>3</td>\n",
       "    </tr>\n",
       "    <tr>\n",
       "      <th>11</th>\n",
       "      <td>7</td>\n",
       "      <td>4</td>\n",
       "    </tr>\n",
       "    <tr>\n",
       "      <th>12</th>\n",
       "      <td>7</td>\n",
       "      <td>5</td>\n",
       "    </tr>\n",
       "    <tr>\n",
       "      <th>13</th>\n",
       "      <td>7</td>\n",
       "      <td>15</td>\n",
       "    </tr>\n",
       "    <tr>\n",
       "      <th>14</th>\n",
       "      <td>7</td>\n",
       "      <td>17</td>\n",
       "    </tr>\n",
       "    <tr>\n",
       "      <th>15</th>\n",
       "      <td>8</td>\n",
       "      <td>5</td>\n",
       "    </tr>\n",
       "    <tr>\n",
       "      <th>16</th>\n",
       "      <td>8</td>\n",
       "      <td>4</td>\n",
       "    </tr>\n",
       "    <tr>\n",
       "      <th>17</th>\n",
       "      <td>9</td>\n",
       "      <td>10</td>\n",
       "    </tr>\n",
       "    <tr>\n",
       "      <th>18</th>\n",
       "      <td>9</td>\n",
       "      <td>11</td>\n",
       "    </tr>\n",
       "    <tr>\n",
       "      <th>19</th>\n",
       "      <td>9</td>\n",
       "      <td>15</td>\n",
       "    </tr>\n",
       "    <tr>\n",
       "      <th>20</th>\n",
       "      <td>9</td>\n",
       "      <td>19</td>\n",
       "    </tr>\n",
       "    <tr>\n",
       "      <th>21</th>\n",
       "      <td>10</td>\n",
       "      <td>4</td>\n",
       "    </tr>\n",
       "    <tr>\n",
       "      <th>22</th>\n",
       "      <td>10</td>\n",
       "      <td>8</td>\n",
       "    </tr>\n",
       "    <tr>\n",
       "      <th>23</th>\n",
       "      <td>10</td>\n",
       "      <td>15</td>\n",
       "    </tr>\n",
       "    <tr>\n",
       "      <th>24</th>\n",
       "      <td>12</td>\n",
       "      <td>6</td>\n",
       "    </tr>\n",
       "    <tr>\n",
       "      <th>25</th>\n",
       "      <td>13</td>\n",
       "      <td>15</td>\n",
       "    </tr>\n",
       "    <tr>\n",
       "      <th>26</th>\n",
       "      <td>14</td>\n",
       "      <td>11</td>\n",
       "    </tr>\n",
       "    <tr>\n",
       "      <th>27</th>\n",
       "      <td>15</td>\n",
       "      <td>6</td>\n",
       "    </tr>\n",
       "    <tr>\n",
       "      <th>28</th>\n",
       "      <td>15</td>\n",
       "      <td>18</td>\n",
       "    </tr>\n",
       "    <tr>\n",
       "      <th>29</th>\n",
       "      <td>19</td>\n",
       "      <td>15</td>\n",
       "    </tr>\n",
       "  </tbody>\n",
       "</table>\n",
       "</div>"
      ],
      "text/plain": [
       "     x   y\n",
       "0    2   3\n",
       "1    2  11\n",
       "2    2  18\n",
       "3    4   5\n",
       "4    4   7\n",
       "5    5   3\n",
       "6    5  15\n",
       "7    6   6\n",
       "8    6   8\n",
       "9    6   9\n",
       "10   7   3\n",
       "11   7   4\n",
       "12   7   5\n",
       "13   7  15\n",
       "14   7  17\n",
       "15   8   5\n",
       "16   8   4\n",
       "17   9  10\n",
       "18   9  11\n",
       "19   9  15\n",
       "20   9  19\n",
       "21  10   4\n",
       "22  10   8\n",
       "23  10  15\n",
       "24  12   6\n",
       "25  13  15\n",
       "26  14  11\n",
       "27  15   6\n",
       "28  15  18\n",
       "29  19  15"
      ]
     },
     "execution_count": 15,
     "metadata": {},
     "output_type": "execute_result"
    }
   ],
   "source": [
    "df.head(30)"
   ]
  },
  {
   "cell_type": "code",
   "execution_count": 16,
   "metadata": {},
   "outputs": [
    {
     "data": {
      "text/plain": [
       "Text(9.924999999999997, 0.5, 'y')"
      ]
     },
     "execution_count": 16,
     "metadata": {},
     "output_type": "execute_result"
    },
    {
     "data": {
      "image/png": "[encoded data removed]",
      "text/plain": [
       "<Figure size 360x360 with 1 Axes>"
      ]
     },
     "metadata": {
      "needs_background": "light"
     },
     "output_type": "display_data"
    }
   ],
   "source": [
    "sb.lmplot('x', 'y', data=df, fit_reg=False, scatter_kws={\"s\": 100})\n",
    "plt.title('K-means Example')\n",
    "plt.xlabel('x')\n",
    "plt.ylabel('y')"
   ]
  },
  {
   "cell_type": "code",
   "execution_count": 17,
   "metadata": {},
   "outputs": [
    {
     "data": {
      "text/plain": [
       "array([[11.5       ,  8.66666667],\n",
       "       [ 6.15384615,  5.07692308],\n",
       "       [ 6.375     , 15.625     ],\n",
       "       [15.66666667, 16.        ]])"
      ]
     },
     "execution_count": 17,
     "metadata": {},
     "output_type": "execute_result"
    }
   ],
   "source": [
    "points = df.values\n",
    "kmeans = KMeans(n_clusters = 4).fit(points)\n",
    "kmeans.cluster_centers_"
   ]
  },
  {
   "cell_type": "code",
   "execution_count": 18,
   "metadata": {},
   "outputs": [
    {
     "data": {
      "text/plain": [
       "array([1, 2, 2, 1, 1, 1, 2, 1, 1, 1, 1, 1, 1, 2, 2, 1, 1, 0, 0, 2, 2, 1,\n",
       "       0, 2, 0, 3, 0, 0, 3, 3])"
      ]
     },
     "execution_count": 18,
     "metadata": {},
     "output_type": "execute_result"
    }
   ],
   "source": [
    "kmeans.labels_"
   ]
  },
  {
   "cell_type": "code",
   "execution_count": 19,
   "metadata": {},
   "outputs": [
    {
     "data": {
      "text/html": [
       "<div>\n",
       "<style scoped>\n",
       "    .dataframe tbody tr th:only-of-type {\n",
       "        vertical-align: middle;\n",
       "    }\n",
       "\n",
       "    .dataframe tbody tr th {\n",
       "        vertical-align: top;\n",
       "    }\n",
       "\n",
       "    .dataframe thead th {\n",
       "        text-align: right;\n",
       "    }\n",
       "</style>\n",
       "<table border=\"1\" class=\"dataframe\">\n",
       "  <thead>\n",
       "    <tr style=\"text-align: right;\">\n",
       "      <th></th>\n",
       "      <th>x</th>\n",
       "      <th>y</th>\n",
       "      <th>cluster</th>\n",
       "    </tr>\n",
       "  </thead>\n",
       "  <tbody>\n",
       "    <tr>\n",
       "      <th>0</th>\n",
       "      <td>2</td>\n",
       "      <td>3</td>\n",
       "      <td>1</td>\n",
       "    </tr>\n",
       "    <tr>\n",
       "      <th>1</th>\n",
       "      <td>2</td>\n",
       "      <td>11</td>\n",
       "      <td>2</td>\n",
       "    </tr>\n",
       "    <tr>\n",
       "      <th>2</th>\n",
       "      <td>2</td>\n",
       "      <td>18</td>\n",
       "      <td>2</td>\n",
       "    </tr>\n",
       "    <tr>\n",
       "      <th>3</th>\n",
       "      <td>4</td>\n",
       "      <td>5</td>\n",
       "      <td>1</td>\n",
       "    </tr>\n",
       "    <tr>\n",
       "      <th>4</th>\n",
       "      <td>4</td>\n",
       "      <td>7</td>\n",
       "      <td>1</td>\n",
       "    </tr>\n",
       "    <tr>\n",
       "      <th>5</th>\n",
       "      <td>5</td>\n",
       "      <td>3</td>\n",
       "      <td>1</td>\n",
       "    </tr>\n",
       "    <tr>\n",
       "      <th>6</th>\n",
       "      <td>5</td>\n",
       "      <td>15</td>\n",
       "      <td>2</td>\n",
       "    </tr>\n",
       "    <tr>\n",
       "      <th>7</th>\n",
       "      <td>6</td>\n",
       "      <td>6</td>\n",
       "      <td>1</td>\n",
       "    </tr>\n",
       "    <tr>\n",
       "      <th>8</th>\n",
       "      <td>6</td>\n",
       "      <td>8</td>\n",
       "      <td>1</td>\n",
       "    </tr>\n",
       "    <tr>\n",
       "      <th>9</th>\n",
       "      <td>6</td>\n",
       "      <td>9</td>\n",
       "      <td>1</td>\n",
       "    </tr>\n",
       "    <tr>\n",
       "      <th>10</th>\n",
       "      <td>7</td>\n",
       "      <td>3</td>\n",
       "      <td>1</td>\n",
       "    </tr>\n",
       "    <tr>\n",
       "      <th>11</th>\n",
       "      <td>7</td>\n",
       "      <td>4</td>\n",
       "      <td>1</td>\n",
       "    </tr>\n",
       "    <tr>\n",
       "      <th>12</th>\n",
       "      <td>7</td>\n",
       "      <td>5</td>\n",
       "      <td>1</td>\n",
       "    </tr>\n",
       "    <tr>\n",
       "      <th>13</th>\n",
       "      <td>7</td>\n",
       "      <td>15</td>\n",
       "      <td>2</td>\n",
       "    </tr>\n",
       "    <tr>\n",
       "      <th>14</th>\n",
       "      <td>7</td>\n",
       "      <td>17</td>\n",
       "      <td>2</td>\n",
       "    </tr>\n",
       "    <tr>\n",
       "      <th>15</th>\n",
       "      <td>8</td>\n",
       "      <td>5</td>\n",
       "      <td>1</td>\n",
       "    </tr>\n",
       "    <tr>\n",
       "      <th>16</th>\n",
       "      <td>8</td>\n",
       "      <td>4</td>\n",
       "      <td>1</td>\n",
       "    </tr>\n",
       "    <tr>\n",
       "      <th>17</th>\n",
       "      <td>9</td>\n",
       "      <td>10</td>\n",
       "      <td>0</td>\n",
       "    </tr>\n",
       "    <tr>\n",
       "      <th>18</th>\n",
       "      <td>9</td>\n",
       "      <td>11</td>\n",
       "      <td>0</td>\n",
       "    </tr>\n",
       "    <tr>\n",
       "      <th>19</th>\n",
       "      <td>9</td>\n",
       "      <td>15</td>\n",
       "      <td>2</td>\n",
       "    </tr>\n",
       "    <tr>\n",
       "      <th>20</th>\n",
       "      <td>9</td>\n",
       "      <td>19</td>\n",
       "      <td>2</td>\n",
       "    </tr>\n",
       "    <tr>\n",
       "      <th>21</th>\n",
       "      <td>10</td>\n",
       "      <td>4</td>\n",
       "      <td>1</td>\n",
       "    </tr>\n",
       "    <tr>\n",
       "      <th>22</th>\n",
       "      <td>10</td>\n",
       "      <td>8</td>\n",
       "      <td>0</td>\n",
       "    </tr>\n",
       "    <tr>\n",
       "      <th>23</th>\n",
       "      <td>10</td>\n",
       "      <td>15</td>\n",
       "      <td>2</td>\n",
       "    </tr>\n",
       "    <tr>\n",
       "      <th>24</th>\n",
       "      <td>12</td>\n",
       "      <td>6</td>\n",
       "      <td>0</td>\n",
       "    </tr>\n",
       "    <tr>\n",
       "      <th>25</th>\n",
       "      <td>13</td>\n",
       "      <td>15</td>\n",
       "      <td>3</td>\n",
       "    </tr>\n",
       "    <tr>\n",
       "      <th>26</th>\n",
       "      <td>14</td>\n",
       "      <td>11</td>\n",
       "      <td>0</td>\n",
       "    </tr>\n",
       "    <tr>\n",
       "      <th>27</th>\n",
       "      <td>15</td>\n",
       "      <td>6</td>\n",
       "      <td>0</td>\n",
       "    </tr>\n",
       "    <tr>\n",
       "      <th>28</th>\n",
       "      <td>15</td>\n",
       "      <td>18</td>\n",
       "      <td>3</td>\n",
       "    </tr>\n",
       "    <tr>\n",
       "      <th>29</th>\n",
       "      <td>19</td>\n",
       "      <td>15</td>\n",
       "      <td>3</td>\n",
       "    </tr>\n",
       "  </tbody>\n",
       "</table>\n",
       "</div>"
      ],
      "text/plain": [
       "     x   y  cluster\n",
       "0    2   3        1\n",
       "1    2  11        2\n",
       "2    2  18        2\n",
       "3    4   5        1\n",
       "4    4   7        1\n",
       "5    5   3        1\n",
       "6    5  15        2\n",
       "7    6   6        1\n",
       "8    6   8        1\n",
       "9    6   9        1\n",
       "10   7   3        1\n",
       "11   7   4        1\n",
       "12   7   5        1\n",
       "13   7  15        2\n",
       "14   7  17        2\n",
       "15   8   5        1\n",
       "16   8   4        1\n",
       "17   9  10        0\n",
       "18   9  11        0\n",
       "19   9  15        2\n",
       "20   9  19        2\n",
       "21  10   4        1\n",
       "22  10   8        0\n",
       "23  10  15        2\n",
       "24  12   6        0\n",
       "25  13  15        3\n",
       "26  14  11        0\n",
       "27  15   6        0\n",
       "28  15  18        3\n",
       "29  19  15        3"
      ]
     },
     "execution_count": 19,
     "metadata": {},
     "output_type": "execute_result"
    }
   ],
   "source": [
    "df['cluster'] = kmeans.labels_\n",
    "df.head(30)"
   ]
  },
  {
   "cell_type": "code",
   "execution_count": 20,
   "metadata": {},
   "outputs": [
    {
     "data": {
      "text/plain": [
       "Text(26.04390625, 0.5, 'y')"
      ]
     },
     "execution_count": 20,
     "metadata": {},
     "output_type": "execute_result"
    },
    {
     "data": {
      "image/png": "[encoded data removed]",
      "text/plain": [
       "<Figure size 402.375x360 with 1 Axes>"
      ]
     },
     "metadata": {
      "needs_background": "light"
     },
     "output_type": "display_data"
    }
   ],
   "source": [
    "sb.lmplot('x', 'y', data=df, fit_reg=False, scatter_kws={\"s\": 150}, hue=\"cluster\")\n",
    "plt.title('K-means Example')\n",
    "plt.xlabel('x')\n",
    "plt.ylabel('y')"
   ]
  },
  {
   "cell_type": "markdown",
   "metadata": {},
   "source": [
    "# 프로젝트 예제\n",
    "\n",
    "## 프로젝트 개요\n"
   ]
  },
  {
   "cell_type": "code",
   "execution_count": null,
   "metadata": {},
   "outputs": [],
   "source": []
  },
  {
   "cell_type": "code",
   "execution_count": null,
   "metadata": {},
   "outputs": [],
   "source": []
  },
  {
   "cell_type": "code",
   "execution_count": null,
   "metadata": {},
   "outputs": [],
   "source": []
  },
  {
   "cell_type": "code",
   "execution_count": null,
   "metadata": {},
   "outputs": [],
   "source": []
  },
  {
   "cell_type": "code",
   "execution_count": null,
   "metadata": {},
   "outputs": [],
   "source": []
  },
  {
   "cell_type": "code",
   "execution_count": null,
   "metadata": {},
   "outputs": [],
   "source": []
  },
  {
   "cell_type": "code",
   "execution_count": null,
   "metadata": {},
   "outputs": [],
   "source": []
  },
  {
   "cell_type": "code",
   "execution_count": null,
   "metadata": {},
   "outputs": [],
   "source": []
  },
  {
   "cell_type": "markdown",
   "metadata": {},
   "source": [
    "## 경사하강법 적용하기 (모두의 딥러닝)"
   ]
  },
  {
   "cell_type": "code",
   "execution_count": null,
   "metadata": {},
   "outputs": [],
   "source": []
  },
  {
   "cell_type": "code",
   "execution_count": null,
   "metadata": {},
   "outputs": [],
   "source": [
    "import matplotlib.pyplot as plt  \n",
    "%matplotlib inline\n",
    "\n",
    "def plot_hour2grade(x, y, xline, yline):\n",
    "    \"\"\" x, y의 값들을 그래프로 출력 \"\"\"\n",
    "    plt.figure()  \n",
    "    plt.plot(x, y, '^r')  \n",
    "    plt.plot(xline, yline)\n",
    "    plt.title('Hours vs. Grade')\n",
    "    plt.xlabel('hours')\n",
    "    plt.ylabel('grades')\n",
    "    plt.show()"
   ]
  },
  {
   "cell_type": "code",
   "execution_count": null,
   "metadata": {},
   "outputs": [],
   "source": [
    "# %load 03_Gradient_Descent.py\n",
    "import tensorflow as tf\n",
    "\n",
    "# x, y의 데이터 값\n",
    "data = [[2, 81], [4, 93], [6, 91], [8, 97]]\n",
    "x_data = [x_row[0] for x_row in data]\n",
    "y_data = [y_row[1] for y_row in data]\n",
    "\n",
    "# 기울기 a와 y 절편 b의 값을 임의로 정한다.\n",
    "# 단, 기울기의 범위는 0 ~ 10 사이이며 y 절편은 0 ~ 100 사이에서 변하게 한다.\n",
    "a = tf.Variable(tf.random_uniform([1], 0, 10, dtype = tf.float64, seed = 0))\n",
    "b = tf.Variable(tf.random_uniform([1], 0, 100, dtype = tf.float64, seed = 0))\n",
    "\n",
    "# y에 대한 일차 방정식 ax+b의 식을 세운다.\n",
    "y = a * x_data + b\n",
    "\n",
    "# 텐서플로 RMSE 함수\n",
    "rmse = tf.sqrt(tf.reduce_mean(tf.square( y - y_data )))\n",
    "\n",
    "# 학습률 값\n",
    "learning_rate = 0.1\n",
    "\n",
    "# RMSE 값을 최소로 하는 값 찾기\n",
    "gradient_decent = tf.train.GradientDescentOptimizer(learning_rate).minimize(rmse)\n",
    "\n",
    "# 텐서플로를 이용한 학습\n",
    "with tf.Session() as sess:\n",
    "    # 변수 초기화\n",
    "    sess.run(tf.global_variables_initializer())\n",
    "    # 2001번 실행(0번 째를 포함하므로)\n",
    "    for step in range(2001):\n",
    "        sess.run(gradient_decent)\n",
    "        # 100번마다 결과 출력\n",
    "        if step % 100 == 0:\n",
    "            print(\"Epoch: %.f, RMSE = %.04f, 기울기 a = %.4f, y 절편 b = %.4f\" % (step,sess.run(rmse),sess.run(a),sess.run(b)))\n"
   ]
  },
  {
   "cell_type": "code",
   "execution_count": null,
   "metadata": {},
   "outputs": [],
   "source": [
    "# RMSE = 2.8810, 기울기 a = 2.3000, y 절편 b = 79.0000\n",
    "x=[2, 4, 6, 8]\n",
    "y=[81, 93, 91, 97]\n",
    "\n",
    "a = 2.3000\n",
    "b = 79.0000\n",
    "# code to plot the line y = a x + b\n",
    "xline = np.arange(1, 10, .5)\n",
    "yline = a * xline + b\n",
    "plot_hour2grade(x, y, xline, yline)"
   ]
  },
  {
   "cell_type": "markdown",
   "metadata": {},
   "source": [
    "## 다중 선형 회귀 (모두의 딥러닝)"
   ]
  },
  {
   "cell_type": "code",
   "execution_count": null,
   "metadata": {},
   "outputs": [],
   "source": [
    "# %load 04_Multi-Linear-Regression.py\n",
    "import tensorflow as tf\n",
    "\n",
    "# x1, x2, y의 데이터 값\n",
    "\n",
    "data = [[2, 0, 81], [4, 4, 93], [6, 2, 91], [8, 3, 97]]\n",
    "x1 = [x_row1[0] for x_row1 in data]\n",
    "x2 = [x_row2[1] for x_row2 in data] # 새로 추가되는 값\n",
    "y_data = [y_row[2] for y_row in data]\n",
    "\n",
    "# 기울기 a와 y절편 b의 값을 임의로 정함. 단 기울기의 범위는 0-10 사이, y 절편은 0-100사이에서 변하게 함\n",
    "a1 = tf.Variable(tf.random_uniform([1], 0, 10, dtype=tf.float64, seed=0))\n",
    "a2 = tf.Variable(tf.random_uniform([1], 0, 10, dtype=tf.float64, seed=0))\n",
    "b = tf.Variable(tf.random_uniform([1], 0, 100, dtype=tf.float64, seed=0))\n",
    "\n",
    "# 새로운 방정식\n",
    "y = a1 * x1 + a2 * x2+ b\n",
    "\n",
    "# 텐서플로 RMSE 함수\n",
    "rmse = tf.sqrt(tf.reduce_mean(tf.square( y - y_data )))\n",
    "\n",
    "# 학습률 값\n",
    "learning_rate = 0.1\n",
    "\n",
    "# RMSE 값을 최소로 하는 값 찾기\n",
    "gradient_decent = tf.train.GradientDescentOptimizer(learning_rate).minimize(rmse)\n",
    "\n",
    "# 학습이 진행되는 부분\n",
    "with tf.Session() as sess:\n",
    "    sess.run(tf.global_variables_initializer())\n",
    "\n",
    "    for step in range(2001):\n",
    "        sess.run(gradient_decent)\n",
    "        if step % 100 == 0:\n",
    "            print(\"Epoch: %.f, RMSE = %.04f, 기울기 a1 = %.4f, 기울기 a2 = %.4f, y절편 b = %.4f\" % (step,sess.run(rmse),sess.run(a1),sess.run(a2),sess.run(b)))\n",
    "\n"
   ]
  },
  {
   "cell_type": "markdown",
   "metadata": {},
   "source": [
    "## 다중 선형 회귀 그래프"
   ]
  },
  {
   "cell_type": "code",
   "execution_count": null,
   "metadata": {},
   "outputs": [],
   "source": [
    "# %load 05_3D_Graph.py\n",
    "import numpy as np\n",
    "import statsmodels.api as statm\n",
    "import statsmodels.formula.api as statfa\n",
    "import pandas as pd\n",
    "import matplotlib.pyplot as plt\n",
    "from mpl_toolkits.mplot3d import Axes3D\n",
    "\n",
    "data = [[2, 0, 81], [4, 4, 93], [6, 2, 91], [8, 3, 97]]\n",
    "X = [i[0:2] for i in data]\n",
    "Y = [i[2] for i in data]\n",
    "\n",
    "X_1=statm.add_constant(X)\n",
    "results=statm.OLS(Y,X_1).fit()\n",
    "\n",
    "hour_class=pd.DataFrame(X,columns=['study_hours','private_class'])\n",
    "hour_class['Score']=pd.Series(Y)\n",
    "\n",
    "model = statfa.ols(formula='Score ~ study_hours + private_class', data=hour_class)\n",
    "\n",
    "results_formula = model.fit()\n",
    "\n",
    "a, b = np.meshgrid(np.linspace(hour_class.study_hours.min(),hour_class.study_hours.max(),100),\n",
    "                   np.linspace(hour_class.private_class.min(),hour_class.private_class.max(),100))\n",
    "\n",
    "X_ax = pd.DataFrame({'study_hours': a.ravel(), 'private_class': b.ravel()})\n",
    "fittedY=results_formula.predict(exog=X_ax)\n",
    "fig = plt.figure()\n",
    "\n",
    "graph = fig.add_subplot(111, projection='3d')\n",
    "\n",
    "graph.scatter(hour_class['study_hours'],hour_class['private_class'],hour_class['Score'],\n",
    "              c='blue',marker='o', alpha=1)\n",
    "graph.plot_surface(a,b,fittedY.values.reshape(a.shape),\n",
    "                   rstride=1, cstride=1, color='none', alpha=0.4)\n",
    "graph.set_xlabel('study_hours')\n",
    "graph.set_ylabel('private_class')\n",
    "graph.set_zlabel('Score')\n",
    "\n",
    "plt.show()"
   ]
  },
  {
   "cell_type": "markdown",
   "metadata": {},
   "source": [
    "## Linear Regression & Gradient Descent Example (동빈나)"
   ]
  },
  {
   "cell_type": "code",
   "execution_count": null,
   "metadata": {},
   "outputs": [],
   "source": [
    "import tensorflow as tf\n",
    "\n",
    "xData = [1, 2, 3, 4, 5, 6, 7]\n",
    "yData = [25000, 55000, 75000, 110000, 128000, 155000, 180000]\n",
    "W = tf.Variable(tf.random_uniform([1], -100, 100))\n",
    "b = tf.Variable(tf.random_uniform([1], -100, 100))\n",
    "X = tf.placeholder(tf.float32)\n",
    "Y = tf.placeholder(tf.float32)\n",
    "H = W * X + b\n",
    "cost = tf.reduce_mean(tf.square(H - Y))\n",
    "a = tf.Variable(0.01)   # set learning rate\n",
    "optimizer = tf.train.GradientDescentOptimizer(a)\n",
    "train = optimizer.minimize(cost)\n",
    "\n",
    "init = tf.global_variables_initializer()\n",
    "sess = tf.Session()\n",
    "sess.run(init)\n",
    "for i in  range(5001):\n",
    "    sess.run(train, feed_dict={X:xData, Y:yData})\n",
    "    if i % 500 == 0:\n",
    "        print(i, sess.run(cost, feed_dict={X:xData, Y:yData}), sess.run(W), sess.run(b))\n",
    "\n",
    "print(sess.run(H, feed_dict={X: [8]}))\n"
   ]
  },
  {
   "cell_type": "markdown",
   "metadata": {},
   "source": []
  },
  {
   "cell_type": "code",
   "execution_count": null,
   "metadata": {},
   "outputs": [],
   "source": []
  },
  {
   "cell_type": "markdown",
   "metadata": {},
   "source": [
    "## Placeholder"
   ]
  }
 ],
 "metadata": {
  "kernelspec": {
   "display_name": "Python 3",
   "language": "python",
   "name": "python3"
  },
  "language_info": {
   "codemirror_mode": {
    "name": "ipython",
    "version": 3
   },
   "file_extension": ".py",
   "mimetype": "text/x-python",
   "name": "python",
   "nbconvert_exporter": "python",
   "pygments_lexer": "ipython3",
   "version": "3.7.1"
  }
 },
 "nbformat": 4,
 "nbformat_minor": 2
}
