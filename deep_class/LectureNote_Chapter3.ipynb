{
 "cells": [
  {
   "cell_type": "markdown",
   "metadata": {},
   "source": [
    "# Lecture Note: Chapter 3"
   ]
  },
  {
   "cell_type": "markdown",
   "metadata": {},
   "source": [
    "## Anaconda를 설치한 후, Tensorflow 설치하기 "
   ]
  },
  {
   "cell_type": "markdown",
   "metadata": {},
   "source": [
    "관리자 권한으로 Windows cmd 혹은 powershell을 시작합니다. Mac에서는 terminal을 시작합니다. \n",
    "\n",
    "1. 다음 명령어로 파이썬 버전을 확인합니다. \n",
    "\n",
    "```\n",
    "   python --version \n",
    "   \n",
    "   (Python 3.7.1 출력된다면, Python 3.7 버전입니다)\n",
    "```\n",
    "   \n",
    "\n",
    "2. pip를 upgrade합니다. \n",
    "\n",
    "```\n",
    "    python -m pip install --upgrade pip\n",
    "```    \n",
    "    \n",
    "3. conda를 이용하여 tensorflow라는 가상환경(virtual environment)를 만듭니다. \n",
    "\n",
    "```\n",
    "    conda create -n tensorflow python=3.7\n",
    "```    \n",
    "    \n",
    "4. 위에서 만든 tensorflow 가상환경을 활성화합니다. \n",
    "\n",
    "```\n",
    "    activate tensorflow\n",
    "```    \n",
    "    \n",
    "5. 활성화된 tensorflow 가상환경에 tensorflow를 설치합니다. \n",
    "\n",
    "```\n",
    "    pip install tensorflow\n",
    "```    \n",
    "\n",
    "6. 이제 콘솔 창에서 tensorflow 설치를 확인합니다. Python을 시작하여, tensorflow를 import 하고, 버전을 확인하면 됩니다. \n",
    "\n",
    "```\n",
    "   python\n",
    "   import tensorflow as tf\n",
    "   print(tf.__version__)\n",
    "   exit()\n",
    "```   \n",
    "\n",
    "참고로, keras도 pip를 이용하여 다음과 같이 설치할 수 있습니다. \n",
    "\n",
    "    pip install keras\n",
    "    "
   ]
  },
  {
   "cell_type": "markdown",
   "metadata": {},
   "source": [
    "## 3장 가장 훌륭한 예측선 긋기: 선형 회귀"
   ]
  },
  {
   "cell_type": "code",
   "execution_count": 19,
   "metadata": {},
   "outputs": [
    {
     "name": "stdout",
     "output_type": "stream",
     "text": [
      "Writing plot_hour2grade.py\n"
     ]
    }
   ],
   "source": [
    "%%writefile plot_hour2grade.py\n",
    "\n",
    "import matplotlib.pyplot as plt  \n",
    "%matplotlib inline\n",
    "\n",
    "def plot_hour2grade(x, y, xline, yline):\n",
    "    \"\"\" x, y의 값들을 그래프로 출력 \"\"\"\n",
    "    plt.figure()  \n",
    "    plt.plot(x, y, 'ob')  \n",
    "    plt.plot(xline, yline)\n",
    "    plt.title('Hours vs. Grade')\n",
    "    plt.xlabel('hours')\n",
    "    plt.ylabel('grades')\n",
    "    plt.show()"
   ]
  },
  {
   "cell_type": "markdown",
   "metadata": {},
   "source": [
    "## 선형 회귀 예제 (공부시간과 성적과의 관계)"
   ]
  },
  {
   "cell_type": "code",
   "execution_count": 21,
   "metadata": {},
   "outputs": [
    {
     "name": "stdout",
     "output_type": "stream",
     "text": [
      "x의 평균값: 5.0\n",
      "y의 평균값: 90.5\n",
      "분모: 20.0\n",
      "분자: 46.0\n",
      "기울기 a = 2.3\n",
      "y 절편 b = 79.0\n"
     ]
    },
    {
     "data": {
      "image/png": "[encoded data removed]",
      "text/plain": [
       "<Figure size 432x288 with 1 Axes>"
      ]
     },
     "metadata": {
      "needs_background": "light"
     },
     "output_type": "display_data"
    }
   ],
   "source": [
    "# %%writefile 01_Linear_Regression.py\n",
    "# %load 01_Linear_Regression.py\n",
    "import numpy as np\n",
    "\n",
    "# x 값과 y값\n",
    "x=[2, 4, 6, 8]\n",
    "y=[81, 93, 91, 97]\n",
    "\n",
    "# x와 y의 평균값\n",
    "mx = np.mean(x)\n",
    "my = np.mean(y)\n",
    "print(\"x의 평균값:\", mx)\n",
    "print(\"y의 평균값:\", my)\n",
    "\n",
    "# 기울기 공식의 분모\n",
    "divisor = sum([(mx - i)**2 for i in x])\n",
    "\n",
    "# 기울기 공식의 분자\n",
    "def top(x, mx, y, my):\n",
    "    d = 0\n",
    "    for i in range(len(x)):\n",
    "        d += (x[i] - mx) * (y[i] - my)\n",
    "    return d\n",
    "dividend = top(x, mx, y, my)\n",
    "\n",
    "print(\"분모:\", divisor)\n",
    "print(\"분자:\", dividend)\n",
    "\n",
    "# 기울기와 y 절편 구하기\n",
    "a = dividend / divisor\n",
    "b = my - (mx*a)\n",
    "\n",
    "# 출력으로 확인\n",
    "print(\"기울기 a =\", a)\n",
    "print(\"y 절편 b =\", b)\n",
    "\n",
    "xline = np.arange(0, 10, 0.1)\n",
    "yline = a * xline + b\n",
    "plot_hour2grade(x, y, xline, yline)"
   ]
  },
  {
   "cell_type": "markdown",
   "metadata": {},
   "source": [
    "## RMSE (Root Mean Squared Error, 평균 제곱근 오차) 구하기"
   ]
  },
  {
   "cell_type": "code",
   "execution_count": 22,
   "metadata": {},
   "outputs": [
    {
     "name": "stdout",
     "output_type": "stream",
     "text": [
      "공부시간=2, 실제점수=81, 예측점수=82\n",
      "공부시간=4, 실제점수=93, 예측점수=88\n",
      "공부시간=6, 실제점수=91, 예측점수=94\n",
      "공부시간=8, 실제점수=97, 예측점수=100\n",
      "rmse 최종값: 3.3166247903554\n"
     ]
    }
   ],
   "source": [
    "# %load 02_RMSE.py\n",
    "\n",
    "import numpy as np\n",
    "\n",
    "#기울기 a와 y 절편 b\n",
    "ab=[3,76]\n",
    "\n",
    "# x,y의 데이터 값\n",
    "data = [[2, 81], [4, 93], [6, 91], [8, 97]]\n",
    "x = [i[0] for i in data]\n",
    "y = [i[1] for i in data]\n",
    "\n",
    "# y=ax + b에 a,b 값 대입하여 결과를 출력하는 함수\n",
    "def predict(x):\n",
    "   return ab[0]*x + ab[1]\n",
    "\n",
    "# RMSE 함수\n",
    "def rmse(p, a):\n",
    "   return np.sqrt(((p - a) ** 2).mean())\n",
    "\n",
    "# RMSE 함수를 각 y값에 대입하여 최종 값을 구하는 함수\n",
    "def rmse_val(predict_result,y):\n",
    "   return rmse(np.array(predict_result), np.array(y))\n",
    "\n",
    "# 예측값이 들어갈 빈 리스트\n",
    "predict_result = []\n",
    "\n",
    "# 모든 x값을 한 번씩 대입하여 predict_result 리스트완성.\n",
    "for i in range(len(x)):\n",
    "   predict_result.append(predict(x[i]))\n",
    "   print(\"공부시간=%.f, 실제점수=%.f, 예측점수=%.f\" % (x[i], y[i], predict(x[i])))\n",
    "\n",
    "# 최종 RMSE 출력\n",
    "print(\"rmse 최종값: \" + str(rmse_val(predict_result,y)))\n",
    "\n"
   ]
  },
  {
   "cell_type": "code",
   "execution_count": 23,
   "metadata": {},
   "outputs": [
    {
     "name": "stdout",
     "output_type": "stream",
     "text": [
      "[[1 0 0 0]\n",
      " [1 0 1 1]\n",
      " [1 1 0 1]\n",
      " [1 1 1 0]]\n"
     ]
    }
   ],
   "source": [
    "data = np.array([[1, 0, 0, 0], [1, 0, 1, 1], [1, 1, 0, 1], [1, 1, 1, 0]])\n",
    "print(data)\n",
    "\n"
   ]
  },
  {
   "cell_type": "markdown",
   "metadata": {},
   "source": [
    "## 'Hello World'를 Tensorflow로 실행하기"
   ]
  },
  {
   "cell_type": "code",
   "execution_count": null,
   "metadata": {},
   "outputs": [],
   "source": []
  },
  {
   "cell_type": "markdown",
   "metadata": {},
   "source": [
    "## 경사하강법 적용하기 "
   ]
  },
  {
   "cell_type": "code",
   "execution_count": null,
   "metadata": {},
   "outputs": [],
   "source": [
    "#%load 03_Gradient_Descent.py\n"
   ]
  },
  {
   "cell_type": "code",
   "execution_count": null,
   "metadata": {},
   "outputs": [],
   "source": [
    "#RMSE = 2.8810, 기울기 a = 2.3000, y 절편 b = 79.0000\n"
   ]
  },
  {
   "cell_type": "markdown",
   "metadata": {},
   "source": [
    "## 다중 선형 회귀"
   ]
  },
  {
   "cell_type": "code",
   "execution_count": null,
   "metadata": {},
   "outputs": [],
   "source": [
    "#%load 04_Multi-Linear-Regression.py\n"
   ]
  },
  {
   "cell_type": "markdown",
   "metadata": {},
   "source": [
    "## 다중 선형 회귀 그래프"
   ]
  },
  {
   "cell_type": "code",
   "execution_count": null,
   "metadata": {},
   "outputs": [],
   "source": [
    "# %load 05_3D_Graph.py\n"
   ]
  },
  {
   "cell_type": "markdown",
   "metadata": {},
   "source": [
    "# Tensorflow\n",
    "\n",
    "## Linear Regression & Gradient Descent Example"
   ]
  },
  {
   "cell_type": "code",
   "execution_count": null,
   "metadata": {},
   "outputs": [],
   "source": []
  },
  {
   "cell_type": "markdown",
   "metadata": {},
   "source": [
    "## Constant & Variable"
   ]
  },
  {
   "cell_type": "code",
   "execution_count": null,
   "metadata": {},
   "outputs": [],
   "source": []
  },
  {
   "cell_type": "markdown",
   "metadata": {},
   "source": [
    "## Placeholder"
   ]
  }
 ],
 "metadata": {
  "kernelspec": {
   "display_name": "Python 3",
   "language": "python",
   "name": "python3"
  },
  "language_info": {
   "codemirror_mode": {
    "name": "ipython",
    "version": 3
   },
   "file_extension": ".py",
   "mimetype": "text/x-python",
   "name": "python",
   "nbconvert_exporter": "python",
   "pygments_lexer": "ipython3",
   "version": "3.7.1"
  }
 },
 "nbformat": 4,
 "nbformat_minor": 2
}
