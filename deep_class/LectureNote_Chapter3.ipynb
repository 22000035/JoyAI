{
 "cells": [
  {
   "cell_type": "markdown",
   "metadata": {},
   "source": [
    "# Lecture Note: Chapter 3"
   ]
  },
  {
   "cell_type": "markdown",
   "metadata": {},
   "source": [
    "## Anaconda를 설치한 후, Tensorflow 설치하기 "
   ]
  },
  {
   "cell_type": "markdown",
   "metadata": {},
   "source": [
    "관리자 권한으로 Windows cmd 혹은 powershell을 시작합니다. Mac에서는 terminal을 시작합니다. \n",
    "\n",
    "1. 다음 명령어로 파이썬 버전을 확인합니다. \n",
    "\n",
    "```\n",
    "   python --version \n",
    "   \n",
    "   (Python 3.7.1 출력된다면, Python 3.7 버전입니다)\n",
    "```\n",
    "   \n",
    "\n",
    "2. pip를 upgrade합니다. \n",
    "\n",
    "```\n",
    "    python -m pip install --upgrade pip\n",
    "```    \n",
    "    \n",
    "3. conda를 이용하여 tensorflow라는 가상환경(virtual environment)를 만듭니다. \n",
    "\n",
    "```\n",
    "    conda create -n tensorflow python=3.7\n",
    "```    \n",
    "    \n",
    "4. 위에서 만든 tensorflow 가상환경을 활성화합니다. \n",
    "\n",
    "```\n",
    "    activate tensorflow\n",
    "```    \n",
    "    \n",
    "5. 활성화된 tensorflow 가상환경에 tensorflow를 설치합니다. \n",
    "\n",
    "```\n",
    "    pip install tensorflow\n",
    "```    \n",
    "\n",
    "6. 이제 콘솔 창에서 tensorflow 설치를 확인합니다. Python을 시작하여, tensorflow를 import 하고, 버전을 확인하면 됩니다. \n",
    "\n",
    "```\n",
    "   python\n",
    "   import tensorflow as tf\n",
    "   print(tf.__version__)\n",
    "   exit()\n",
    "```   \n",
    "\n",
    "참고로, keras도 pip를 이용하여 다음과 같이 설치할 수 있습니다. \n",
    "\n",
    "    pip install keras\n",
    "    "
   ]
  },
  {
   "cell_type": "markdown",
   "metadata": {},
   "source": [
    "## 3장 가장 훌륭한 예측선 긋기: 선형 회귀"
   ]
  },
  {
   "cell_type": "code",
   "execution_count": null,
   "metadata": {},
   "outputs": [],
   "source": [
    "import matplotlib.pyplot as plt  \n",
    "%matplotlib inline\n",
    "\n",
    "def plot_hour2grade(x, y):\n",
    "    \"\"\" x, y의 값들을 그래프로 출력 \"\"\"\n",
    "    plt.figure()  \n",
    "    plt.plot(x, y, '^r')  \n",
    "    plt.plot(xline, yline)\n",
    "    plt.title('Hours vs. Grade')\n",
    "    plt.xlabel('hours')\n",
    "    plt.ylabel('grades')\n",
    "    plt.show()"
   ]
  },
  {
   "cell_type": "markdown",
   "metadata": {},
   "source": [
    "## 선형 회귀 예제 (공부시간과 성적과의 관계)"
   ]
  },
  {
   "cell_type": "code",
   "execution_count": null,
   "metadata": {},
   "outputs": [],
   "source": [
    "#%load 01_Linear_Regression.py"
   ]
  },
  {
   "cell_type": "markdown",
   "metadata": {},
   "source": [
    "## RMSE (Root Mean Squared Error, 평균 제곱근 오차) 구하기"
   ]
  },
  {
   "cell_type": "code",
   "execution_count": null,
   "metadata": {},
   "outputs": [],
   "source": [
    "#%load 02_RMSE.py"
   ]
  },
  {
   "cell_type": "markdown",
   "metadata": {},
   "source": [
    "## 'Hello World'를 Tensorflow로 실행하기"
   ]
  },
  {
   "cell_type": "code",
   "execution_count": null,
   "metadata": {},
   "outputs": [],
   "source": []
  },
  {
   "cell_type": "markdown",
   "metadata": {},
   "source": [
    "## 경사하강법 적용하기 "
   ]
  },
  {
   "cell_type": "code",
   "execution_count": null,
   "metadata": {},
   "outputs": [],
   "source": [
    "#%load 03_Gradient_Descent.py\n"
   ]
  },
  {
   "cell_type": "code",
   "execution_count": null,
   "metadata": {},
   "outputs": [],
   "source": [
    "#RMSE = 2.8810, 기울기 a = 2.3000, y 절편 b = 79.0000\n"
   ]
  },
  {
   "cell_type": "markdown",
   "metadata": {},
   "source": [
    "## 다중 선형 회귀"
   ]
  },
  {
   "cell_type": "code",
   "execution_count": null,
   "metadata": {},
   "outputs": [],
   "source": [
    "#%load 04_Multi-Linear-Regression.py\n"
   ]
  },
  {
   "cell_type": "markdown",
   "metadata": {},
   "source": [
    "## 다중 선형 회귀 그래프"
   ]
  },
  {
   "cell_type": "code",
   "execution_count": null,
   "metadata": {},
   "outputs": [],
   "source": [
    "# %load 05_3D_Graph.py\n"
   ]
  },
  {
   "cell_type": "markdown",
   "metadata": {},
   "source": [
    "# Tensorflow\n",
    "\n",
    "## Linear Regression & Gradient Descent Example"
   ]
  },
  {
   "cell_type": "code",
   "execution_count": null,
   "metadata": {},
   "outputs": [],
   "source": []
  },
  {
   "cell_type": "markdown",
   "metadata": {},
   "source": [
    "## Constant & Variable"
   ]
  },
  {
   "cell_type": "code",
   "execution_count": null,
   "metadata": {},
   "outputs": [],
   "source": []
  },
  {
   "cell_type": "markdown",
   "metadata": {},
   "source": [
    "## Placeholder"
   ]
  }
 ],
 "metadata": {
  "kernelspec": {
   "display_name": "Python 3",
   "language": "python",
   "name": "python3"
  },
  "language_info": {
   "codemirror_mode": {
    "name": "ipython",
    "version": 3
   },
   "file_extension": ".py",
   "mimetype": "text/x-python",
   "name": "python",
   "nbconvert_exporter": "python",
   "pygments_lexer": "ipython3",
   "version": "3.7.1"
  }
 },
 "nbformat": 4,
 "nbformat_minor": 2
}
