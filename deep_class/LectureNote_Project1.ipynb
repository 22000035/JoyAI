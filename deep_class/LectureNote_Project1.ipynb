{
 "cells": [
  {
   "cell_type": "markdown",
   "metadata": {},
   "source": [
    "# LectureNote: Project - 1\n",
    "\n",
    "\n",
    "# Project - 선형회귀를 활용한 배추가격 예측 AI 개발 (1 ~ 7강)"
   ]
  },
  {
   "cell_type": "markdown",
   "metadata": {},
   "source": [
    "\n",
    "### 추천의 말\n",
    "여기에 소개하는 \"안경잡이 개발자(동빈나)\" 강의는 최근(2018)에 만들어지고, 우리의 교육과정의 일부분으로 적합하여 여러분에게 수강을 추천합니다. 모든 동영상 강의가 유튜브에 공개되어 있을 뿐만 아니라 [naver blog](https://blog.naver.com/ndb796/221036493985)에는 스크립트와 함께 동영상을 볼 수 있습니다.  \n",
    "\n",
    "본 프로젝트도 동빈나 강의자가 유튜브에 1강부터 7강까지로 소개하고 있습니다. 아래와 같이 자료들과 깃허브 소스도 제공하고 있으니 참고하길 바랍니다.\n",
    "\n",
    "- [블로그와 자료](https://ndb796.tistory.com/124?category=1013932)\n",
    "\n",
    "- [깃허브 자료와 소스](https://github.com/ndb796/Vegita/blob/master/README.md)\n",
    "\n",
    "- [웹서버 부트스트랩](https://mdbootstrap.com/freebies/jquery/full-page-video-carousel/)\n",
    "\n",
    "#### 1. [프로젝트 개요](https://www.youtube.com/watch?v=wZvhBVqitn8&list=PLRx0vPvlEmdAbnmLH9yh03cw9UQU_o7PO&index=13) (4:30)\n",
    "\n",
    "#### 2. [프로젝트 아이디어 결정 및 데이터 수집](https://www.youtube.com/watch?v=86u8TmkRN38&list=PLRx0vPvlEmdAbnmLH9yh03cw9UQU_o7PO&index=14) (4:46)\n",
    "\n",
    "#### 3. [다변인 선형회귀 모델 개발하기](https://www.youtube.com/watch?v=9Ur7bbZtoTc&list=PLRx0vPvlEmdAbnmLH9yh03cw9UQU_o7PO&index=15) (8:44)\n",
    "\n",
    "#### 4. [저장된 학습 모델로 배추 가격 예측하기](https://www.youtube.com/watch?v=xJuW_DltmDE&list=PLRx0vPvlEmdAbnmLH9yh03cw9UQU_o7PO&index=16) (4:09)\n",
    "\n",
    "#### 5. [기초 데이터 시각화하기](https://www.youtube.com/watch?v=EtW6c8W_cnw&list=PLRx0vPvlEmdAbnmLH9yh03cw9UQU_o7PO&index=17) (3:32)\n",
    "\n",
    "#### 6. [플라스크 웹 서버와 웹 디자인](https://www.youtube.com/watch?v=gmbkKE-jUUE&list=PLRx0vPvlEmdAbnmLH9yh03cw9UQU_o7PO&index=18) (6:21)\n",
    "\n",
    "#### 7. [플라스크와 텐서플로우 연동하기](https://www.youtube.com/watch?v=gmbkKE-jUUE&list=PLRx0vPvlEmdAbnmLH9yh03cw9UQU_o7PO&index=18) (5:44)"
   ]
  },
  {
   "cell_type": "markdown",
   "metadata": {},
   "source": [
    "## Anaconda를 설치한 후, Tensorflow 설치하기 "
   ]
  },
  {
   "cell_type": "markdown",
   "metadata": {},
   "source": [
    "관리자 권한으로 Windows cmd 혹은 powershell을 시작합니다. Mac에서는 terminal을 시작합니다. \n",
    "\n",
    "1. 다음 명령어로 파이썬 버전을 확인합니다. \n",
    "\n",
    "```\n",
    "   python --version \n",
    "   \n",
    "   (Python 3.7.1 출력된다면, Python 3.7 버전입니다)\n",
    "```\n",
    "   \n",
    "\n",
    "2. pip를 upgrade합니다. \n",
    "\n",
    "```\n",
    "    python -m pip install --upgrade pip\n",
    "```    \n",
    "    \n",
    "3. conda를 이용하여 tensorflow라는 가상환경(virtual environment)를 만듭니다. \n",
    "\n",
    "```\n",
    "    conda create -n tensorflow python=3.7\n",
    "```    \n",
    "    \n",
    "4. 위에서 만든 tensorflow 가상환경을 활성화합니다. \n",
    "\n",
    "```\n",
    "    activate tensorflow\n",
    "```    \n",
    "    \n",
    "5. 활성화된 tensorflow 가상환경에 tensorflow를 설치합니다. \n",
    "\n",
    "```\n",
    "    pip install tensorflow\n",
    "```    \n",
    "\n",
    "6. 이제 콘솔 창에서 tensorflow 설치를 확인합니다. Python을 시작하여, tensorflow를 import 하고, 버전을 확인하면 됩니다. \n",
    "\n",
    "```\n",
    "   python\n",
    "   import tensorflow as tf\n",
    "   print(tf.__version__)\n",
    "   exit()\n",
    "```   \n",
    "\n",
    "참고로, keras도 pip를 이용하여 다음과 같이 설치할 수 있습니다. \n",
    "\n",
    "    pip install keras\n",
    "    "
   ]
  },
  {
   "cell_type": "code",
   "execution_count": 2,
   "metadata": {},
   "outputs": [],
   "source": [
    "import tensorflow as tf\n",
    "import numpy as np\n",
    "from pandas.io.parsers import read_csv\n",
    "\n",
    "model = tf.global_variables_initializer();\n",
    "\n",
    "data = read_csv('price data.csv', sep=',')\n",
    "\n",
    "xy = np.array(data, dtype=np.float32)"
   ]
  },
  {
   "cell_type": "code",
   "execution_count": 3,
   "metadata": {},
   "outputs": [
    {
     "name": "stdout",
     "output_type": "stream",
     "text": [
      "[[ 2.0100100e+07 -4.9000001e+00 -1.1000000e+01  8.9999998e-01\n",
      "   0.0000000e+00  2.1230000e+03]\n",
      " [ 2.0100102e+07 -3.0999999e+00 -5.5000000e+00  5.5000000e+00\n",
      "   8.0000001e-01  2.1230000e+03]\n",
      " [ 2.0100104e+07 -2.9000001e+00 -6.9000001e+00  1.4000000e+00\n",
      "   0.0000000e+00  2.1230000e+03]\n",
      " ...\n",
      " [ 2.0171228e+07  2.9000001e+00 -2.0999999e+00  8.0000000e+00\n",
      "   0.0000000e+00  2.9010000e+03]\n",
      " [ 2.0171230e+07  2.9000001e+00 -1.6000000e+00  7.0999999e+00\n",
      "   6.0000002e-01  2.9010000e+03]\n",
      " [ 2.0171232e+07  2.0999999e+00 -2.0000000e+00  5.8000002e+00\n",
      "   4.0000001e-01  2.9010000e+03]]\n"
     ]
    }
   ],
   "source": [
    "print(xy)"
   ]
  },
  {
   "cell_type": "code",
   "execution_count": null,
   "metadata": {},
   "outputs": [],
   "source": []
  }
 ],
 "metadata": {
  "kernelspec": {
   "display_name": "Python 3",
   "language": "python",
   "name": "python3"
  },
  "language_info": {
   "codemirror_mode": {
    "name": "ipython",
    "version": 3
   },
   "file_extension": ".py",
   "mimetype": "text/x-python",
   "name": "python",
   "nbconvert_exporter": "python",
   "pygments_lexer": "ipython3",
   "version": "3.7.1"
  }
 },
 "nbformat": 4,
 "nbformat_minor": 2
}
