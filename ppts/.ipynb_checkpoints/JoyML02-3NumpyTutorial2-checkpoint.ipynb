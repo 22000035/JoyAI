{
 "cells": [
  {
   "cell_type": "markdown",
   "metadata": {},
   "source": [
    "# 파이썬으로 배우는 기계학습\n",
    "# Machine Learning with Python\n",
    "**************"
   ]
  },
  {
   "cell_type": "markdown",
   "metadata": {},
   "source": [
    "# 제 2-3 강: 넘파이$^{Numpy}$ 튜토리얼(2/2)\n",
    "\n",
    "## 학습 목표\n",
    "기계학습에서 왜 넘파이를 사용하는지 이해하고, 넘파이 개념과 기본적인 사용법을 익힌다.\n",
    "\n",
    "## 학습 내용\n",
    "\n",
    "1. 브로드캐스팅\n",
    "2. 배열의 Axes(축) 다루기\n",
    "3. 난수의 배열 생성\n",
    "4. 자료의 읽기와 쓰기\n"
   ]
  },
  {
   "cell_type": "code",
   "execution_count": 2,
   "metadata": {},
   "outputs": [],
   "source": [
    "import numpy as np\n",
    "import matplotlib.pyplot as plt\n",
    "def pprint(arr):\n",
    "    print(\"type:{}, size:{}\".format(type(arr), arr.size))\n",
    "    print(\"shape:{}, ndim/rank:{}, dtype:{}\".format(arr.shape, arr.ndim, arr.dtype))\n",
    "    print(\"Array's Data:\")\n",
    "    print(arr)"
   ]
  },
  {
   "cell_type": "markdown",
   "metadata": {},
   "source": [
    "## 1. 브로드캐스팅$^{broadcasting}$\n",
    "브로드캐스팅이라는 말을 들으면 우리는 금방 \"방송\"이란 뜻이 생각이 납니다. 그런데, '방송'외에 '널리 전하다, 퍼뜨리다'의 뜻도 있습니다. 아마도 방송이 발명되기 전에는 이런 의미가 더 강했을 것 같습니다. \n",
    "\n",
    "일반적으로 서로 형상이 다른 배열끼리는 연산이 가능하지 않습니다. 다음 셀을 실행하면, ValueError가 나오면서 broadcast할 수 없다는 에러 메세지가 나옵니다. "
   ]
  },
  {
   "cell_type": "code",
   "execution_count": 69,
   "metadata": {},
   "outputs": [],
   "source": [
    "a = np.array([1,2,3])\n",
    "b = np.array([1,2])"
   ]
  },
  {
   "cell_type": "markdown",
   "metadata": {},
   "source": [
    "그런데, 어떤 조건이 맞을 경우에는 형상이 서로 다른 배열 간에도 산술 연산이 가능하게 하니다. 이를 브로드캐스팅이라고 합니다. 종종 작은 배열과 큰 배열이 있을 때, 큰 배열을 대상으로 작은 배열을 여러 번 연산하고자 할 때 사용합니다. 간단한 예는 배열의 각 행에 상수 벡터를 더하는 경우입니다. \n",
    "\n",
    "예를 들며, A행렬에 B벡터를 A행렬의 모든 행마다 더하기를 원할 때입니다. \n",
    "\n",
    "$ A = \\begin{pmatrix} 1 & 2 & 3\\cr 4 & 5 & 6 \\cr 7 & 8 & 9 \\cr 10 & 11 & 12 \\end{pmatrix}, \\quad\n",
    "B = \\begin{pmatrix} 1 & 0 & 1 \\end{pmatrix} $\n",
    "\n",
    "여기서 \n",
    "\n",
    "$ A + B $\n",
    "\n",
    "하면, 브로드캐스팅으로 인하여 B가 확장이 되어 마치 A의 형상처럼 되어 연산을 합니다. \n",
    "\n",
    "$ A + B = \\begin{pmatrix} 1 & 2 & 3\\cr 4 & 5 & 6 \\cr 7 & 8 & 9 \\cr 10 & 11 & 12 \\end{pmatrix} + \n",
    "\\begin{pmatrix} 1 & 0 & 1 \\cr 1 & 0 & 1 \\cr 1 & 0 & 1 \\cr 1 & 0 & 1 \\end{pmatrix} $"
   ]
  },
  {
   "cell_type": "code",
   "execution_count": 5,
   "metadata": {},
   "outputs": [
    {
     "name": "stdout",
     "output_type": "stream",
     "text": [
      "[[ 2  2  4]\n",
      " [ 5  5  7]\n",
      " [ 8  8 10]\n",
      " [11 11 13]]\n"
     ]
    }
   ],
   "source": [
    "x = np.array(np.arange(1, 13)).reshape(4, 3)\n",
    "y = np.array([1, 0, 1])\n",
    "print(x + y)"
   ]
  },
  {
   "cell_type": "markdown",
   "metadata": {},
   "source": [
    "#### 예제 1 - shape(3) + shape(1) = shape(3)\n",
    "\n",
    "Numpy 배열 `[0, 1, 2]`에 스칼라 5를 합한 결과가 `[5, 6, 7]`이 됩니다. 브로드캐스팅으로 5가 0이외에 1과 2의 원소 부분에도 전파(broadcast)되어 계산되어 간단하게 합산이 이루어집니다.\n",
    "\n",
    "\\begin{align}\n",
    "  A = \\begin{pmatrix} 0 & 1 & 2 \\end{pmatrix} + \\begin{pmatrix} 5 \\end{pmatrix} \n",
    "    = \\begin{pmatrix} 5 & 6 & 7 \\end{pmatrix} \n",
    "\\end{align}\n",
    "    \n",
    "<img src=\"images/numpy-broadcast1.png\" width=\"500\">\n",
    "<center>그림 2: 브로드캐스팅 예제 1</center>"
   ]
  },
  {
   "cell_type": "code",
   "execution_count": 3,
   "metadata": {},
   "outputs": [
    {
     "data": {
      "text/plain": [
       "array([5, 6, 7])"
      ]
     },
     "execution_count": 3,
     "metadata": {},
     "output_type": "execute_result"
    }
   ],
   "source": [
    "np.arange(3) + 5"
   ]
  },
  {
   "cell_type": "markdown",
   "metadata": {},
   "source": [
    "#### 예제 2 - shape(3, 3) + shape(3) = shape(3, 3)\n",
    "\n",
    "배열 간의 계산으로 배열의 차원이 확대된 경우인데, 3x3 배열에 1x3 배열을 합산한 경우입니다. 각 행에 동일한 계산을 전파한 것을 볼 수 있습니다.\n",
    "\n",
    "\\begin{align}\n",
    "A = \\begin{pmatrix} 1 & 1 & 1 \\cr  1 & 1 & 1 \\cr  1 & 1 & 1  \\end{pmatrix} \n",
    "  + \\begin{pmatrix} 0 & 1 & 2 \\end{pmatrix} \n",
    "  = \\begin{pmatrix} 1 & 2 & 3 \\cr 1 & 2 & 3 \\cr 1 & 2 & 3 \\end{pmatrix} \n",
    "\\end{align}\n",
    "    \n",
    "<img src=\"images/numpy-broadcast2.png\" width=\"500\">\n",
    "<center>그림 3: 브로드캐스팅 예제 2</center>"
   ]
  },
  {
   "cell_type": "code",
   "execution_count": 72,
   "metadata": {},
   "outputs": [
    {
     "data": {
      "text/plain": [
       "array([[1., 2., 3.],\n",
       "       [1., 2., 3.],\n",
       "       [1., 2., 3.]])"
      ]
     },
     "execution_count": 72,
     "metadata": {},
     "output_type": "execute_result"
    }
   ],
   "source": [
    "np.ones((3, 3)) + np.arange(3) "
   ]
  },
  {
   "cell_type": "markdown",
   "metadata": {},
   "source": [
    "#### 예제 3 - shape(3, 1) + shape(1, 3) = shape(3, 3) \n",
    "\n",
    "이 마지막 예제는 브로드캐스팅의 확장성 측면을 극명하게 보여주는 경우입니다. 3x1 배열과 1x3 배열의 합을 했는데 두 번째에서는 한쪽의 더 낮은 차원의 배열에서만 아래(0번 축) 방향으로 broadcast한 것에 반해 양 쪽 배열에서 broadcast한 것을 확인할 수 있습니다.\n",
    "\n",
    "\\begin{align}\n",
    "A = \\begin{pmatrix} 0 \\cr 1 \\cr 2 \\end{pmatrix} + \\begin{pmatrix} 0 & 1 & 2 \\end{pmatrix} \n",
    "    = \\begin{pmatrix} 0 & 1 & 2 \\cr 1 & 2 & 3 \\cr 2 & 3 & 4 \\end{pmatrix} \n",
    "\\end{align}\n",
    "    \n",
    "<img src=\"images/numpy-broadcast3.png\" width=\"500\">\n",
    "<center>그림 4: 브로드캐스팅 예제 3</center>"
   ]
  },
  {
   "cell_type": "code",
   "execution_count": 8,
   "metadata": {},
   "outputs": [
    {
     "data": {
      "text/plain": [
       "array([[0, 1, 2],\n",
       "       [1, 2, 3],\n",
       "       [2, 3, 4]])"
      ]
     },
     "execution_count": 8,
     "metadata": {},
     "output_type": "execute_result"
    }
   ],
   "source": [
    "np.arange(3).reshape(3, 1) + np.arange(3)"
   ]
  },
  {
   "cell_type": "markdown",
   "metadata": {},
   "source": [
    "지금까지 예제를 통해 보로드캐스팅을 할 수 있는 있었던 조건을 살펴보면, \n",
    "- 배열 연산에서 항상 1차원 배열이 포함되어 있어야 합니다. \n",
    "- 행/열의 어떤 축이든(0축이든지 혹은 1축이든지) 차원의 길이가 같아야 합니다. 예제의 경우(3x3 + 1x3,  3x1 + 1x3)와 같이 말입니다. "
   ]
  },
  {
   "cell_type": "markdown",
   "metadata": {},
   "source": [
    "#### 예제 4 - shape(3,4,2) + shape(4,2) = shape(3, 4, 2)\n",
    "\n",
    "3차원 배열의 0번 축으로 브로드캐스팅 된 예시입니다. (3,4,2)형상의 3차원 배열과 (4,2)형상의 2차원 배열이 있습니다. 위에서 말한 조건처럼 차원의 짝이 맞아야 브로드캐스팅이 수행될 수 있습니다. 2차원 배열의 형상(4,2)가 3차원 배열의 형상(4,2)와 짝이 맞기 때문에 누락된 부분인 3만큼의 차원 확장(broadcasting)이 되고 합산이 일어납니다. 0번 축으로 브로드캐스팅이 된 것입니다.\n",
    "\n",
    "브로드캐스팅은 저차원의 배열을 연산을 위해서 고차원 배열로 확장시키는 것과 같습니다.\n",
    "\n",
    "<img src=\"images/numpy-broadcast4.png\" width=\"500\">\n",
    "<center>그림 5: 브로드캐스팅 예제 4</center>\n",
    "<center>출처: Python 기초:http://sacko.tistory.com/</center>"
   ]
  },
  {
   "cell_type": "markdown",
   "metadata": {},
   "source": [
    "## 2. 배열의 축(Axis) 다루기\n",
    "\n",
    "기계학습에서 자료를 다루다보면, Numpy 배열의 축(Axis)를 필수적으로 이해해야 할 필요가 종종 생깁니다. \n",
    "\n",
    "예를 들면, 다음 그림과 같은 3차원 배열은 어떻게 만들수 있을까요? 또한 axis = 0에 대한 np.sum()는 어떤 값을 반환할까 하는 문제입니다. 배열의 axis를 확실히 이해하지 않으면, 참 까다로운 문제입니다. \n",
    "\n",
    "<img src=\"images/ndarray.png\" width=\"600\">\n",
    "<center>그림 6: Numpy 1차원, 2차원 및 3차원 배열과 Axis</center>"
   ]
  },
  {
   "cell_type": "markdown",
   "metadata": {},
   "source": [
    "### 2차원 배열의 경우\n",
    "\n",
    "자, 그러면 이 문제를 정확하게 이해하기 위하여 np.sum() 함수를 이용하여 2차원의 예제부터 살펴보도록 하겠습니다. "
   ]
  },
  {
   "cell_type": "code",
   "execution_count": 87,
   "metadata": {},
   "outputs": [
    {
     "name": "stdout",
     "output_type": "stream",
     "text": [
      "[[0 1 2]\n",
      " [3 4 5]]\n"
     ]
    }
   ],
   "source": [
    "a = np.arange(6).reshape(2,3)\n",
    "print(a)"
   ]
  },
  {
   "cell_type": "markdown",
   "metadata": {},
   "source": [
    "여기서 np.sum(a)를 하면, 모든 원소의 합을 구할수 있습니다. \n",
    "\n",
    "그리고, axis=0 혹은 axis=1을 지정하면 각 축에 대한 합을 구할 수 있습니다. 그런데, 그 축의 합은 어느 값들의 합일까하는 문제입니다. 다음과 같이 실행했을 때, 출력은 무엇인가요? \n",
    "\n",
    "`np.sum(a, axis=0)`\n",
    "\n",
    "제가 답을 말하기 전에 여러분이 먼저 답을 생각해보면 좋겠습니다. 먼저 형상은 무엇인지, 원소의 값은 무엇인지 생각해보십시오. "
   ]
  },
  {
   "cell_type": "code",
   "execution_count": 88,
   "metadata": {},
   "outputs": [
    {
     "name": "stdout",
     "output_type": "stream",
     "text": [
      "sum(axis=0): [3 5 7]\n"
     ]
    }
   ],
   "source": [
    "print('sum(axis=0):', np.sum(a, axis=0))"
   ]
  },
  {
   "cell_type": "markdown",
   "metadata": {},
   "source": [
    "여러분이 생각한 것과 같은가요?\n",
    "- aixs = 0 즉 행을 기준으로 각 행의 동일 인덱스의 원소를 그룹으로 합니다\n",
    "- aixs = 1 즉 열을 기준으로 각 열의 동일 인덱스의 원소를 그룹으로 합니다\n",
    "axis = 0를 기준으로 각 행의 인덱스가 각각 0, 1, 2 원소들끼리 합한 것이 정답입니다. 그러므로, 배열의 형상은 (3,)입니다. \n",
    "\n",
    "한 번 연습을 해볼까요? 다음과 같이 실행했을 때, 형상과 원소의 값을 무엇인가요?\n",
    "\n",
    "`np.max(a, axis=1)`\n",
    "\n",
    "제가 답을 말하기 전에 여러분이 먼저 답을 생각해보면 좋겠습니다."
   ]
  },
  {
   "cell_type": "code",
   "execution_count": 89,
   "metadata": {},
   "outputs": [
    {
     "name": "stdout",
     "output_type": "stream",
     "text": [
      "[[0 1 2]\n",
      " [3 4 5]]\n",
      "max(axis=1): [2 5]\n"
     ]
    }
   ],
   "source": [
    "print(a)\n",
    "print('max(axis=1):', np.max(a, axis=1))"
   ]
  },
  {
   "cell_type": "markdown",
   "metadata": {},
   "source": [
    "배열에서 axis=1 즉 3개의 열들 중에서 인덱스가 같은 원소들끼리 비교하여 최대값을 구한 것입니다. 3개 중에 하나를 선택하는 것을 두 번해야 합니다. "
   ]
  },
  {
   "cell_type": "markdown",
   "metadata": {},
   "source": [
    "### 3차원 배열의 경우\n",
    "\n",
    "2차원 배열은 1차원 배열(벡터)를 두 개 이상을 모아 둔 것이며, 3차원 배열은 2차원 배열을 두 개 이상 모아둔 것\n",
    "3차원 배열은 2차원의 배열을 두 개 이상 존재하는 것입니다.  다음과 같은 (4 x 2)배열을 numpy로 어떻게 생성할 수 있을까요?\n",
    "\n",
    "<img src=\"images/numpy3d.png\" width=\"400\">\n",
    "<center>그림 6: Numpy 2차원, 3차원 배열</center>"
   ]
  },
  {
   "cell_type": "code",
   "execution_count": 3,
   "metadata": {},
   "outputs": [
    {
     "name": "stdout",
     "output_type": "stream",
     "text": [
      "type:<class 'numpy.ndarray'>, size:8\n",
      "shape:(4, 2), ndim/rank:2, dtype:int32\n",
      "Array's Data:\n",
      "[[0 1]\n",
      " [2 3]\n",
      " [4 5]\n",
      " [6 7]]\n"
     ]
    }
   ],
   "source": [
    "a = np.arange(8).reshape(4,2)\n",
    "pprint(a)"
   ]
  },
  {
   "cell_type": "markdown",
   "metadata": {},
   "source": [
    "그림의 배열과 numpy가 출력하는 배열의 모양이 같은 것을 볼 수 있습니다. 그러면, 다음과 같은 3차원 배열은 어떻게 생성할 수 있을까요? 3차원 배열은 (4, 2) 2차원 배열을 3개를 모은 것입니다. "
   ]
  },
  {
   "cell_type": "code",
   "execution_count": 4,
   "metadata": {
    "scrolled": true
   },
   "outputs": [
    {
     "name": "stdout",
     "output_type": "stream",
     "text": [
      "type:<class 'numpy.ndarray'>, size:24\n",
      "shape:(3, 4, 2), ndim/rank:3, dtype:int32\n",
      "Array's Data:\n",
      "[[[ 0  1]\n",
      "  [ 2  3]\n",
      "  [ 4  5]\n",
      "  [ 6  7]]\n",
      "\n",
      " [[ 8  9]\n",
      "  [10 11]\n",
      "  [12 13]\n",
      "  [14 15]]\n",
      "\n",
      " [[16 17]\n",
      "  [18 19]\n",
      "  [20 21]\n",
      "  [22 23]]]\n"
     ]
    }
   ],
   "source": [
    "a = np.arange(24).reshape(3, 4, 2)\n",
    "pprint(a)"
   ]
  },
  {
   "cell_type": "markdown",
   "metadata": {},
   "source": [
    "자, 그러면 np.sum(a, axis = 0)은 어떤 형상이며, 값은 무엇일까요?"
   ]
  },
  {
   "cell_type": "code",
   "execution_count": 5,
   "metadata": {},
   "outputs": [
    {
     "name": "stdout",
     "output_type": "stream",
     "text": [
      "type:<class 'numpy.ndarray'>, size:12\n",
      "shape:(3, 4), ndim/rank:2, dtype:int32\n",
      "Array's Data:\n",
      "[[ 1  5  9 13]\n",
      " [17 21 25 29]\n",
      " [33 37 41 45]]\n"
     ]
    }
   ],
   "source": [
    "pprint(np.sum(a, axis=2))\n"
   ]
  },
  {
   "cell_type": "markdown",
   "metadata": {},
   "source": [
    "축 axis = 0과 같은 방향으로 시선을 향하면 됩니다. 그러면, 형상은 당연히 (4, 2)가 보일 것입니다. 그리고 같은 위치에 있는 원소들을 합하면 됩니다. 예를 들면, (0, 4, 1), (1, 4, 1), (2, 4, 1) 위치의 원소를 다 합하면 45가 되는 것을 알 수 있습니다. \n",
    "\n",
    "<img src=\"images/numpy3d-axis0.png\" width=\"200\">\n",
    "<center>그림 6: 3차원 배열의 축(axis = 0)</center>"
   ]
  },
  {
   "cell_type": "markdown",
   "metadata": {},
   "source": [
    "자, 그러면 np.min(a, axis = 1)은 어떤 형상이며, 값은 무엇일까요?\n",
    "\n",
    "<img src=\"images/numpy3d-axis1.png\" width=\"200\">\n",
    "<center>그림 6: 3차원 배열의 축(axis = 1)</center>\n",
    "\n",
    "축 axis = 1과 같은 방향으로 시선을 향하면 됩니다. 그러면, 형상은 당연히 (3, 2)가 보일 것입니다. 그 위치에 있는 원소들 중에 작은 값을 택하면 됩니다. 이런 경우, 모두 가장 위에 있는 값들이 가장 작은 것을 알 수 있습니다.  \n"
   ]
  },
  {
   "cell_type": "code",
   "execution_count": 6,
   "metadata": {},
   "outputs": [
    {
     "data": {
      "text/plain": [
       "array([[ 0,  1],\n",
       "       [ 8,  9],\n",
       "       [16, 17]])"
      ]
     },
     "execution_count": 6,
     "metadata": {},
     "output_type": "execute_result"
    }
   ],
   "source": [
    "np.min(a, axis = 1)"
   ]
  },
  {
   "cell_type": "markdown",
   "metadata": {},
   "source": [
    "자, 그러면 마지막으로 np.max(a, axis = 2)은 어떤 형상이며, 값은 무엇일까요?\n",
    "\n",
    "<img src=\"images/numpy3d-axis2.png\" width=\"200\">\n",
    "<center>그림 6: 3차원 배열의 축(axis = 2)</center>\n"
   ]
  },
  {
   "cell_type": "markdown",
   "metadata": {},
   "source": [
    "축 axis = 2의 방향으로 시선을 향하면 됩니다. 그러면, 형상은 당연히 (4, 3)가 보일 것입니다. 그 위치에 있는 원소들 중에 큰 값을 택하면 됩니다. 이런 경우, 시선에 가장 멀리 있는 원소들 (앞에서 볼 때, 가장 오른쪽) 가장 큰 값인 것을 알 수 있습니다. "
   ]
  },
  {
   "cell_type": "code",
   "execution_count": 7,
   "metadata": {},
   "outputs": [
    {
     "data": {
      "text/plain": [
       "array([[ 1,  3,  5,  7],\n",
       "       [ 9, 11, 13, 15],\n",
       "       [17, 19, 21, 23]])"
      ]
     },
     "execution_count": 7,
     "metadata": {},
     "output_type": "execute_result"
    }
   ],
   "source": [
    "np.max(a, axis = 2)"
   ]
  },
  {
   "cell_type": "markdown",
   "metadata": {},
   "source": [
    "2차원 배열을 건물의 `[floor][room]`이라고 생각해보십시오. (참고로, 이미지(영상,화면)에서 x, y좌표는 좌측상단 코너가 원점(0,0)이며, x는 오른쪽으로, y는 아래쪽으로 양의 방향입니다) 이런 이미지 좌표 체계를 이해하면, 2차원일 경우는 서로 일치가 되니까 쉽게 이해할 수 있습니다.\n",
    "\n",
    "그런데, 3차원일 경우는 직접 비유하기가 좀 어렵네요. 한번 `[address][floor][room]`이라고 생각해보면 어떨까 합니다. 이런 거죠 `[axis=0][axis=1][axis=2] = [address][floor][room]`에서, address는 길이 나아가는 방향으로 진행하고, floor건물의 지하층으로 내려가고, room은 오른쪽으로 나아갑니다.\n",
    "\n",
    "넘파이 3d 배열에 억지로 비유 하자면, 좌측상단 코너를 (0,0,0)로 삼고, 앞으로 전진하는 (address,번지수)을 0축(x)으로, 밑으로 내려가는 (floor,층)을 1축(y)으로 잡고, 그 다음 오른쪽으로 나가가는 (room, 방)을 2축(z)이 될 것입니다.\n",
    "\n",
    "그러면, 넘파이 4d배열은 `[street][address][floor][room]`라고 비유할 수 있겠습니다. "
   ]
  },
  {
   "cell_type": "markdown",
   "metadata": {},
   "source": [
    "## 3. 난수의 배열 생성"
   ]
  },
  {
   "cell_type": "markdown",
   "metadata": {},
   "source": [
    "파이썬의 numpy.random 모듈에는 난수를 기반으로 난수를 발생하여 배열을 만드는 여러 함수를 제공합니다. 그 중에서 기계학습에서 종종 사용하는 세 개만 소개합니다. \n",
    "\n",
    "- `randint(low, high=None, size=None, dtype='l')`\n",
    "  low 부터 high 미만의 범위에서 정수 표본을 추출하여 지정된 shape으로 배열을 반환\n",
    "- `normal(loc=0.0, scale=1.0, size=None)` \n",
    "  정규 분포 확률 밀도에서 표본을 추출하여 배열로 반환하며, 정규 분포의 평균(loc), 표준편차(scale)을 지정할 수 있음.\n",
    "- `random(size=None)`\n",
    "  `[0., 1.)` 범위의 난수를 균등 분포(Uniform Distribution)에서 표본 추출하여 배열로 반환"
   ]
  },
  {
   "cell_type": "code",
   "execution_count": 26,
   "metadata": {},
   "outputs": [
    {
     "name": "stdout",
     "output_type": "stream",
     "text": [
      "type:<class 'numpy.ndarray'>, size:8\n",
      "shape:(2, 4), ndim/rank:2, dtype:int32\n",
      "Array's Data:\n",
      "[[ 2  3 -2  0]\n",
      " [-4  4  1 -1]]\n"
     ]
    }
   ],
   "source": [
    "a = np.random.randint(-5, 5, size=(2, 4))\n",
    "pprint(a)"
   ]
  },
  {
   "cell_type": "code",
   "execution_count": 27,
   "metadata": {},
   "outputs": [
    {
     "name": "stdout",
     "output_type": "stream",
     "text": [
      "type:<class 'numpy.ndarray'>, size:8\n",
      "shape:(2, 4), ndim/rank:2, dtype:float64\n",
      "Array's Data:\n",
      "[[ 0.98693634  0.31490862 -0.15879823 -1.35088078]\n",
      " [ 1.25745285 -0.1454307  -0.50459431 -1.32518548]]\n"
     ]
    }
   ],
   "source": [
    "mean = 0\n",
    "std = 1\n",
    "a = np.random.normal(mean, std, (2, 4))\n",
    "pprint(a)"
   ]
  },
  {
   "cell_type": "code",
   "execution_count": 28,
   "metadata": {},
   "outputs": [
    {
     "data": {
      "image/png": "[encoded data removed]",
      "text/plain": [
       "<matplotlib.figure.Figure at 0x2a9718200f0>"
      ]
     },
     "metadata": {},
     "output_type": "display_data"
    }
   ],
   "source": [
    "data = np.random.normal(0, 1, 10000)\n",
    "plt.hist(data, bins=100)\n",
    "plt.show()"
   ]
  },
  {
   "cell_type": "code",
   "execution_count": 29,
   "metadata": {},
   "outputs": [
    {
     "name": "stdout",
     "output_type": "stream",
     "text": [
      "type:<class 'numpy.ndarray'>, size:8\n",
      "shape:(2, 4), ndim/rank:2, dtype:float64\n",
      "Array's Data:\n",
      "[[0.4071774  0.29814428 0.56020993 0.53608765]\n",
      " [0.09821222 0.04731724 0.03673973 0.740131  ]]\n"
     ]
    },
    {
     "data": {
      "image/png": "[encoded data removed]",
      "text/plain": [
       "<matplotlib.figure.Figure at 0x2a971820b70>"
      ]
     },
     "metadata": {},
     "output_type": "display_data"
    }
   ],
   "source": [
    "a = np.random.random((2, 4))\n",
    "pprint(a)\n",
    "data = np.random.random(10000)\n",
    "plt.hist(data, bins=100)\n",
    "plt.show()"
   ]
  },
  {
   "cell_type": "markdown",
   "metadata": {},
   "source": [
    "#### 난수 발생에 대한 노트\n",
    "기계학습에서 난수를 자주 사용합니다. 그런데, 주의할 점이 하나 있습니다. 난수를 발생하는 알고리즘은 특정한 시작 숫자로부터 무작위로 숫자를 만들어 냅니다. 따라서 시작점을 알면 난수 발생을 똑같이 반복할 수 있습니다. 이렇게 난수 발생을 재연하기 위해 난수의 시작점을 지정할 수 있는 함수가 있는데, 그것이 바로 np.random.seed 입니다.\n",
    "다음 예를 살펴봅시다. "
   ]
  },
  {
   "cell_type": "code",
   "execution_count": 18,
   "metadata": {},
   "outputs": [],
   "source": [
    "np.random.seed(100)"
   ]
  },
  {
   "cell_type": "code",
   "execution_count": 19,
   "metadata": {},
   "outputs": [
    {
     "data": {
      "text/plain": [
       "array([[0.54340494, 0.27836939],\n",
       "       [0.42451759, 0.84477613]])"
      ]
     },
     "execution_count": 19,
     "metadata": {},
     "output_type": "execute_result"
    }
   ],
   "source": [
    "np.random.random((2, 2))"
   ]
  },
  {
   "cell_type": "code",
   "execution_count": 20,
   "metadata": {},
   "outputs": [
    {
     "data": {
      "text/plain": [
       "array([[4, 2, 5],\n",
       "       [2, 2, 2]])"
      ]
     },
     "execution_count": 20,
     "metadata": {},
     "output_type": "execute_result"
    }
   ],
   "source": [
    "np.random.randint(0, 10, (2, 3))"
   ]
  },
  {
   "cell_type": "code",
   "execution_count": 21,
   "metadata": {},
   "outputs": [],
   "source": [
    "# 위의 seed값을 다시 설정하여, 아래에서 난수가 재연 가능하도록 함\n",
    "np.random.seed(100)  "
   ]
  },
  {
   "cell_type": "code",
   "execution_count": 22,
   "metadata": {},
   "outputs": [
    {
     "data": {
      "text/plain": [
       "array([[0.54340494, 0.27836939],\n",
       "       [0.42451759, 0.84477613]])"
      ]
     },
     "execution_count": 22,
     "metadata": {},
     "output_type": "execute_result"
    }
   ],
   "source": [
    "np.random.random((2, 2))"
   ]
  },
  {
   "cell_type": "code",
   "execution_count": 23,
   "metadata": {},
   "outputs": [
    {
     "data": {
      "text/plain": [
       "array([[4, 2, 5],\n",
       "       [2, 2, 2]])"
      ]
     },
     "execution_count": 23,
     "metadata": {},
     "output_type": "execute_result"
    }
   ],
   "source": [
    "np.random.randint(0, 10, (2, 3))"
   ]
  },
  {
   "cell_type": "markdown",
   "metadata": {},
   "source": [
    "기계학습에 특별히 개발할 때는 임의의 seed값을 정하여 난수를 발생할 것을 권장합니다. 왜냐하면, 만약에 디버깅할 경우에 버그가 발생한 상황을 재연할 수 있어야 하기 때문입니다. "
   ]
  },
  {
   "cell_type": "markdown",
   "metadata": {},
   "source": [
    "## 4. 자료 쓰기와 읽기 \n",
    "기계학습의 학습 자료 데이터 셋을 저장할 때 다양한 방식이 있을 수 있겠지만, 간단한 두 가지 방법 중에 중에 하나를 사용합니다. \n",
    "하나는 행 벡터 방식이고, 또 다른 하나는 열 벡터 방식입니다. 물론 그런 데이터를 읽고 적절히 가공하여 학습에 사용할 수 있어야 합니다. \n",
    "\n",
    "다음은 numpy를 이용하여 행 벡터 방식으로 파일에 저장된 자료를 열 벡터 방식으로 읽는 코드입니다. \n",
    "\n",
    "행$^{row}$ 벡터 방식으로 데이터를 저장합니다. "
   ]
  },
  {
   "cell_type": "code",
   "execution_count": 24,
   "metadata": {},
   "outputs": [
    {
     "name": "stdout",
     "output_type": "stream",
     "text": [
      "Overwriting ./data/joyxor.txt\n"
     ]
    }
   ],
   "source": [
    "%%writefile ./data/joyxor.txt\n",
    "# writing a data file\n",
    "# xor data with bias X0 - row vector style\n",
    "# x0 x1 x2 y\n",
    "1 0 0 0\n",
    "1 0 1 1\n",
    "1 1 0 1\n",
    "1 1 1 0"
   ]
  },
  {
   "cell_type": "code",
   "execution_count": 8,
   "metadata": {},
   "outputs": [
    {
     "name": "stdout",
     "output_type": "stream",
     "text": [
      "# writing a data file\n",
      "# xor data with bias - row vector style\n",
      "# x0 x1 x2 y\n",
      "1 0 0 0\n",
      "1 0 1 1\n",
      "1 1 0 1\n",
      "1 1 1 0\n"
     ]
    }
   ],
   "source": [
    "# read and display a file  \n",
    "!cat  ./data/joyxor.txt"
   ]
  },
  {
   "cell_type": "markdown",
   "metadata": {},
   "source": [
    "### 행 벡터 - row vector  (Read rows in rows)\n",
    "\n",
    "행 벡터로 기록되어 있으니, 행 벡터로 읽는 작업은 쉽게 할 수 있습니다. "
   ]
  },
  {
   "cell_type": "code",
   "execution_count": 10,
   "metadata": {},
   "outputs": [
    {
     "name": "stdout",
     "output_type": "stream",
     "text": [
      "[[1 0 0 0]\n",
      " [1 0 1 1]\n",
      " [1 1 0 1]\n",
      " [1 1 1 0]]\n",
      "[[1 0 0]\n",
      " [1 0 1]\n",
      " [1 1 0]\n",
      " [1 1 1]]\n",
      "[0 1 1 0]\n"
     ]
    }
   ],
   "source": [
    "import numpy as np\n",
    "data = np.loadtxt('./data/joyxor.txt', dtype=int)\n",
    "print(data)\n",
    "X, y = data[:, :3], data[:, 3]\n",
    "print(X)\n",
    "print(y)"
   ]
  },
  {
   "cell_type": "markdown",
   "metadata": {},
   "source": [
    "### 컬럼 벡터 - column vector (Read rows in columns)"
   ]
  },
  {
   "cell_type": "markdown",
   "metadata": {},
   "source": [
    "- unpack 옵션을 사용하여 row vector를 column vector로 변환(전치)"
   ]
  },
  {
   "cell_type": "code",
   "execution_count": 9,
   "metadata": {},
   "outputs": [
    {
     "name": "stdout",
     "output_type": "stream",
     "text": [
      "type:<class 'numpy.ndarray'>, size:16\n",
      "shape:(4, 4), ndim/rank:2, dtype:float32\n",
      "Array's Data:\n",
      "[[1. 1. 1. 1.]\n",
      " [0. 0. 1. 1.]\n",
      " [0. 1. 0. 1.]\n",
      " [0. 1. 1. 0.]]\n"
     ]
    }
   ],
   "source": [
    "import numpy as np\n",
    "data = np.loadtxt('./data/joyxor.txt', unpack=True, dtype='float32')\n",
    "pprint(data)"
   ]
  },
  {
   "cell_type": "code",
   "execution_count": 14,
   "metadata": {},
   "outputs": [
    {
     "name": "stdout",
     "output_type": "stream",
     "text": [
      "[[1. 1. 1. 1.]\n",
      " [0. 0. 1. 1.]\n",
      " [0. 1. 0. 1.]]\n",
      "[[1. 0. 0.]\n",
      " [1. 0. 1.]\n",
      " [1. 1. 0.]\n",
      " [1. 1. 1.]]\n"
     ]
    }
   ],
   "source": [
    "X = data[:-1]   # same as data[:-1]\n",
    "print(X)\n",
    "print(X.T)"
   ]
  },
  {
   "cell_type": "code",
   "execution_count": 41,
   "metadata": {},
   "outputs": [
    {
     "data": {
      "text/plain": [
       "array([0., 1., 1., 0.], dtype=float32)"
      ]
     },
     "execution_count": 41,
     "metadata": {},
     "output_type": "execute_result"
    }
   ],
   "source": [
    "y = data[-1] \n",
    "y"
   ]
  },
  {
   "cell_type": "markdown",
   "metadata": {},
   "source": [
    "### 참고자료\n",
    "- CS231n Convolutional Neural Networks for Visual Recognition, [Python Numpy Tutorial](http://cs231n.github.io/python-numpy-tutorial/), Stanford University\n",
    "- [Python For Data Science Cheat Sheet NumPy Basics](https://s3.amazonaws.com/assets.datacamp.com/blog_assets/Numpy_Python_Cheat_Sheet.pdf), DataCamp\n",
    "- [astroML](http://www.astroml.org/book_figures/appendix/fig_broadcast_visual.html) \n",
    "- Python Numpy Tutorial - http://cs231n.github.io/\n",
    "- 김태완 블로그: [파이썬 데이터 사이언스 Cheat Sheet](http://taewan.kim/post/numpy_cheat_sheet/)"
   ]
  },
  {
   "cell_type": "markdown",
   "metadata": {},
   "source": [
    "# KMOOC Quiz"
   ]
  },
  {
   "cell_type": "markdown",
   "metadata": {},
   "source": [
    "__JoyQuiz 1:__ A행렬이 주어지고, A와 B 행렬을 더하여 C 행렬을 만들려고 할 때, B행렬을 나타내는 코드로 올바른 것은 무엇인가요?\n",
    "\n",
    "$ A = \\begin{pmatrix} 2 & 5 & 8 & 11 & 14 \\cr 1 & 4 & 7 & 10 & 13 \\cr 0 & 3 & 6 & 9 & 12 \\end{pmatrix} \\qquad $ \n",
    "$ B = \\begin{pmatrix} ? \\end{pmatrix} \\qquad$\n",
    "$ C = \\begin{pmatrix} 5 & 5 & 11 & 11 & 17 \\cr 4 & 4 & 10 & 10 & 17 \\cr 3 & 3 & 9 & 9 & 15 \\end{pmatrix}$\n",
    "\n",
    "\n",
    "    1. B = numpy.array( [ 3 , 0 , 3 ] )\n",
    "    2. B = numpy.array( [ 3 , 0 , 3 , 0, 3 ] )\n",
    "    3. B = nympy.array( [ [ 3 , 0 , 3 , 0 , 3 ] ] )\n",
    "    4. B = numpy.array( [ [ 3 , 0 ] , [ 3 , 0 ] , [ 3 ] ] )\n"
   ]
  },
  {
   "cell_type": "markdown",
   "metadata": {},
   "source": [
    "__JoyQuiz 2:__ 다음과 같은 넘파이 배열이 주어졌을 때, 3차원 원소들의 합을 구하려고 합니다. Numpy.sum() 함수를 이용하려할 때, 어떤 매개변수를 전달해야 할까요? (주어진 넘파이 배열은 np_arr 변수에 담겨있다고 가정합니다)"
   ]
  },
  {
   "cell_type": "code",
   "execution_count": 9,
   "metadata": {},
   "outputs": [
    {
     "name": "stdout",
     "output_type": "stream",
     "text": [
      "[[[ 0  1]\n",
      "  [ 2  3]\n",
      "  [ 4  5]\n",
      "  [ 6  7]]\n",
      "\n",
      " [[ 8  9]\n",
      "  [10 11]\n",
      "  [12 13]\n",
      "  [14 15]]\n",
      "\n",
      " [[16 17]\n",
      "  [18 19]\n",
      "  [20 21]\n",
      "  [22 23]]]\n",
      "[[ 1  5  9 13]\n",
      " [17 21 25 29]\n",
      " [33 37 41 45]]\n"
     ]
    }
   ],
   "source": [
    "import numpy as np\n",
    "np_arr = np.arange(24).reshape(3, 4, 2)\n",
    "print(np_arr)\n",
    "print(np.sum(np_arr, axis = 2))"
   ]
  },
  {
   "cell_type": "markdown",
   "metadata": {},
   "source": [
    "__JoyQuiz 3:__ joy.txt 파일에는 다음과 같은 데이터가 저장되어 있습니다. 해당 데이터를 float 형태로 다음과 같은 형태로 data 변수에 저장하기 위해서는 어떻게 코드를 작성해야 하나요?\n",
    "\n",
    "    a. data = numpy.loadtxt(‘joy.txt’, dtype=‘int’)\n",
    "    b. data = numpy.loadtxt(‘joy.txt’, unpack=True, dtype=‘int’)\n",
    "    c. data = numpy.loadtxt(‘joy.txt’, unpack=True)\n",
    "    d. data = numpy.loadtxt(‘joy.txt’, unpack=True, dtype=‘float32’)\n"
   ]
  },
  {
   "cell_type": "code",
   "execution_count": 10,
   "metadata": {},
   "outputs": [
    {
     "name": "stdout",
     "output_type": "stream",
     "text": [
      "[[1. 1. 1. 1.]\n",
      " [0. 0. 1. 1.]\n",
      " [0. 1. 0. 1.]\n",
      " [0. 1. 1. 0.]]\n"
     ]
    }
   ],
   "source": [
    "data = np.loadtxt('joy.txt', unpack=True, dtype='float32')\n",
    "print(data)"
   ]
  },
  {
   "cell_type": "markdown",
   "metadata": {},
   "source": [
    "__JoyQuiz 5:__  다음 행렬 연산의 결과는?\n",
    "\n",
    "`\n",
    "a = np.arange(12).reshape(3, 2, 2)\n",
    "a.min(axis = 0)\n",
    "`\n",
    "\n",
    "    (1) 3차원 행렬\n",
    "    (2) 2차원 행렬\n",
    "    (3) 1차원 행렬\n",
    "    (4) 스칼라 \n",
    "    (5) 7이 포함되어 있다.\n",
    "    \n",
    "__JoyAnswer: (2)__"
   ]
  },
  {
   "cell_type": "code",
   "execution_count": 30,
   "metadata": {},
   "outputs": [
    {
     "name": "stdout",
     "output_type": "stream",
     "text": [
      "[[ 8  9]\n",
      " [10 11]]\n"
     ]
    }
   ],
   "source": [
    "a = np.arange(12).reshape(3, 2, 2)\n",
    "b = a.max(axis = 0)\n",
    "print(b)"
   ]
  },
  {
   "cell_type": "code",
   "execution_count": null,
   "metadata": {},
   "outputs": [],
   "source": []
  },
  {
   "cell_type": "markdown",
   "metadata": {},
   "source": [
    "-------------------\n",
    "\n",
    "__JoyFinal:__  다음과 같이 행렬 A, B를 정의한다면, (A + B) 연산 결과는? \n",
    "\n",
    "$ \\mathbf{A} = \\begin{pmatrix} 0 \\cr 1 \\cr 2 \\end{pmatrix} $\n",
    "\n",
    "$ \\mathbf{B} = \\begin{pmatrix} 0 & 1 & 2 \\end{pmatrix} $\n",
    "\n",
    "(1) 연산 오류가 발생한다.\n",
    "\n",
    "(2) [0, 2, 4]\n",
    "\n",
    "(3) [0, 2, 4].T\n",
    "\n",
    "(4) [6]\n",
    "\n",
    "(5) $\\begin{pmatrix} 0 & 1 & 2 \\cr 1 & 2 & 3 \\cr 2 & 3 & 4 \\end{pmatrix}$\n",
    "\n",
    "----------------\n",
    "Answer: (5)"
   ]
  }
 ],
 "metadata": {
  "kernelspec": {
   "display_name": "Python 3",
   "language": "python",
   "name": "python3"
  },
  "language_info": {
   "codemirror_mode": {
    "name": "ipython",
    "version": 3
   },
   "file_extension": ".py",
   "mimetype": "text/x-python",
   "name": "python",
   "nbconvert_exporter": "python",
   "pygments_lexer": "ipython3",
   "version": "3.7.1"
  }
 },
 "nbformat": 4,
 "nbformat_minor": 2
}
