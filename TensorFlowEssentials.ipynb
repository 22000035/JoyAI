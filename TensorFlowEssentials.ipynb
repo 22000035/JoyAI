{
 "cells": [
  {
   "cell_type": "markdown",
   "metadata": {
    "colab_type": "text",
    "id": "view-in-github"
   },
   "source": [
    "<a href=\"https://colab.research.google.com/github/idebtor/JoyAI/blob/master/JoyAI/TensorFlowEssentials.ipynb\" target=\"_parent\"><img src=\"https://colab.research.google.com/assets/colab-badge.svg\" alt=\"Open In Colab\"/></a>"
   ]
  },
  {
   "cell_type": "code",
   "execution_count": 0,
   "metadata": {
    "colab": {},
    "colab_type": "code",
    "id": "61NsUFtAVtfm"
   },
   "outputs": [],
   "source": []
  },
  {
   "cell_type": "markdown",
   "metadata": {
    "colab_type": "text",
    "id": "NKRuH1TrV216"
   },
   "source": [
    "# TensorFlow Essentials\n",
    "\n",
    "Before implementing machine-learning algorithms, let's first get familiar with how to use TensorFlow.  This lesson covers some essential advantages of TensorFlow to convice you it is the machine-learning library of choice.\n",
    "\n",
    "Suppose you are a private business owner tracking the flow of sales for your products.  Your inventory consists of 1,000 items, and you represent each item's price in a vector called `prices`.  Another 1,000-dimensional vector called `amounts` represents the inventoroy count of each item.  Then you want to write a code to compute the revenue of selling all the products.  Keep in mind that this code does not import any libraries. \n"
   ]
  },
  {
   "cell_type": "code",
   "execution_count": 16,
   "metadata": {
    "colab": {
     "base_uri": "https://localhost:8080/",
     "height": 35
    },
    "colab_type": "code",
    "id": "yRTKQW0WXSa-",
    "outputId": "4d514246-5e52-4fa3-a999-6666e23e7e7c"
   },
   "outputs": [
    {
     "name": "stdout",
     "output_type": "stream",
     "text": [
      "554.75\n"
     ]
    }
   ],
   "source": [
    "prices = [32.50, 10.5, 0.55, 2.5, 4.0]\n",
    "amounts = [10, 20, 5, 2, 3]\n",
    "\n",
    "revenue = 0\n",
    "for price, amount in zip(prices, amounts):\n",
    "  revenue += price * amount\n",
    "  \n",
    "print(revenue)"
   ]
  },
  {
   "cell_type": "markdown",
   "metadata": {
    "colab_type": "text",
    "id": "b1D4Bepdb503"
   },
   "source": [
    "This is a lot of code just to calculate the inner (or dot) product of two vectors. The following code shows how to concisely write the same inner product using NumPy."
   ]
  },
  {
   "cell_type": "code",
   "execution_count": 15,
   "metadata": {
    "colab": {
     "base_uri": "https://localhost:8080/",
     "height": 35
    },
    "colab_type": "code",
    "id": "cWMzAfl7Xg-_",
    "outputId": "adeff7fe-13d3-4590-8636-7bdc49fe958c"
   },
   "outputs": [
    {
     "name": "stdout",
     "output_type": "stream",
     "text": [
      "554.75\n"
     ]
    }
   ],
   "source": [
    "import numpy as np\n",
    "\n",
    "prices = np.array([32.50, 10.5, 0.55, 2.5, 4.0])\n",
    "amounts = np.array([10, 20, 5, 2, 3])\n",
    "\n",
    "revenue = np.dot(prices, amounts)\n",
    "  \n",
    "print(revenue)"
   ]
  },
  {
   "cell_type": "markdown",
   "metadata": {
    "colab_type": "text",
    "id": "oi0ViyHDcOpG"
   },
   "source": [
    "When we are using TensorFlow and NumPy libraries, we can simplify this kind of coding significantly.  Using Python without libraries is like using a camera without auto mode: you gain more flexibility, you can easily make careless mistakes.  It is easy to make mistakes in machine learning, so let's keep our camera on autofocus and use Tenforflow and NumPy to help autormate tedious software development.\n",
    "\n",
    "First, you import TensorFlow by running following script: "
   ]
  },
  {
   "cell_type": "code",
   "execution_count": 0,
   "metadata": {
    "colab": {},
    "colab_type": "code",
    "id": "c9Ob0wCdY95_"
   },
   "outputs": [],
   "source": [
    "import tensorflow as tf\n"
   ]
  },
  {
   "cell_type": "markdown",
   "metadata": {
    "colab_type": "text",
    "id": "YrshGHfkeZXk"
   },
   "source": [
    "If you were able to run the cell above, then you are ready to work with TensorFlow.  Otherwise, you may need to install it first.\n",
    "\n",
    "\n",
    "## Representing tensors\n",
    "\n",
    "A convenient way to describe an object's in the real world is through listing its properties, or features.  For example, you can describe a car by its color, model, engine type, mileage, door style, and so on.  An ordered list of features is called __feature vector__, and that's exactly what you'll represent in TensorFlow code. \n",
    "\n",
    "Feature vectors are one of the most unseful devices in machine learning because of its simplicity (they're just a list of numbers).  Each data item typically consists of a feature vector, and good dataset has hundreds, if not thousands, of these feature vectors.  No doubt, you'll often be dealing with more than one vector at a time.  A matrix concisely represents a list of vectors, where each column of a matrix is a feature vector. \n",
    "\n",
    "The syntax to represent matrices in matrices in TensorFflow is a vector of vectors, each of the same length.   The following three lines of code  are trying to represent the same 2 x 2 matrix. "
   ]
  },
  {
   "cell_type": "code",
   "execution_count": 19,
   "metadata": {
    "colab": {
     "base_uri": "https://localhost:8080/",
     "height": 125
    },
    "colab_type": "code",
    "id": "JEd01MYkeS5S",
    "outputId": "364059e2-4542-495f-b5f7-630d71a3cae1"
   },
   "outputs": [
    {
     "name": "stdout",
     "output_type": "stream",
     "text": [
      "<class 'list'>\n",
      "<class 'numpy.ndarray'>\n",
      "<class 'tensorflow.python.framework.ops.Tensor'>\n",
      "<class 'tensorflow.python.framework.ops.Tensor'>\n",
      "<class 'tensorflow.python.framework.ops.Tensor'>\n",
      "<class 'tensorflow.python.framework.ops.Tensor'>\n"
     ]
    }
   ],
   "source": [
    "import tensorflow as tf\n",
    "import numpy as np\n",
    "\n",
    "# Three ways of representing 2 x 2 tensors\n",
    "\n",
    "m1 = [[1.0, 2.0], \n",
    "      [3.0, 4.0]]\n",
    "\n",
    "m2 = np.array([[1.0, 2.0], \n",
    "               [3.0, 4.0]], dtype=np.float32) \n",
    "\n",
    "m3 = tf.constant([[1.0, 2.0], \n",
    "                  [3.9, 4.0]]) \n",
    "\n",
    "print(type(m1))\n",
    "print(type(m2))\n",
    "print(type(m3))\n",
    "\n",
    "t1 = tf.convert_to_tensor(m1, dtype=tf.float32)\n",
    "t2 = tf.convert_to_tensor(m2, dtype=tf.float32)\n",
    "t3 = tf.convert_to_tensor(m3, dtype=tf.float32)\n",
    "\n",
    "print(type(t1))\n",
    "print(type(t2))\n",
    "print(type(t3))"
   ]
  },
  {
   "cell_type": "markdown",
   "metadata": {
    "colab_type": "text",
    "id": "Np4yQVJgj9kw"
   },
   "source": [
    "The first variable `m1` is a list, the second variable `m2` is an `ndarray` from the NumPy library, and the last variable `m3` is TensorFLow constant `Tensor` object that you initialized using `tf.constant`. "
   ]
  },
  {
   "cell_type": "markdown",
   "metadata": {
    "colab_type": "text",
    "id": "dIDj_Jt8rlht"
   },
   "source": [
    "## Creating tensors\n",
    "\n",
    "Let's take another look at defining tensor in code.  After importint the TensorFlow library, you can use the `tf.constant` operator as follows.  Here are a couple of tensors of various dimensions. "
   ]
  },
  {
   "cell_type": "code",
   "execution_count": 20,
   "metadata": {
    "colab": {
     "base_uri": "https://localhost:8080/",
     "height": 71
    },
    "colab_type": "code",
    "id": "1_j2aaOAtPjN",
    "outputId": "28e401f7-0a63-4fbe-afed-64ad135115b3"
   },
   "outputs": [
    {
     "name": "stdout",
     "output_type": "stream",
     "text": [
      "Tensor(\"Const_3:0\", shape=(1, 2), dtype=float32)\n",
      "Tensor(\"Const_4:0\", shape=(2, 1), dtype=int32)\n",
      "Tensor(\"Const_5:0\", shape=(2, 3, 2), dtype=int32)\n"
     ]
    }
   ],
   "source": [
    "import tensorflow as tf\n",
    "\n",
    "m1 = tf.constant([[1., 2.]])  # defines a 2 x 1 matrix\n",
    "\n",
    "m2 = tf.constant([[1], [2]])  # defines a 1 x 2 matrix\n",
    "\n",
    "m3 = tf.constant([[[1, 2], [3, 4], [5, 6]], [[7, 8], [9, 10], [11, 12]]])  \n",
    "\n",
    "print(m1)\n",
    "print(m2)\n",
    "print(m3)\n"
   ]
  },
  {
   "cell_type": "markdown",
   "metadata": {
    "colab_type": "text",
    "id": "wqZPl-IVuTdL"
   },
   "source": [
    "TensorFlow also comes with a few convenient constructors for some simple tensors.  For example, `tf.zeros(shape)` creates a tensor with all  values initialized at zeroof a specific shape.  Similarly, `tf.zeros(shape)` creates a tensor of a specific shape with all values initialized at once.  The shape argument is a one-dimensional (1D) tensor of type `int32` (a list of integers) describing the dimensions of the tensor."
   ]
  },
  {
   "cell_type": "markdown",
   "metadata": {
    "colab_type": "text",
    "id": "Y7m2nZQ1xNjR"
   },
   "source": [
    "## Exercise 1\n",
    "Initialize a 500 x 500 tensor with all elements equaling 0.5.\n",
    "\n",
    "Answer:\n",
    "  tf.ones( [500, 500] ) * 0.5"
   ]
  },
  {
   "cell_type": "code",
   "execution_count": 0,
   "metadata": {
    "colab": {},
    "colab_type": "code",
    "id": "3xuxDc0fxMeR"
   },
   "outputs": [],
   "source": []
  },
  {
   "cell_type": "markdown",
   "metadata": {
    "colab_type": "text",
    "id": "howpkHcLvB4W"
   },
   "source": [
    "## Creating operators\n",
    "\n",
    "Now that you have a few starting tensors ready to be used, you can apply more-interesting operators such as addition or multiplication.  Let's start simple aand run a negation op (short for _operation_) on the `m1` tensor from above.  \n",
    "\n",
    "#### Note\n",
    "_Defining_ an operation, such as negation, is different from _running_ it. So far, you've _defined_ how operation should behave.  In next section, you'll _evaluate_ (or _run_) them to compute their result. "
   ]
  },
  {
   "cell_type": "code",
   "execution_count": 21,
   "metadata": {
    "colab": {
     "base_uri": "https://localhost:8080/",
     "height": 35
    },
    "colab_type": "code",
    "id": "BvQrYV18wPPU",
    "outputId": "67da9eee-f4b6-4c9e-d533-ae5e6c44f240"
   },
   "outputs": [
    {
     "name": "stdout",
     "output_type": "stream",
     "text": [
      "Tensor(\"Neg:0\", shape=(1, 2), dtype=int32)\n"
     ]
    }
   ],
   "source": [
    "import tensorflow as tf\n",
    "\n",
    "x = tf.constant([[1, 2]])\n",
    "neg_x = tf.negative(x)\n",
    "print(neg_x)"
   ]
  },
  {
   "cell_type": "markdown",
   "metadata": {
    "colab_type": "text",
    "id": "FlEuCqm-wsQk"
   },
   "source": [
    "Notice that the output is not `[[-1, -2]]`.  That's because you're printing out the definition of the negation op, not the actual evaluation of the op.  \n",
    "\n",
    "Useful Tensorflow operators\n",
    "\n",
    "tf.add(x, y)\n",
    "\n",
    "tf.subtract(x, y)\n",
    "\n",
    "tf.multiply(x, y)\n",
    "\n",
    "tf.pow(x, y)\n",
    "\n",
    "tf.exp(x)\n",
    "\n",
    "tf.sqrt(x)\n",
    "\n",
    "tf.div(x, y)\n",
    "\n",
    "tf.truediv(x, y)\n",
    "\n",
    "tf.floordiv(x, y)\n",
    "\n",
    "tf.mod(x, y)"
   ]
  },
  {
   "cell_type": "markdown",
   "metadata": {
    "colab_type": "text",
    "id": "Zc9QnYSiycd9"
   },
   "source": [
    "# Exercise 2\n",
    "\n",
    "Use the TensorFlow operators you've learned so far to produce the Gaussian distribution (also known as the normal distruction).  For reference, you can find the probability density of the normal distribution online:  https://en.wikipedia.org/wiki/Normal_distribution.\n",
    "\n",
    "### Answer \n",
    "Most mathematical expressions such as x, - +, and so on are just shortcuts for their TensorFlow equivalent, for brevity.  The Gaussian function includes many operations, so it is cleaner to use shorthand notations as follows:"
   ]
  },
  {
   "cell_type": "code",
   "execution_count": 32,
   "metadata": {
    "colab": {
     "base_uri": "https://localhost:8080/",
     "height": 35
    },
    "colab_type": "code",
    "id": "fYQzz4chjxL4",
    "outputId": "946ee423-3566-4e65-bb24-c3525207f67c"
   },
   "outputs": [
    {
     "data": {
      "text/plain": [
       "<tf.Tensor 'mul_3:0' shape=() dtype=float32>"
      ]
     },
     "execution_count": 32,
     "metadata": {
      "tags": []
     },
     "output_type": "execute_result"
    }
   ],
   "source": [
    "from math import pi\n",
    "x = 1\n",
    "mean = 0.0\n",
    "sigma = 1.0\n",
    "\n",
    "(tf.exp(tf.negative(tf.pow(x - mean, 2.0) / (2.0 * tf.pow(sigma, 2.0) ))) \n",
    "                   * (1.0 / (sigma * tf.sqrt(2.0 * pi) )))\n"
   ]
  },
  {
   "cell_type": "markdown",
   "metadata": {
    "colab_type": "text",
    "id": "jyPRjyFK5uST"
   },
   "source": [
    "# Executing operators with sessions\n",
    "\n",
    "A _session_ is an environment of a software system that describes how the lines of code should run.  In TensorFlow, a session sets up how the hardware devices (such as CPU and GPU) talks to each other. That way, you can design your machine-learning algorithm without worrying about micromanaging the hardware it runs on.  You can later configure the session to change its behavior without chaning a line of the machine learning code. \n",
    "\n",
    "To execute an operation and retrieve its calculated value, TensorFlow requires a session.  Only a registered session may fill the values of a `Tensor` object.  To do so, you must create a session class by using `tf.Session()` and tell it to run an operator, as shown in the following listing.  The result will be a value you can later use for further compuations."
   ]
  },
  {
   "cell_type": "code",
   "execution_count": 34,
   "metadata": {
    "colab": {
     "base_uri": "https://localhost:8080/",
     "height": 35
    },
    "colab_type": "code",
    "id": "9QVhg0hDz4Z-",
    "outputId": "2719d4ab-39c8-4862-f263-9dc124b2b6c6"
   },
   "outputs": [
    {
     "name": "stdout",
     "output_type": "stream",
     "text": [
      "[[-1. -2.]]\n"
     ]
    }
   ],
   "source": [
    "import tensorflow as tf\n",
    "\n",
    "x = tf.constant([[1., 2.]])\n",
    "neg_x = tf.negative(x)\n",
    "\n",
    "with tf.Session() as sess:\n",
    "  result = sess.run(neg_x)\n",
    "  \n",
    "print(result)"
   ]
  },
  {
   "cell_type": "markdown",
   "metadata": {
    "colab_type": "text",
    "id": "Xs0AV41g8dpB"
   },
   "source": [
    "Congratulations! \n",
    "\n",
    "You have just written your first full Tensorflow code.  A session notly configures _when_ your code will be computed on your machine, but also _how_ the computation will be laid out in order to parallelize computation.   Every `Tensor` object has an `eval()` function to evaluate the mathematical operations that define its value.  But the `eval()` function requires definind a session object for the library to understand how to best use the underlying hardware.  The listing shown above used `sess.run(...)`, which is equivalent to invoking the Tensor's `eval()` function in the context of the session. \n",
    "\n",
    "When you are running TensorFlow code through an interactive environment (for debugging or presentation purposes), it is often easier to create the session in interactive mode, where the session is implicityly part of any call to `eval()`.  That way, the session variable does not need to be passed around throughout the code, making it easier to focus on the relevant parts of the algorithm, as seen in the following listing.\n",
    "\n"
   ]
  },
  {
   "cell_type": "code",
   "execution_count": 0,
   "metadata": {
    "colab": {},
    "colab_type": "code",
    "id": "MtARUKIs7xNp"
   },
   "outputs": [],
   "source": [
    "import tensorflow as tf\n",
    "\n",
    "sess = tf.InteractiveSession()\n",
    "\n",
    "x = tf.constant([[1., 2.]])\n",
    "neg_op = tf.negative(x)\n",
    "\n",
    "# Since we're using an interactive session, \n",
    "# we can just call the eval() method on the op.\n",
    "\n",
    "result = neg_op.eval()\n",
    "\n",
    "print(result)\n",
    "sess.close()\n"
   ]
  },
  {
   "cell_type": "markdown",
   "metadata": {
    "colab_type": "text",
    "id": "CWfgk4ps-oNV"
   },
   "source": [
    "That code's a little cleaner when using Jupyter notebooks (like this one).  Don't forget to close the session:"
   ]
  },
  {
   "cell_type": "markdown",
   "metadata": {
    "colab_type": "text",
    "id": "8tVbYlTbB3mr"
   },
   "source": [
    "# Setting session configuration\n",
    "\n",
    "You can also pass options to `tf.Session`.  For example, TensorFlow automatically determines the best way to assign a GPU or CPU device to an operation depending on what's available.  You can pass adn additional option, `log_device_placements=True`, when creating a session, as shown in the following listing, which will show you exactly where on your hardware the compuations are evoked.  Try this from a terminal. Jupyter notebooks won't show the logging info.\n",
    "\n"
   ]
  },
  {
   "cell_type": "code",
   "execution_count": 36,
   "metadata": {
    "colab": {
     "base_uri": "https://localhost:8080/",
     "height": 35
    },
    "colab_type": "code",
    "id": "6vVyVXZ-C4eU",
    "outputId": "f733b301-58b1-4167-ff00-4a534baba9d0"
   },
   "outputs": [
    {
     "name": "stdout",
     "output_type": "stream",
     "text": [
      "[[-1 -2]]\n"
     ]
    }
   ],
   "source": [
    "import tensorflow as tf\n",
    "\n",
    "x = tf.constant([[1, 2]])\n",
    "neg_op = tf.negative(x)\n",
    "\n",
    "# Starts the session with a special config passed into the constructor\n",
    "# to enable logging\n",
    "with tf.Session(config=tf.ConfigProto(log_device_placement=True)) as sess:\n",
    "    result = sess.run(neg_op)\n",
    "\n",
    "print(result)\n"
   ]
  },
  {
   "cell_type": "markdown",
   "metadata": {
    "colab_type": "text",
    "id": "4F6nyeKODgZS"
   },
   "source": [
    "\n",
    "# Three types of values\n",
    "\n",
    "Sessions are essential in TensorFlow code.  You need to call a session to __run__ the math.  A session not only runs a computational graph operation, but also can take placeholders, variables, and constants as input.  We've used constants so far, but in later sections, we will start using variables and placeholders.  Here's a quick overview of these three types of values:\n",
    "\n",
    "- Placehoders: A value that's unassigned but will be initialized by the session wherever it is run.  Typically, placeholders are the input and output of your model\n",
    "\n",
    "- Variable: A value that can change, such as parameters of a machine-learning model.  Variables must be initialized by the session before they're used\n",
    "\n",
    "- Constant: A value that does not change, such as hyperparameters or settings.\n",
    "\n"
   ]
  },
  {
   "cell_type": "markdown",
   "metadata": {
    "colab_type": "text",
    "id": "nESQYqSBGLiE"
   },
   "source": [
    "# Using variables\n",
    "\n",
    "Finding the equation of a line that best fits many points is a classic machine-learning problem.  The algorithm starts with an initial guess, which is an equation characterized by a few numbers (such as the slope or y-intercept). Over time, the algorithm generates increasingly better guesses for these numbers, which are also called _parameters_.\n",
    "\n",
    "So far, we've seen manipulating only constants. Programs with only constants are not that interesting for real-world applications, so TensorFlow allows richer tools such as variables, which are containers for values that may change over time.  A machine=learning algorithm updates the parameters of a model until it finds the optimal value for each variable.  In the world of machine learning, it is common for parameters to fluctuate until eventually settling down, making variables an excellent data structure for them. \n",
    "\n",
    "The code shown below is a simple TensorFlow program that demonstrates how to use variables.  It updates a variable whenever sequential data abruptly increases in value.  Think about recoding measurements of a neuron's activity over time. This piece of code can detect when the neuron's activity suddenly spickes.  Of course the algorithm is oversimplication for diabetic purposes.\n",
    "\n",
    "-------------------\n"
   ]
  },
  {
   "cell_type": "markdown",
   "metadata": {
    "colab_type": "text",
    "id": "Dqq5qUoqI-2Y"
   },
   "source": [
    "Here we go, here we go, here we go! Moving on from those simple examples, let's get a better understanding of variables. Start with a session:"
   ]
  },
  {
   "cell_type": "code",
   "execution_count": 0,
   "metadata": {
    "colab": {},
    "colab_type": "code",
    "id": "MSG0EM3mDCKM"
   },
   "outputs": [],
   "source": [
    "import tensorflow as tf\n",
    "sess = tf.InteractiveSession()"
   ]
  },
  {
   "cell_type": "markdown",
   "metadata": {
    "colab_type": "text",
    "id": "uuvPZeMoJDxC"
   },
   "source": [
    "Below is a series of numbers. Don't worry what they mean. Just for fun, let's think of them as neural activations."
   ]
  },
  {
   "cell_type": "code",
   "execution_count": 0,
   "metadata": {
    "colab": {},
    "colab_type": "code",
    "id": "7EzugVXVJGqU"
   },
   "outputs": [],
   "source": [
    "raw_data = [1., 2., 8., -1., 0., 5.5, 6., 13]"
   ]
  },
  {
   "cell_type": "markdown",
   "metadata": {
    "colab_type": "text",
    "id": "3Fyn4KH4JI5n"
   },
   "source": [
    "Create a boolean variable called `spike` to detect a sudden increase in the values.\n",
    "\n",
    "All variables must be initialized. Go ahead and initialize the variable by calling `run()` on its `initializer`:"
   ]
  },
  {
   "cell_type": "code",
   "execution_count": 0,
   "metadata": {
    "colab": {},
    "colab_type": "code",
    "id": "dxfiNDLEJML_"
   },
   "outputs": [],
   "source": [
    "spike = tf.Variable(False)\n",
    "spike.initializer.run()"
   ]
  },
  {
   "cell_type": "markdown",
   "metadata": {
    "colab_type": "text",
    "id": "dtrV1E18JP4L"
   },
   "source": [
    "Loop through the data and update the spike variable when there is a significant increase:"
   ]
  },
  {
   "cell_type": "code",
   "execution_count": 0,
   "metadata": {
    "colab": {},
    "colab_type": "code",
    "id": "SbOdPz2HJSEU"
   },
   "outputs": [],
   "source": [
    "for i in range(1, len(raw_data)):\n",
    "    if raw_data[i] - raw_data[i-1] > 5:\n",
    "        updater = tf.assign(spike, tf.constant(True))\n",
    "        updater.eval()\n",
    "    else:\n",
    "        tf.assign(spike, False).eval()\n",
    "    print(\"Spike\", spike.eval())"
   ]
  },
  {
   "cell_type": "markdown",
   "metadata": {
    "colab_type": "text",
    "id": "lwKxPbXfJVNs"
   },
   "source": [
    "You forgot to close the session! Here, let me do it:"
   ]
  },
  {
   "cell_type": "code",
   "execution_count": 0,
   "metadata": {
    "colab": {},
    "colab_type": "code",
    "id": "mK3v5JnTJZj-"
   },
   "outputs": [],
   "source": [
    "sess.close()"
   ]
  },
  {
   "cell_type": "markdown",
   "metadata": {
    "colab_type": "text",
    "id": "JIzRixPhEEIU"
   },
   "source": [
    "TensorFlow allows you to declare a session by using `tf.InteractiveSession()`. When you've declared an interactive session, TensorFlow functions don't require the session attribute they would  otherwise, which makes coding in Jupyter Notebooks easier.\n",
    "\n"
   ]
  },
  {
   "cell_type": "markdown",
   "metadata": {
    "colab_type": "text",
    "id": "6FvV3TVsLuFR"
   },
   "source": [
    "# Saving and loading variables\n",
    "\n",
    "Imagine writing a monolithic block of code, of which you'd like to individually test a tiny segment.  In complicated machine-learning situations, saving and loading data at known checkpoints makes it much easier to debug code.  TensorFlow provides an elegant interface to save and load variable values to disk;  let's see how to use it for that purpose.\n",
    "\n",
    "Let's revamp the code that you created in list above to save the spike data to disk so you can load it elsewhere.  You'll change the history of spikes.  Notice that you will explicitly name the variables so they can be loaded later with the same name.  Naming a variable is optional but highly encouraged to organize your code.  \n",
    "\n",
    "Try running this code to see the results."
   ]
  },
  {
   "cell_type": "markdown",
   "metadata": {
    "colab_type": "text",
    "id": "kSaguHuXNFGl"
   },
   "source": [
    "### Saving variables"
   ]
  },
  {
   "cell_type": "code",
   "execution_count": 1,
   "metadata": {
    "colab": {
     "base_uri": "https://localhost:8080/",
     "height": 109
    },
    "colab_type": "code",
    "id": "OhsAjo-iM8N-",
    "outputId": "b3f553ac-9f27-4d5a-821e-228ec524bd99"
   },
   "outputs": [
    {
     "name": "stdout",
     "output_type": "stream",
     "text": [
      "WARNING:tensorflow:From /usr/local/lib/python3.6/dist-packages/tensorflow/python/framework/op_def_library.py:263: colocate_with (from tensorflow.python.framework.ops) is deprecated and will be removed in a future version.\n",
      "Instructions for updating:\n",
      "Colocations handled automatically by placer.\n",
      "spikes data saved in file: ./spikes.ckpt\n"
     ]
    }
   ],
   "source": [
    "# Create an interactive session and initialize a variable:\n",
    "import tensorflow as tf\n",
    "sess = tf.InteractiveSession()\n",
    "\n",
    "# Let's say you have a series of data like this\n",
    "raw_data = [1., 2., 8., -1., 0., 5.5, 6., 13]\n",
    "spikes = tf.Variable([False] * len(raw_data), name='spikes')\n",
    "spikes.initializer.run()   # initialize the variable\n",
    "\n",
    "# The saver op will enable saving and restoring:\n",
    "saver = tf.train.Saver()\n",
    "\n",
    "# Loop through the data and update the spike variable when there is a significant increase:\n",
    "for i in range(1, len(raw_data)):\n",
    "    if raw_data[i] - raw_data[i-1] > 5:\n",
    "        spikes_val = spikes.eval()\n",
    "        spikes_val[i] = True\n",
    "        # updates the value of spikes by susing the assign function\n",
    "        updater = tf.assign(spikes, spikes_val)\n",
    "        # not to forget this, otherwise, spikes won't be updated\n",
    "        updater.eval()\n",
    "        \n",
    "#Now, save your variable to disk!\n",
    "save_path = saver.save(sess, \"./spikes.ckpt\")\n",
    "print(\"spikes data saved in file: %s\" % save_path)\n",
    "\n",
    "sess.close()"
   ]
  },
  {
   "cell_type": "markdown",
   "metadata": {
    "colab_type": "text",
    "id": "KO1uCilXRKgY"
   },
   "source": [
    "You'll notice a couple of files generated, one of them being `spikes.ckpt`, in the same folder as your source code.  It's a compactly stored binary file, so you can't easily modify it with a text editor.  To retrieve this data, you can use the `restore` function from the `saver` op, as demonstrated in the following listing. "
   ]
  },
  {
   "cell_type": "markdown",
   "metadata": {
    "colab_type": "text",
    "id": "PM5xF8WbPL2V"
   },
   "source": [
    "### Loading variables\n"
   ]
  },
  {
   "cell_type": "code",
   "execution_count": 2,
   "metadata": {
    "colab": {
     "base_uri": "https://localhost:8080/",
     "height": 127
    },
    "colab_type": "code",
    "id": "6OD0VAHRNRLc",
    "outputId": "930cd3be-f193-4912-cfe3-4cbbf90dec29"
   },
   "outputs": [
    {
     "name": "stdout",
     "output_type": "stream",
     "text": [
      "WARNING:tensorflow:From /usr/local/lib/python3.6/dist-packages/tensorflow/python/training/saver.py:1266: checkpoint_exists (from tensorflow.python.training.checkpoint_management) is deprecated and will be removed in a future version.\n",
      "Instructions for updating:\n",
      "Use standard file APIs to check for files with this prefix.\n",
      "INFO:tensorflow:Restoring parameters from spikes.ckpt\n",
      "file not found\n"
     ]
    }
   ],
   "source": [
    "# This one's about loading what you saved. Start by creating an interactive session:\n",
    "\n",
    "import tensorflow as tf\n",
    "sess = tf.InteractiveSession()\n",
    "\n",
    "# Create a boolean vector called spikes of the same dimensions as before:\n",
    "spikes = tf.Variable([False]*8, name='spikes')\n",
    "\n",
    "# Restored the variable data from disk, serve warm, and enjoy:\n",
    "\n",
    "saver = tf.train.Saver()\n",
    "\n",
    "try:\n",
    "    saver.restore(sess, 'spikes.ckpt')\n",
    "    print(spikes.eval())\n",
    "except:\n",
    "    print('file not found')\n",
    "sess.close()"
   ]
  },
  {
   "cell_type": "markdown",
   "metadata": {
    "colab_type": "text",
    "id": "pP0Fmev-Sn4I"
   },
   "source": [
    "# Visualizing data using TensorBoard\n",
    "\n",
    "In machine-learning, the most time-consuming part isn't programming, but it is waiting for code to finish running.  For example, a famous dataset called ImageNet contains over 14 million images prepared to be used in a machine-learning context.  Sometimes it can take up to days or weeks to finish training an algorithm using a large dataset.  TensorFlow's handy dashboard, TensorBoard, affords you a quick peek into the way values are changing in each node of the computational graph, giving you some idea of how your code is performing. \n",
    "\n",
    "Let's see how to visualized variable trends over time in a real-world example.  In this session, you will implement a moving-average algorithm in TensorFlow, add then you will carefully track the variables you care about for visualization in TensorBoard.\n",
    "\n",
    "## 1. Implementing a moving average\n",
    "Let us use TensorBoard to visualize how data changes.  Suppose you are interested in calculating the average stock price of a company.  Typically, computing the average is just a matter of adding up all the values and dividing by the total number seen: $ mean = (x_1 + x_2 + ... + x_n) / n$.  When the total number of values is unknown., you can use a technique called _exponential averaging__ to estimate the average value of an unknown number of data points.  The exponential average algorithm calculates the current estimated average as a function of the previous estimated average and current value. \n",
    "\n",
    "More succinctly, $Avg_t = f(Avg_{t-1}, x_t) = (1 - \\alpha) Avg_{t-1} + \\alpha x_t$.  Alpha($\\alpha$) is a parameter that will be turned, representing how strongly recent values should be biased in the calculation of the average.  The higher the value of $\\alpha$, the more dramatically the calculated acerage will differ from the previously estimated average.  \n",
    "\n",
    "When you code this, it is a good idea to think about the main piece of computation that takes place in each iteration. In this case, each iteration will compute $Avg_t = (1 - \\alpha)Avg_{t-1} + \\alpha x_t$. As a result, you can design a TensorFlow operator that does exactly as the formula says as listed below:\n",
    "\n",
    "\n"
   ]
  },
  {
   "cell_type": "code",
   "execution_count": 0,
   "metadata": {
    "colab": {},
    "colab_type": "code",
    "id": "nHDCv9JsSnM6"
   },
   "outputs": [],
   "source": [
    "update_avg = alpha * curr_value + (1 - alpha) * prev_avg"
   ]
  },
  {
   "cell_type": "markdown",
   "metadata": {
    "colab_type": "text",
    "id": "Pbgd4jQCZ2iu"
   },
   "source": [
    "To run this code, you will have to eventually define `alpha`, `curr_value`, and `prev_avg`.\n",
    "\n",
    "You'll define the undefined variables later.  The reason you're writing code in such a backward way is that defining the interface first forces you to implement the peripheral setup code to satisfy the interface.  \n",
    "\n",
    "Skipping ahead, let us jump right to the session part to see how your algorithm should behave.  The following listing sets up the primary loop and calls the `update_avg` operator on each iteration.  Running the `update_avg` operator depends on the `curr_value`, which is fed using the `feed_dict` argument. \n"
   ]
  },
  {
   "cell_type": "code",
   "execution_count": 0,
   "metadata": {
    "colab": {},
    "colab_type": "code",
    "id": "thzJTtV_STqz"
   },
   "outputs": [],
   "source": [
    "raw_data = np.random.normal(10, 1, 100)\n",
    "\n",
    "with tf.Session() as sess:\n",
    "  for i in range(len(raw_data))\n",
    "    curr_avg = sess.run(update_avg, feed_dict={curr_value: raw_data[i]})\n",
    "    sess.run(tf.assign(prev_avg, curr_avg))"
   ]
  },
  {
   "cell_type": "markdown",
   "metadata": {
    "colab_type": "text",
    "id": "pW0ekAwnbjDz"
   },
   "source": [
    "Great, the general picture is clear, because all that is left to do is to write out the undefined variables.  Let's fill in the gaps and implement a working piece of TensorFlow code.  Copy the following listing so you can run it."
   ]
  },
  {
   "cell_type": "code",
   "execution_count": 0,
   "metadata": {
    "colab": {},
    "colab_type": "code",
    "id": "jzz-f6hucDT_"
   },
   "outputs": [],
   "source": [
    "import tensorflow as tf\n",
    "import numpy as np\n",
    "\n",
    "raw_data = np.random.normal(10, 1, 100)  # 100 numbers with mean=10, std=1\n",
    "\n",
    "alpha = tf.constant(0.05)                # alpha is set as a constant\n",
    "curr_value = tf.placeholder(tf.float32)  # the value is injected from the session\n",
    "prev_avg = tf.Variable(0.)               # pre_avg is set to 0\n",
    "update_avg = alpha * curr_value + (1 - alpha) * prev_avg\n",
    "\n",
    "init = tf.global_variables_initializer()\n",
    "\n",
    "with tf.Session() as sess:\n",
    "    sess.run(init)\n",
    "    # loops through the data one by one to update the average\n",
    "    for i in range(len(raw_data)):\n",
    "        curr_avg = sess.run(update_avg, feed_dict={curr_value: raw_data[i]})\n",
    "        sess.run(tf.assign(prev_avg, curr_avg))\n",
    "        print(raw_data[i], curr_avg)\n"
   ]
  },
  {
   "cell_type": "markdown",
   "metadata": {
    "colab_type": "text",
    "id": "H9mzjYysc_o1"
   },
   "source": [
    "A placehoder is just like a variable, but the value is injected from the session.  "
   ]
  },
  {
   "cell_type": "markdown",
   "metadata": {
    "colab_type": "text",
    "id": "u6NfevsKeBWk"
   },
   "source": [
    "## 2. Visualizing the moving average\n",
    "\n",
    "Now that you have a working implementation of a moving-average algorithm, let us visualize the results by using TensorBorad. Visualization using TensorBoard is usually a two-step process:\n",
    "\n",
    "1. Pick out which nodes you care about measuring by annotating them with a _summary op_.\n",
    "\n",
    "2. Call _add_summary_ on them to queue up data to be written to disk.\n",
    "\n",
    "For example, let's say you have an `img` placeholder and a `cost` op, as shown in the following listing.  You can annotate them (by giving each a name such as `img` or `cost`) so that they are capable of being visualized in TensorBord.  You will do something similar with your moving-average example. \n",
    "\n"
   ]
  },
  {
   "cell_type": "code",
   "execution_count": 0,
   "metadata": {
    "colab": {},
    "colab_type": "code",
    "id": "OqtY8ZN2fIFV"
   },
   "outputs": [],
   "source": [
    "# Annotating with a summary op\n",
    "\n",
    "img = tf.placeholder(tf.float32, [None, None, None, 3])\n",
    "cost = tf.reduce_sum(...)\n",
    "\n",
    "my_img_summary = tf.summary_image(\"img\", img)\n",
    "my_cost_summary = tf.summary_scalar(\"cost\", cost)"
   ]
  },
  {
   "cell_type": "markdown",
   "metadata": {
    "colab_type": "text",
    "id": "Wllq2JvnfmFt"
   },
   "source": [
    "More generally, to communicate with TensorBoard, you must use a summary op, which produces serialized strings used by a `SummaryWirte` to save updates to a dictionary.  Every time you call the `add_summary` method from `SummaryWriter`, TensorFlow will save data to disk for TensorBoard to use.  \n",
    "\n",
    "__Warning__ Be careful not to call the `add_summary` function too often!  Although doing so will produce higher-resolution visualizations of your variables, it will be at the cost of more computation and slightly slower learning. \n",
    "\n",
    "Run the following command to make a directory called logs in the same folder as this source code: \n",
    "\n",
    "```\n",
    "$ mkdir logs\n",
    "```\n",
    "\n",
    "Run TensorBoard with the location of the logs directory passed in as an argument:\n",
    "\n",
    "```\n",
    "$tensorboard --logdir=./logs\n",
    "```\n",
    "\n",
    "Open a browser and navigate to http://localhost:6006, which is the default URL for TensorBoard.  The following listing shows how to hook up the `SummaryWriter` to your code.  \n",
    "\n",
    "Run it and refresh the TensorBoard to see the visulaization.\n",
    "\n"
   ]
  },
  {
   "cell_type": "code",
   "execution_count": 6,
   "metadata": {
    "colab": {
     "base_uri": "https://localhost:8080/",
     "height": 1817
    },
    "colab_type": "code",
    "id": "nfJaD2FwhRfi",
    "outputId": "1de443ed-93f4-4969-8428-2d00b256dfb4"
   },
   "outputs": [
    {
     "ename": "InvalidArgumentError",
     "evalue": "You must feed a value for placeholder tensor 'Placeholder' with dtype float\n\t [[Node: Placeholder = Placeholder[dtype=DT_FLOAT, shape=<unknown>, _device=\"/job:localhost/replica:0/task:0/device:CPU:0\"]()]]\n\nCaused by op 'Placeholder', defined at:\n  File \"C:\\ProgramData\\Anaconda3\\lib\\runpy.py\", line 193, in _run_module_as_main\n    \"__main__\", mod_spec)\n  File \"C:\\ProgramData\\Anaconda3\\lib\\runpy.py\", line 85, in _run_code\n    exec(code, run_globals)\n  File \"C:\\ProgramData\\Anaconda3\\lib\\site-packages\\ipykernel_launcher.py\", line 16, in <module>\n    app.launch_new_instance()\n  File \"C:\\ProgramData\\Anaconda3\\lib\\site-packages\\traitlets\\config\\application.py\", line 658, in launch_instance\n    app.start()\n  File \"C:\\ProgramData\\Anaconda3\\lib\\site-packages\\ipykernel\\kernelapp.py\", line 486, in start\n    self.io_loop.start()\n  File \"C:\\ProgramData\\Anaconda3\\lib\\site-packages\\tornado\\platform\\asyncio.py\", line 127, in start\n    self.asyncio_loop.run_forever()\n  File \"C:\\ProgramData\\Anaconda3\\lib\\asyncio\\base_events.py\", line 422, in run_forever\n    self._run_once()\n  File \"C:\\ProgramData\\Anaconda3\\lib\\asyncio\\base_events.py\", line 1432, in _run_once\n    handle._run()\n  File \"C:\\ProgramData\\Anaconda3\\lib\\asyncio\\events.py\", line 145, in _run\n    self._callback(*self._args)\n  File \"C:\\ProgramData\\Anaconda3\\lib\\site-packages\\tornado\\platform\\asyncio.py\", line 117, in _handle_events\n    handler_func(fileobj, events)\n  File \"C:\\ProgramData\\Anaconda3\\lib\\site-packages\\tornado\\stack_context.py\", line 276, in null_wrapper\n    return fn(*args, **kwargs)\n  File \"C:\\ProgramData\\Anaconda3\\lib\\site-packages\\zmq\\eventloop\\zmqstream.py\", line 450, in _handle_events\n    self._handle_recv()\n  File \"C:\\ProgramData\\Anaconda3\\lib\\site-packages\\zmq\\eventloop\\zmqstream.py\", line 480, in _handle_recv\n    self._run_callback(callback, msg)\n  File \"C:\\ProgramData\\Anaconda3\\lib\\site-packages\\zmq\\eventloop\\zmqstream.py\", line 432, in _run_callback\n    callback(*args, **kwargs)\n  File \"C:\\ProgramData\\Anaconda3\\lib\\site-packages\\tornado\\stack_context.py\", line 276, in null_wrapper\n    return fn(*args, **kwargs)\n  File \"C:\\ProgramData\\Anaconda3\\lib\\site-packages\\ipykernel\\kernelbase.py\", line 283, in dispatcher\n    return self.dispatch_shell(stream, msg)\n  File \"C:\\ProgramData\\Anaconda3\\lib\\site-packages\\ipykernel\\kernelbase.py\", line 233, in dispatch_shell\n    handler(stream, idents, msg)\n  File \"C:\\ProgramData\\Anaconda3\\lib\\site-packages\\ipykernel\\kernelbase.py\", line 399, in execute_request\n    user_expressions, allow_stdin)\n  File \"C:\\ProgramData\\Anaconda3\\lib\\site-packages\\ipykernel\\ipkernel.py\", line 208, in do_execute\n    res = shell.run_cell(code, store_history=store_history, silent=silent)\n  File \"C:\\ProgramData\\Anaconda3\\lib\\site-packages\\ipykernel\\zmqshell.py\", line 537, in run_cell\n    return super(ZMQInteractiveShell, self).run_cell(*args, **kwargs)\n  File \"C:\\ProgramData\\Anaconda3\\lib\\site-packages\\IPython\\core\\interactiveshell.py\", line 2662, in run_cell\n    raw_cell, store_history, silent, shell_futures)\n  File \"C:\\ProgramData\\Anaconda3\\lib\\site-packages\\IPython\\core\\interactiveshell.py\", line 2785, in _run_cell\n    interactivity=interactivity, compiler=compiler, result=result)\n  File \"C:\\ProgramData\\Anaconda3\\lib\\site-packages\\IPython\\core\\interactiveshell.py\", line 2903, in run_ast_nodes\n    if self.run_code(code, result):\n  File \"C:\\ProgramData\\Anaconda3\\lib\\site-packages\\IPython\\core\\interactiveshell.py\", line 2963, in run_code\n    exec(code_obj, self.user_global_ns, self.user_ns)\n  File \"<ipython-input-1-72a90e13b969>\", line 7, in <module>\n    curr_value = tf.placeholder(tf.float32)  # the value is injected from the session\n  File \"C:\\ProgramData\\Anaconda3\\lib\\site-packages\\tensorflow\\python\\ops\\array_ops.py\", line 1735, in placeholder\n    return gen_array_ops.placeholder(dtype=dtype, shape=shape, name=name)\n  File \"C:\\ProgramData\\Anaconda3\\lib\\site-packages\\tensorflow\\python\\ops\\gen_array_ops.py\", line 4924, in placeholder\n    \"Placeholder\", dtype=dtype, shape=shape, name=name)\n  File \"C:\\ProgramData\\Anaconda3\\lib\\site-packages\\tensorflow\\python\\framework\\op_def_library.py\", line 787, in _apply_op_helper\n    op_def=op_def)\n  File \"C:\\ProgramData\\Anaconda3\\lib\\site-packages\\tensorflow\\python\\util\\deprecation.py\", line 454, in new_func\n    return func(*args, **kwargs)\n  File \"C:\\ProgramData\\Anaconda3\\lib\\site-packages\\tensorflow\\python\\framework\\ops.py\", line 3155, in create_op\n    op_def=op_def)\n  File \"C:\\ProgramData\\Anaconda3\\lib\\site-packages\\tensorflow\\python\\framework\\ops.py\", line 1717, in __init__\n    self._traceback = tf_stack.extract_stack()\n\nInvalidArgumentError (see above for traceback): You must feed a value for placeholder tensor 'Placeholder' with dtype float\n\t [[Node: Placeholder = Placeholder[dtype=DT_FLOAT, shape=<unknown>, _device=\"/job:localhost/replica:0/task:0/device:CPU:0\"]()]]\n",
     "output_type": "error",
     "traceback": [
      "\u001b[1;31m---------------------------------------------------------------------------\u001b[0m",
      "\u001b[1;31mInvalidArgumentError\u001b[0m                      Traceback (most recent call last)",
      "\u001b[1;32mC:\\ProgramData\\Anaconda3\\lib\\site-packages\\tensorflow\\python\\client\\session.py\u001b[0m in \u001b[0;36m_do_call\u001b[1;34m(self, fn, *args)\u001b[0m\n\u001b[0;32m   1277\u001b[0m     \u001b[1;32mtry\u001b[0m\u001b[1;33m:\u001b[0m\u001b[1;33m\u001b[0m\u001b[0m\n\u001b[1;32m-> 1278\u001b[1;33m       \u001b[1;32mreturn\u001b[0m \u001b[0mfn\u001b[0m\u001b[1;33m(\u001b[0m\u001b[1;33m*\u001b[0m\u001b[0margs\u001b[0m\u001b[1;33m)\u001b[0m\u001b[1;33m\u001b[0m\u001b[0m\n\u001b[0m\u001b[0;32m   1279\u001b[0m     \u001b[1;32mexcept\u001b[0m \u001b[0merrors\u001b[0m\u001b[1;33m.\u001b[0m\u001b[0mOpError\u001b[0m \u001b[1;32mas\u001b[0m \u001b[0me\u001b[0m\u001b[1;33m:\u001b[0m\u001b[1;33m\u001b[0m\u001b[0m\n",
      "\u001b[1;32mC:\\ProgramData\\Anaconda3\\lib\\site-packages\\tensorflow\\python\\client\\session.py\u001b[0m in \u001b[0;36m_run_fn\u001b[1;34m(feed_dict, fetch_list, target_list, options, run_metadata)\u001b[0m\n\u001b[0;32m   1262\u001b[0m       return self._call_tf_sessionrun(\n\u001b[1;32m-> 1263\u001b[1;33m           options, feed_dict, fetch_list, target_list, run_metadata)\n\u001b[0m\u001b[0;32m   1264\u001b[0m \u001b[1;33m\u001b[0m\u001b[0m\n",
      "\u001b[1;32mC:\\ProgramData\\Anaconda3\\lib\\site-packages\\tensorflow\\python\\client\\session.py\u001b[0m in \u001b[0;36m_call_tf_sessionrun\u001b[1;34m(self, options, feed_dict, fetch_list, target_list, run_metadata)\u001b[0m\n\u001b[0;32m   1349\u001b[0m         \u001b[0mself\u001b[0m\u001b[1;33m.\u001b[0m\u001b[0m_session\u001b[0m\u001b[1;33m,\u001b[0m \u001b[0moptions\u001b[0m\u001b[1;33m,\u001b[0m \u001b[0mfeed_dict\u001b[0m\u001b[1;33m,\u001b[0m \u001b[0mfetch_list\u001b[0m\u001b[1;33m,\u001b[0m \u001b[0mtarget_list\u001b[0m\u001b[1;33m,\u001b[0m\u001b[1;33m\u001b[0m\u001b[0m\n\u001b[1;32m-> 1350\u001b[1;33m         run_metadata)\n\u001b[0m\u001b[0;32m   1351\u001b[0m \u001b[1;33m\u001b[0m\u001b[0m\n",
      "\u001b[1;31mInvalidArgumentError\u001b[0m: You must feed a value for placeholder tensor 'Placeholder' with dtype float\n\t [[Node: Placeholder = Placeholder[dtype=DT_FLOAT, shape=<unknown>, _device=\"/job:localhost/replica:0/task:0/device:CPU:0\"]()]]",
      "\nDuring handling of the above exception, another exception occurred:\n",
      "\u001b[1;31mInvalidArgumentError\u001b[0m                      Traceback (most recent call last)",
      "\u001b[1;32m<ipython-input-6-9ff1701d807d>\u001b[0m in \u001b[0;36m<module>\u001b[1;34m()\u001b[0m\n\u001b[0;32m     24\u001b[0m     \u001b[1;31m# loops through the data one by one to update the average\u001b[0m\u001b[1;33m\u001b[0m\u001b[1;33m\u001b[0m\u001b[0m\n\u001b[0;32m     25\u001b[0m     \u001b[1;32mfor\u001b[0m \u001b[0mi\u001b[0m \u001b[1;32min\u001b[0m \u001b[0mrange\u001b[0m\u001b[1;33m(\u001b[0m\u001b[0mlen\u001b[0m\u001b[1;33m(\u001b[0m\u001b[0mraw_data\u001b[0m\u001b[1;33m)\u001b[0m\u001b[1;33m)\u001b[0m\u001b[1;33m:\u001b[0m\u001b[1;33m\u001b[0m\u001b[0m\n\u001b[1;32m---> 26\u001b[1;33m         \u001b[0msummary_str\u001b[0m\u001b[1;33m,\u001b[0m \u001b[0mcurr_avg\u001b[0m \u001b[1;33m=\u001b[0m \u001b[0msess\u001b[0m\u001b[1;33m.\u001b[0m\u001b[0mrun\u001b[0m\u001b[1;33m(\u001b[0m\u001b[1;33m[\u001b[0m\u001b[0mmerged\u001b[0m\u001b[1;33m,\u001b[0m \u001b[0mupdate_avg\u001b[0m\u001b[1;33m]\u001b[0m\u001b[1;33m,\u001b[0m \u001b[0mfeed_dict\u001b[0m\u001b[1;33m=\u001b[0m\u001b[1;33m{\u001b[0m\u001b[0mcurr_value\u001b[0m\u001b[1;33m:\u001b[0m \u001b[0mraw_data\u001b[0m\u001b[1;33m[\u001b[0m\u001b[0mi\u001b[0m\u001b[1;33m]\u001b[0m\u001b[1;33m}\u001b[0m\u001b[1;33m)\u001b[0m\u001b[1;33m\u001b[0m\u001b[0m\n\u001b[0m\u001b[0;32m     27\u001b[0m         \u001b[0msess\u001b[0m\u001b[1;33m.\u001b[0m\u001b[0mrun\u001b[0m\u001b[1;33m(\u001b[0m\u001b[0mtf\u001b[0m\u001b[1;33m.\u001b[0m\u001b[0massign\u001b[0m\u001b[1;33m(\u001b[0m\u001b[0mprev_avg\u001b[0m\u001b[1;33m,\u001b[0m \u001b[0mcurr_avg\u001b[0m\u001b[1;33m)\u001b[0m\u001b[1;33m)\u001b[0m\u001b[1;33m\u001b[0m\u001b[0m\n\u001b[0;32m     28\u001b[0m         \u001b[0mprint\u001b[0m\u001b[1;33m(\u001b[0m\u001b[0mraw_data\u001b[0m\u001b[1;33m[\u001b[0m\u001b[0mi\u001b[0m\u001b[1;33m]\u001b[0m\u001b[1;33m,\u001b[0m \u001b[0mcurr_avg\u001b[0m\u001b[1;33m)\u001b[0m\u001b[1;33m\u001b[0m\u001b[0m\n",
      "\u001b[1;32mC:\\ProgramData\\Anaconda3\\lib\\site-packages\\tensorflow\\python\\client\\session.py\u001b[0m in \u001b[0;36mrun\u001b[1;34m(self, fetches, feed_dict, options, run_metadata)\u001b[0m\n\u001b[0;32m    875\u001b[0m     \u001b[1;32mtry\u001b[0m\u001b[1;33m:\u001b[0m\u001b[1;33m\u001b[0m\u001b[0m\n\u001b[0;32m    876\u001b[0m       result = self._run(None, fetches, feed_dict, options_ptr,\n\u001b[1;32m--> 877\u001b[1;33m                          run_metadata_ptr)\n\u001b[0m\u001b[0;32m    878\u001b[0m       \u001b[1;32mif\u001b[0m \u001b[0mrun_metadata\u001b[0m\u001b[1;33m:\u001b[0m\u001b[1;33m\u001b[0m\u001b[0m\n\u001b[0;32m    879\u001b[0m         \u001b[0mproto_data\u001b[0m \u001b[1;33m=\u001b[0m \u001b[0mtf_session\u001b[0m\u001b[1;33m.\u001b[0m\u001b[0mTF_GetBuffer\u001b[0m\u001b[1;33m(\u001b[0m\u001b[0mrun_metadata_ptr\u001b[0m\u001b[1;33m)\u001b[0m\u001b[1;33m\u001b[0m\u001b[0m\n",
      "\u001b[1;32mC:\\ProgramData\\Anaconda3\\lib\\site-packages\\tensorflow\\python\\client\\session.py\u001b[0m in \u001b[0;36m_run\u001b[1;34m(self, handle, fetches, feed_dict, options, run_metadata)\u001b[0m\n\u001b[0;32m   1098\u001b[0m     \u001b[1;32mif\u001b[0m \u001b[0mfinal_fetches\u001b[0m \u001b[1;32mor\u001b[0m \u001b[0mfinal_targets\u001b[0m \u001b[1;32mor\u001b[0m \u001b[1;33m(\u001b[0m\u001b[0mhandle\u001b[0m \u001b[1;32mand\u001b[0m \u001b[0mfeed_dict_tensor\u001b[0m\u001b[1;33m)\u001b[0m\u001b[1;33m:\u001b[0m\u001b[1;33m\u001b[0m\u001b[0m\n\u001b[0;32m   1099\u001b[0m       results = self._do_run(handle, final_targets, final_fetches,\n\u001b[1;32m-> 1100\u001b[1;33m                              feed_dict_tensor, options, run_metadata)\n\u001b[0m\u001b[0;32m   1101\u001b[0m     \u001b[1;32melse\u001b[0m\u001b[1;33m:\u001b[0m\u001b[1;33m\u001b[0m\u001b[0m\n\u001b[0;32m   1102\u001b[0m       \u001b[0mresults\u001b[0m \u001b[1;33m=\u001b[0m \u001b[1;33m[\u001b[0m\u001b[1;33m]\u001b[0m\u001b[1;33m\u001b[0m\u001b[0m\n",
      "\u001b[1;32mC:\\ProgramData\\Anaconda3\\lib\\site-packages\\tensorflow\\python\\client\\session.py\u001b[0m in \u001b[0;36m_do_run\u001b[1;34m(self, handle, target_list, fetch_list, feed_dict, options, run_metadata)\u001b[0m\n\u001b[0;32m   1270\u001b[0m     \u001b[1;32mif\u001b[0m \u001b[0mhandle\u001b[0m \u001b[1;32mis\u001b[0m \u001b[1;32mNone\u001b[0m\u001b[1;33m:\u001b[0m\u001b[1;33m\u001b[0m\u001b[0m\n\u001b[0;32m   1271\u001b[0m       return self._do_call(_run_fn, feeds, fetches, targets, options,\n\u001b[1;32m-> 1272\u001b[1;33m                            run_metadata)\n\u001b[0m\u001b[0;32m   1273\u001b[0m     \u001b[1;32melse\u001b[0m\u001b[1;33m:\u001b[0m\u001b[1;33m\u001b[0m\u001b[0m\n\u001b[0;32m   1274\u001b[0m       \u001b[1;32mreturn\u001b[0m \u001b[0mself\u001b[0m\u001b[1;33m.\u001b[0m\u001b[0m_do_call\u001b[0m\u001b[1;33m(\u001b[0m\u001b[0m_prun_fn\u001b[0m\u001b[1;33m,\u001b[0m \u001b[0mhandle\u001b[0m\u001b[1;33m,\u001b[0m \u001b[0mfeeds\u001b[0m\u001b[1;33m,\u001b[0m \u001b[0mfetches\u001b[0m\u001b[1;33m)\u001b[0m\u001b[1;33m\u001b[0m\u001b[0m\n",
      "\u001b[1;32mC:\\ProgramData\\Anaconda3\\lib\\site-packages\\tensorflow\\python\\client\\session.py\u001b[0m in \u001b[0;36m_do_call\u001b[1;34m(self, fn, *args)\u001b[0m\n\u001b[0;32m   1289\u001b[0m         \u001b[1;32mexcept\u001b[0m \u001b[0mKeyError\u001b[0m\u001b[1;33m:\u001b[0m\u001b[1;33m\u001b[0m\u001b[0m\n\u001b[0;32m   1290\u001b[0m           \u001b[1;32mpass\u001b[0m\u001b[1;33m\u001b[0m\u001b[0m\n\u001b[1;32m-> 1291\u001b[1;33m       \u001b[1;32mraise\u001b[0m \u001b[0mtype\u001b[0m\u001b[1;33m(\u001b[0m\u001b[0me\u001b[0m\u001b[1;33m)\u001b[0m\u001b[1;33m(\u001b[0m\u001b[0mnode_def\u001b[0m\u001b[1;33m,\u001b[0m \u001b[0mop\u001b[0m\u001b[1;33m,\u001b[0m \u001b[0mmessage\u001b[0m\u001b[1;33m)\u001b[0m\u001b[1;33m\u001b[0m\u001b[0m\n\u001b[0m\u001b[0;32m   1292\u001b[0m \u001b[1;33m\u001b[0m\u001b[0m\n\u001b[0;32m   1293\u001b[0m   \u001b[1;32mdef\u001b[0m \u001b[0m_extend_graph\u001b[0m\u001b[1;33m(\u001b[0m\u001b[0mself\u001b[0m\u001b[1;33m)\u001b[0m\u001b[1;33m:\u001b[0m\u001b[1;33m\u001b[0m\u001b[0m\n",
      "\u001b[1;31mInvalidArgumentError\u001b[0m: You must feed a value for placeholder tensor 'Placeholder' with dtype float\n\t [[Node: Placeholder = Placeholder[dtype=DT_FLOAT, shape=<unknown>, _device=\"/job:localhost/replica:0/task:0/device:CPU:0\"]()]]\n\nCaused by op 'Placeholder', defined at:\n  File \"C:\\ProgramData\\Anaconda3\\lib\\runpy.py\", line 193, in _run_module_as_main\n    \"__main__\", mod_spec)\n  File \"C:\\ProgramData\\Anaconda3\\lib\\runpy.py\", line 85, in _run_code\n    exec(code, run_globals)\n  File \"C:\\ProgramData\\Anaconda3\\lib\\site-packages\\ipykernel_launcher.py\", line 16, in <module>\n    app.launch_new_instance()\n  File \"C:\\ProgramData\\Anaconda3\\lib\\site-packages\\traitlets\\config\\application.py\", line 658, in launch_instance\n    app.start()\n  File \"C:\\ProgramData\\Anaconda3\\lib\\site-packages\\ipykernel\\kernelapp.py\", line 486, in start\n    self.io_loop.start()\n  File \"C:\\ProgramData\\Anaconda3\\lib\\site-packages\\tornado\\platform\\asyncio.py\", line 127, in start\n    self.asyncio_loop.run_forever()\n  File \"C:\\ProgramData\\Anaconda3\\lib\\asyncio\\base_events.py\", line 422, in run_forever\n    self._run_once()\n  File \"C:\\ProgramData\\Anaconda3\\lib\\asyncio\\base_events.py\", line 1432, in _run_once\n    handle._run()\n  File \"C:\\ProgramData\\Anaconda3\\lib\\asyncio\\events.py\", line 145, in _run\n    self._callback(*self._args)\n  File \"C:\\ProgramData\\Anaconda3\\lib\\site-packages\\tornado\\platform\\asyncio.py\", line 117, in _handle_events\n    handler_func(fileobj, events)\n  File \"C:\\ProgramData\\Anaconda3\\lib\\site-packages\\tornado\\stack_context.py\", line 276, in null_wrapper\n    return fn(*args, **kwargs)\n  File \"C:\\ProgramData\\Anaconda3\\lib\\site-packages\\zmq\\eventloop\\zmqstream.py\", line 450, in _handle_events\n    self._handle_recv()\n  File \"C:\\ProgramData\\Anaconda3\\lib\\site-packages\\zmq\\eventloop\\zmqstream.py\", line 480, in _handle_recv\n    self._run_callback(callback, msg)\n  File \"C:\\ProgramData\\Anaconda3\\lib\\site-packages\\zmq\\eventloop\\zmqstream.py\", line 432, in _run_callback\n    callback(*args, **kwargs)\n  File \"C:\\ProgramData\\Anaconda3\\lib\\site-packages\\tornado\\stack_context.py\", line 276, in null_wrapper\n    return fn(*args, **kwargs)\n  File \"C:\\ProgramData\\Anaconda3\\lib\\site-packages\\ipykernel\\kernelbase.py\", line 283, in dispatcher\n    return self.dispatch_shell(stream, msg)\n  File \"C:\\ProgramData\\Anaconda3\\lib\\site-packages\\ipykernel\\kernelbase.py\", line 233, in dispatch_shell\n    handler(stream, idents, msg)\n  File \"C:\\ProgramData\\Anaconda3\\lib\\site-packages\\ipykernel\\kernelbase.py\", line 399, in execute_request\n    user_expressions, allow_stdin)\n  File \"C:\\ProgramData\\Anaconda3\\lib\\site-packages\\ipykernel\\ipkernel.py\", line 208, in do_execute\n    res = shell.run_cell(code, store_history=store_history, silent=silent)\n  File \"C:\\ProgramData\\Anaconda3\\lib\\site-packages\\ipykernel\\zmqshell.py\", line 537, in run_cell\n    return super(ZMQInteractiveShell, self).run_cell(*args, **kwargs)\n  File \"C:\\ProgramData\\Anaconda3\\lib\\site-packages\\IPython\\core\\interactiveshell.py\", line 2662, in run_cell\n    raw_cell, store_history, silent, shell_futures)\n  File \"C:\\ProgramData\\Anaconda3\\lib\\site-packages\\IPython\\core\\interactiveshell.py\", line 2785, in _run_cell\n    interactivity=interactivity, compiler=compiler, result=result)\n  File \"C:\\ProgramData\\Anaconda3\\lib\\site-packages\\IPython\\core\\interactiveshell.py\", line 2903, in run_ast_nodes\n    if self.run_code(code, result):\n  File \"C:\\ProgramData\\Anaconda3\\lib\\site-packages\\IPython\\core\\interactiveshell.py\", line 2963, in run_code\n    exec(code_obj, self.user_global_ns, self.user_ns)\n  File \"<ipython-input-1-72a90e13b969>\", line 7, in <module>\n    curr_value = tf.placeholder(tf.float32)  # the value is injected from the session\n  File \"C:\\ProgramData\\Anaconda3\\lib\\site-packages\\tensorflow\\python\\ops\\array_ops.py\", line 1735, in placeholder\n    return gen_array_ops.placeholder(dtype=dtype, shape=shape, name=name)\n  File \"C:\\ProgramData\\Anaconda3\\lib\\site-packages\\tensorflow\\python\\ops\\gen_array_ops.py\", line 4924, in placeholder\n    \"Placeholder\", dtype=dtype, shape=shape, name=name)\n  File \"C:\\ProgramData\\Anaconda3\\lib\\site-packages\\tensorflow\\python\\framework\\op_def_library.py\", line 787, in _apply_op_helper\n    op_def=op_def)\n  File \"C:\\ProgramData\\Anaconda3\\lib\\site-packages\\tensorflow\\python\\util\\deprecation.py\", line 454, in new_func\n    return func(*args, **kwargs)\n  File \"C:\\ProgramData\\Anaconda3\\lib\\site-packages\\tensorflow\\python\\framework\\ops.py\", line 3155, in create_op\n    op_def=op_def)\n  File \"C:\\ProgramData\\Anaconda3\\lib\\site-packages\\tensorflow\\python\\framework\\ops.py\", line 1717, in __init__\n    self._traceback = tf_stack.extract_stack()\n\nInvalidArgumentError (see above for traceback): You must feed a value for placeholder tensor 'Placeholder' with dtype float\n\t [[Node: Placeholder = Placeholder[dtype=DT_FLOAT, shape=<unknown>, _device=\"/job:localhost/replica:0/task:0/device:CPU:0\"]()]]\n"
     ]
    }
   ],
   "source": [
    "import tensorflow as tf\n",
    "import numpy as np\n",
    "\n",
    "raw_data = np.random.normal(10, 1, 100)  # 100 numbers with mean=10, std=1\n",
    "\n",
    "alpha = tf.constant(0.05)                # alpha is set as a constant\n",
    "curr_value = tf.placeholder(tf.float32)  # the value is injected from the session\n",
    "prev_avg = tf.Variable(0.)               # pre_avg is set to 0\n",
    "update_avg = alpha * curr_value + (1 - alpha) * prev_avg\n",
    "\n",
    "# Here's what we care to visualize:\n",
    "avg_hist = tf.summary.scalar(\"running_average\", update_avg)\n",
    "value_hist = tf.summary.scalar(\"incoming_values\", curr_value)\n",
    "merged = tf.summary.merge_all()\n",
    "writer = tf.summary.FileWriter(\"./logs\")\n",
    "\n",
    "# Time to compute the moving averages. \n",
    "# We'll also run the merged op to track how the values change:\n",
    "init = tf.global_variables_initializer()\n",
    "\n",
    "with tf.Session() as sess:\n",
    "    sess.run(init)\n",
    "    #sess.add_graph(sess.graph)  # Optional, to visualize the computation grpah in TB\n",
    "    # loops through the data one by one to update the average\n",
    "    for i in range(len(raw_data)):\n",
    "        summary_str, curr_avg = sess.run([merged, update_avg], feed_dict={curr_value: raw_data[i]})\n",
    "        sess.run(tf.assign(prev_avg, curr_avg))\n",
    "        print(raw_data[i], curr_avg)\n",
    "        writer.add_summary(summary_str, i)\n",
    "        \n",
    "#made the logs be written successfully\n",
    "writer.close()\n",
    "        \n",
    "# Check out the visualization by running TensorBoard from the terminal:\n",
    "# $ tensorboard --logdir=path/to/logs"
   ]
  },
  {
   "cell_type": "code",
   "execution_count": 0,
   "metadata": {
    "colab": {},
    "colab_type": "code",
    "id": "HXE9-i0uigFx"
   },
   "outputs": [],
   "source": []
  }
 ],
 "metadata": {
  "colab": {
   "collapsed_sections": [],
   "include_colab_link": true,
   "name": "TensorFlowEssentials.ipynb",
   "provenance": [],
   "version": "0.3.2"
  },
  "kernelspec": {
   "display_name": "Python 3",
   "language": "python",
   "name": "python3"
  },
  "language_info": {
   "codemirror_mode": {
    "name": "ipython",
    "version": 3
   },
   "file_extension": ".py",
   "mimetype": "text/x-python",
   "name": "python",
   "nbconvert_exporter": "python",
   "pygments_lexer": "ipython3",
   "version": "3.6.5"
  }
 },
 "nbformat": 4,
 "nbformat_minor": 1
}
