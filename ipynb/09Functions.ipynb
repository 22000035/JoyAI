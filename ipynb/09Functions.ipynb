{
 "cells": [
  {
   "cell_type": "markdown",
   "metadata": {},
   "source": [
    "# Welcome to \"CrushPython\"   \n",
    "\n",
    "\n",
    "Bring my sons from afar and my daughters from the end of the earth – everyone who is called by my name, whom I created for my glory, whom I formed and made.\n",
    "\n",
    "내 아들들을 먼 곳에서 이끌며 내 딸들을 땅 끝에서 오게 하며 내 이름으로 불려지는 모든 자 곧 내가 내 영광을 위하여 창조한 자를 오게 하라 그를 내가 지었고 그를 내가 만들었노라 (사43:6b-7)\n",
    "\n",
    "---------\n"
   ]
  },
  {
   "cell_type": "markdown",
   "metadata": {},
   "source": [
    "# Lesson - Functions\n",
    "\n",
    "-------\n",
    "A function is a block of organized, reusable code that is used to perform a single, related action. Functions provide better modularity for your application and a high degree of code reusing. Function is also another form of an abstraction.  \n",
    "\n",
    "You already know, Python gives you many built-in functions like print(), etc. but you can also create so called user-defined functions.\n"
   ]
  },
  {
   "cell_type": "markdown",
   "metadata": {},
   "source": [
    "## Defining a Function\n",
    "\n",
    "You can define functions to provide the required functionality. Here are simple rules to define a function in Python.\n",
    "- Function blocks begin with the keyword def followed by the function name and parentheses ( ( ) ).\n",
    "- Any input parameters or arguments should be placed within these parentheses. You can also define parameters inside these parentheses.\n",
    "- The first statement of a function can be an optional statement - the documentation string of the function or `docstring`. This `docstring` may be displayed during the `help()` and used for the basic testing. \n",
    "- The code block within every function starts with a colon (:) and is indented.\n",
    "- The statement return [expression] exits a function, optionally passing back an expression to the caller. A return statement with no arguments is the same as return None.\n",
    "\n",
    "Syntax:\n",
    "```\n",
    "def functionname( parameters ):\n",
    "    \"\"\"function_docstring\"\"\"\n",
    "    function_suite\n",
    "```\n",
    "By default, parameters have a positional behaviour and you need to inform them in the same order that they were defined. "
   ]
  },
  {
   "cell_type": "markdown",
   "metadata": {},
   "source": [
    "### For example:"
   ]
  },
  {
   "cell_type": "code",
   "execution_count": null,
   "metadata": {},
   "outputs": [],
   "source": [
    "def print_greeting( name ):\n",
    "    \"\"\"This prints a greeting.\"Hello\"\n",
    "        name: input name\n",
    "    \"\"\"\n",
    "    print(\"Hello\", name, \"!\")\n",
    "    return"
   ]
  },
  {
   "cell_type": "code",
   "execution_count": null,
   "metadata": {},
   "outputs": [],
   "source": []
  },
  {
   "cell_type": "markdown",
   "metadata": {},
   "source": [
    "## Calling a Function\n",
    "Defining a function only gives it a name, specifies the parameters that are to be included in the function and structures the blocks of code."
   ]
  },
  {
   "cell_type": "code",
   "execution_count": null,
   "metadata": {},
   "outputs": [],
   "source": [
    "# Now you can call print_greeting function\n",
    "print_greeting(\"John\")\n",
    "print_greeting(\"Peter\")"
   ]
  },
  {
   "cell_type": "markdown",
   "metadata": {},
   "source": [
    "## Pass by reference vs. value\n",
    "All parameters (arguments) in the Python language are passed by reference. It means if you change what a parameter refers to within a function, the change also reflects back in the calling function. "
   ]
  },
  {
   "cell_type": "markdown",
   "metadata": {},
   "source": [
    "### For example:"
   ]
  },
  {
   "cell_type": "code",
   "execution_count": null,
   "metadata": {},
   "outputs": [],
   "source": [
    "def changeit(mylist):\n",
    "    \"\"\"This changes a passed list\"\"\"\n",
    "    mylist.append([1,2,3])\n",
    "    print(\"Values inside the function: \", mylist)\n",
    "    return\n",
    "\n",
    "# Now you can call changeit function\n",
    "urlist = [10,20,30];\n",
    "changeit(urlist);\n",
    "print(\"Values outside the function: \", urlist)"
   ]
  },
  {
   "cell_type": "markdown",
   "metadata": {},
   "source": [
    "## Function Arguments\n",
    "You can call a function by using the following types of formal arguments:\n",
    "- Required arguments\n",
    "- Keyword arguments\n",
    "- Default arguments\n",
    "- Variable-length arguments  \n"
   ]
  },
  {
   "cell_type": "markdown",
   "metadata": {},
   "source": [
    "### Required arguments:\n",
    "Required arguments are the arguments passed to a function in correct positional order. Here, the number of arguments in the function call should match exactly with the function definition.  \n",
    "\n",
    "To call the function `print_greeting()`, you definitely need to pass one argument, otherwise it would give a syntax error as follows:\n"
   ]
  },
  {
   "cell_type": "code",
   "execution_count": null,
   "metadata": {},
   "outputs": [],
   "source": [
    "def print_greeting( name ):\n",
    "    \"\"\"This prints a greeting.\"Hello\"\n",
    "        name: input name\n",
    "    \"\"\"\n",
    "    print(\"Hello\", name + \"!\")\n",
    "    return\n",
    "\n",
    "# Now you can call print_greeting function, but there will be an error.\n",
    "print_greeting(\"John\")"
   ]
  },
  {
   "cell_type": "markdown",
   "metadata": {},
   "source": [
    "### Keyword arguments:\n",
    "Keyword arguments are related to the function calls. When you use keyword arguments in a function call, the caller identifies the arguments by the parameter name.  \n",
    "\n",
    "This allows you to skip arguments or place them out of order because the Python interpreter is able to use the keywords provided to match the values with parameters. You can also make keyword calls to the`print_greeting()` function in the following ways:"
   ]
  },
  {
   "cell_type": "code",
   "execution_count": null,
   "metadata": {},
   "outputs": [],
   "source": [
    "def print_greeting( name, title ):\n",
    "    \"\"\"This prints a greeting.\"\"\"\n",
    "    print(\"Hello\", title, name + \"!\")\n",
    "    return\n",
    "\n",
    "print_greeting(title = \"Mr.\", name = \"Lee\")"
   ]
  },
  {
   "cell_type": "markdown",
   "metadata": {},
   "source": [
    "### Default arguments:\n",
    "A default argument is an argument that assumes a default value if a value is not provided in the function call for that argument. Following example gives an idea on default arguments, it would print default age if it is not passed:"
   ]
  },
  {
   "cell_type": "code",
   "execution_count": null,
   "metadata": {},
   "outputs": [],
   "source": [
    "def print_greeting( name, title = 'Mr.' ):\n",
    "    \"\"\"This prints a greeting.\"\"\"\n",
    "    print(\"Hello\", title, name + \"!\")\n",
    "    return\n",
    "\n",
    "# Now you can call print_greeting function\n",
    "print_greeting(\"Kim\", title = \"Prof.\")\n",
    "print_greeting(\"Lee\")\n"
   ]
  },
  {
   "cell_type": "markdown",
   "metadata": {},
   "source": [
    "## Variable-length arguments:\n",
    "You may need to process a function for more arguments than you specified while defining the function. These arguments are called variable-length arguments.  \n",
    "\n",
    "The general syntax for a function with non-keyword variable arguments is this:\n",
    "\n",
    "```\n",
    "def functionname([formal_args,] *var_args_tuple ):\n",
    "    \"\"\"function_docstring\"\"\"\n",
    "    function_suite\n",
    "    return [expression]\n",
    "```\n",
    "An asterisk (`*`) is placed before the variable name that will hold the values of all nonkeyword variable arguments. This tuple remains empty if no additional arguments are specified during the function call. Following is a simple example:"
   ]
  },
  {
   "cell_type": "code",
   "execution_count": null,
   "metadata": {},
   "outputs": [],
   "source": [
    "def printinfo( *vartuple ):\n",
    "    \"\"\"This prints a variable passed arguments\"\"\"\n",
    "    for var in vartuple:\n",
    "        print(var)\n",
    "    return;\n",
    "\n",
    "# Now you can call printinfo function\n",
    "printinfo( \"Believe to see?\", [\"red\", \"green\", \"blue\"], 1, 2, 3);"
   ]
  },
  {
   "cell_type": "code",
   "execution_count": null,
   "metadata": {},
   "outputs": [],
   "source": [
    "def printinfo( arg1, arg2, *vartuple ):\n",
    "    \"\"\"This prints a variable passed arguments\"\"\"\n",
    "    print(arg1, arg2)\n",
    "    for var in vartuple:\n",
    "        print(var)\n",
    "    return;\n",
    "\n",
    "# Now you can call printinfo function\n",
    "printinfo( \"Believe\", 2, \"see\", [\"red\", \"green\", \"blue\"], 1, 2, 3);"
   ]
  },
  {
   "cell_type": "markdown",
   "metadata": {},
   "source": [
    "## The Anonymous Function: Lambda function\n",
    "You can use the lambda keyword to create small anonymous functions. These functions are called anonymous because they are not declared in the standard manner by using the def keyword. \n",
    "- Lambda forms can take __any number of arguments__ but __return just one value__ in the form of an expression. They cannot contain commands or multiple expressions. \n",
    "- Lambda functions have their __own local namespace__ and cannot access variables other than those in their parameter list and those in the global namespace.\n",
    "- An anonymous function cannot be a direct call to print because lambda requires an expression.\n",
    "- The syntax of lambda functions contains only a single statement, which is as follows:\n",
    "You can use the lambda keyword to create small anonymous functions. These functions are called anonymous because they are not declared in the standard manner by using the def keyword. \n",
    "\n",
    "The syntax of lambda functions contains only a single statement, which is as follows:\n",
    "\n",
    "```\n",
    "lambda [arg1 [,arg2,.....argn]]:expression\n",
    "```\n",
    "Following is the example to show how lambda form of function works:\n",
    "\n",
    "#### Example 1:"
   ]
  },
  {
   "cell_type": "code",
   "execution_count": null,
   "metadata": {},
   "outputs": [],
   "source": [
    "# sqr and adder functions\n"
   ]
  },
  {
   "cell_type": "code",
   "execution_count": null,
   "metadata": {},
   "outputs": [],
   "source": [
    "# find a larger value of two\n"
   ]
  },
  {
   "cell_type": "markdown",
   "metadata": {},
   "source": [
    "Lambda function can be immediately invoked for execution(IIFE).  This capability allows you to use them inside functions like `map()`, `filert()` and `reduce()`. It is useful because you may not want to use these functions again.\n",
    "\n",
    "#### Example 2: Immediate Invocation for Function Execution(IIFE)"
   ]
  },
  {
   "cell_type": "code",
   "execution_count": null,
   "metadata": {},
   "outputs": [],
   "source": []
  },
  {
   "cell_type": "code",
   "execution_count": null,
   "metadata": {},
   "outputs": [],
   "source": []
  },
  {
   "cell_type": "markdown",
   "metadata": {},
   "source": [
    "### lambdas in filter()\n",
    "The filter function is used to select some particular elements from a sequence of elements. The sequence can be any iterator like lists, sets, tuples, etc.\n",
    "\n",
    "The elements which will be selected is based on some pre-defined constraint. It takes 2 parameters:\n",
    "\n",
    "- A boolean function that defines the filtering constraint\n",
    "- A sequence (any iterator like lists, tuples, etc.)\n",
    "\n",
    "#### Example 3:\n",
    "A lambda function which runs on each element of the list and returns true if it is greater than 4."
   ]
  },
  {
   "cell_type": "code",
   "execution_count": null,
   "metadata": {},
   "outputs": [],
   "source": [
    "seq = [10, 1, 8, 7, 6, 4, 3, 11, 0, 2]\n"
   ]
  },
  {
   "cell_type": "markdown",
   "metadata": {},
   "source": [
    "### lambdas in map()\n",
    "the map function is used to apply a particular operation to every element in a sequence. Like `filter()`, it also takes 2 parameters:\n",
    "\n",
    "- A function that defines the operation to perform on the elements.\n",
    "- One or more sequences\n",
    "\n",
    "#### For example 4:\n",
    "Lambda function which runs on each element of the list and returns the square of that number.\n",
    "Here is a program that prints the squares of numbers in a given list:"
   ]
  },
  {
   "cell_type": "code",
   "execution_count": null,
   "metadata": {},
   "outputs": [],
   "source": [
    "seq = [10, 1, 8, 7, 6, 4, 3, 11, 0, 2]\n"
   ]
  },
  {
   "cell_type": "markdown",
   "metadata": {},
   "source": [
    "Use the formula: `fahrenheit = 9 / 5 * celsius + 32`"
   ]
  },
  {
   "cell_type": "code",
   "execution_count": null,
   "metadata": {},
   "outputs": [],
   "source": [
    "celsius = [0, 36.5, 37.3, 37.8, 100]\n"
   ]
  },
  {
   "cell_type": "markdown",
   "metadata": {},
   "source": [
    "### lambdas in reduce()\n",
    "The `reduce()` function takes in a function and a list as argument. The function is called with a lambda function and a list and a new reduced result is returned. This performs a repetitive operation over the pairs of the list. \n",
    "\n",
    "#### Example 5:"
   ]
  },
  {
   "cell_type": "code",
   "execution_count": null,
   "metadata": {},
   "outputs": [],
   "source": [
    "from functools import reduce\n",
    "\n",
    "seq = [5, 8, 10, 20, 50, 100] \n",
    "\n"
   ]
  },
  {
   "cell_type": "markdown",
   "metadata": {},
   "source": [
    "The results of previous two elements are added to the next element and this goes on till the end of the list like (((((5+8)+10)+20)+50)+100)."
   ]
  },
  {
   "cell_type": "code",
   "execution_count": 2,
   "metadata": {},
   "outputs": [
    {
     "data": {
      "text/plain": [
       "5050"
      ]
     },
     "execution_count": 2,
     "metadata": {},
     "output_type": "execute_result"
    }
   ],
   "source": [
    "# adding numbers from 1 to 100:\n",
    "from functools import reduce\n",
    "\n"
   ]
  },
  {
   "cell_type": "code",
   "execution_count": null,
   "metadata": {},
   "outputs": [],
   "source": [
    "# finding max\n",
    "seq = [5, 8, 10, 20, 99, 50, 33, 1] \n"
   ]
  },
  {
   "cell_type": "markdown",
   "metadata": {},
   "source": [
    "### Lambda vs. list comprehension\n",
    "\n",
    "__caveat:__ Lambda functions should be used sparingly and with extraordinary care.\n",
    "\n",
    "- If you find yourself doing anything remotely complex with a lambda expression, consider defining a real function with a proper name instead.\n",
    "\n",
    "- Saving a few keystrokes won’t matter in the long run. Your colleagues (and your future self) will appreciate clean and readable code more than terse wizardry.\n",
    "\n",
    "- Always ask yourself: _Would using a regular (named) function or a list/generator expression offer more clarity_\n"
   ]
  },
  {
   "cell_type": "code",
   "execution_count": null,
   "metadata": {},
   "outputs": [],
   "source": [
    "# harmful\n",
    "list(filter(lambda x: x % 2 == 0, range(16)))"
   ]
  },
  {
   "cell_type": "code",
   "execution_count": null,
   "metadata": {},
   "outputs": [],
   "source": [
    "# better\n",
    "[x for x in range(16) if x % 2 == 0]"
   ]
  },
  {
   "cell_type": "markdown",
   "metadata": {},
   "source": [
    "## Timing code: `%timeit` and `%time`\n",
    "\n",
    "Sometimes it's useful to check the execution time of a given command or set of commands; other times it's useful to dig into a multiline process and determine where the bottleneck lies in some complicated series of operations.\n",
    "\n",
    "- %time: Time the execution of a single statement\n",
    "- %timeit: Time repeated execution of a single statement for more accuracy\n",
    "- %%time, %%timeit : Using the double-percent-sign cell magic syntax allows timing of multiline scripts:\n",
    "\n",
    "#### Example 1:"
   ]
  },
  {
   "cell_type": "code",
   "execution_count": null,
   "metadata": {},
   "outputs": [],
   "source": [
    "%timeit sum(range(1000))"
   ]
  },
  {
   "cell_type": "markdown",
   "metadata": {},
   "source": [
    "Note that because this operation is so fast, `%timeit` automatically does a large number of repetitions. For slower commands, `%timeit` will automatically adjust and perform fewer repetitions:\n",
    "\n",
    "#### Example 2:"
   ]
  },
  {
   "cell_type": "code",
   "execution_count": null,
   "metadata": {},
   "outputs": [],
   "source": [
    "%%timeit\n",
    "total = 0\n",
    "for i in range(1000):\n",
    "    for j in range(1000):\n",
    "        total += i * (-1) ** j"
   ]
  },
  {
   "cell_type": "markdown",
   "metadata": {},
   "source": [
    "#### Example 3:\n",
    "Sometimes repeating an operation is not the best option. \n",
    "\n",
    "For example, if we have a list that we'd like to sort, we might be misled by a repeated operation. In some algorithms such as insertion sort or bubble sort, sorting a pre-sorted list is much faster than sorting an unsorted list or vice versa (quicksort). Therefore such a the repetitions will skew the result:"
   ]
  },
  {
   "cell_type": "code",
   "execution_count": 11,
   "metadata": {},
   "outputs": [
    {
     "name": "stdout",
     "output_type": "stream",
     "text": [
      "1.06 ms ± 79.3 µs per loop (mean ± std. dev. of 7 runs, 1000 loops each)\n"
     ]
    }
   ],
   "source": [
    "# potential inaccurate measure\n",
    "import random \n",
    "L = [random.random() for i in range(100000)]\n",
    "%timeit L.sort()"
   ]
  },
  {
   "cell_type": "markdown",
   "metadata": {},
   "source": [
    "For this, the `%time` magic function may be a better choice. It also is a good choice for longer-running commands, when short, system-related delays are unlikely to affect the result. \n",
    "\n",
    "Let's time the sorting of an unsorted and a presorted list:"
   ]
  },
  {
   "cell_type": "code",
   "execution_count": null,
   "metadata": {},
   "outputs": [],
   "source": [
    "import random\n",
    "L = [random.random() for i in range(100000)]\n",
    "print(\"sorting an unsorted list:\")\n"
   ]
  },
  {
   "cell_type": "code",
   "execution_count": null,
   "metadata": {},
   "outputs": [],
   "source": [
    "print(\"sorting an already sorted list:\")\n"
   ]
  },
  {
   "cell_type": "markdown",
   "metadata": {},
   "source": [
    "Notice how much faster the presorted list is to sort, but notice also how much longer the timing takes with %time versus %timeit, even for the presorted list!"
   ]
  },
  {
   "cell_type": "markdown",
   "metadata": {},
   "source": [
    "#### Example 4:\n",
    "For `%time` as with `%timeit`, using the double-percent-sign cell magic syntax allows timing of multiline scripts:"
   ]
  },
  {
   "cell_type": "code",
   "execution_count": null,
   "metadata": {},
   "outputs": [],
   "source": [
    "%%time\n",
    "total = 0\n",
    "for i in range(1000):\n",
    "    for j in range(1000):\n",
    "        total += i * (-1) ** j"
   ]
  },
  {
   "cell_type": "markdown",
   "metadata": {},
   "source": [
    "## Exercise [모인활 숙제]\n",
    "\n",
    "We would like to compare the timing of three functions that do the same job. Each function takes a big integer number such as the results of 2 ** 1000 and count number of digits and returns a histogram of each digits as a list. For example,a given number is `n = 31624142819`, its histogram of the digits would be \n",
    "```\n",
    "[0, 3, 2, 1, 2, 0, 1, 0, 1, 1]   # input 31624142819\n",
    "```\n",
    "To make sure that the code is working, you can use the fact that the sum of histogram list should be the same as the number of digits as shown below:\n",
    "\n",
    "```\n",
    "assert(sum(histo) == len(str_n))\n",
    "```"
   ]
  },
  {
   "cell_type": "markdown",
   "metadata": {},
   "source": [
    "#### Sample Solution: Provided for your reference\n",
    "\n",
    "The following solution uses the `count()` method in `str` class to count the digits. "
   ]
  },
  {
   "cell_type": "code",
   "execution_count": null,
   "metadata": {},
   "outputs": [],
   "source": [
    "def histo_using_count(n):\n",
    "    histo = [0] * 10\n",
    "    str_n = str(n)\n",
    "    ord_z = ord('0')\n",
    "    for i in range(10):\n",
    "        histo[i] += str_n.count(chr(ord_z + i))\n",
    "    assert(sum(histo) == len(str_n))\n",
    "    return histo"
   ]
  },
  {
   "cell_type": "code",
   "execution_count": null,
   "metadata": {},
   "outputs": [],
   "source": [
    "%timeit histo_using_count(2**1000)\n",
    "print(histo_using_count(2**1000))"
   ]
  },
  {
   "cell_type": "markdown",
   "metadata": {},
   "source": [
    "#### Your Solution 1: \n",
    "\n",
    "__Hint:__ Convert `n` into a `str` object. Then use for loop and str object which is iterable. When you get each digit as a character or str type, convert it into an integer to work with. "
   ]
  },
  {
   "cell_type": "code",
   "execution_count": null,
   "metadata": {},
   "outputs": [],
   "source": [
    "def histo_using_str(n):\n",
    "    histo = [0] * 10     # initialize the histogram\n",
    "\n",
    "    \n",
    "    return histo"
   ]
  },
  {
   "cell_type": "code",
   "execution_count": null,
   "metadata": {
    "scrolled": true
   },
   "outputs": [],
   "source": [
    "%timeit histo_using_str(2**1000)\n",
    "print(histo_using_str(2**1000))"
   ]
  },
  {
   "cell_type": "markdown",
   "metadata": {},
   "source": [
    "#### Your Solution 2: \n",
    "\n",
    "__Hint:__ Do not convert n into a str object. Use mod (%) and floor division(//) to get the last digit while n > 0. "
   ]
  },
  {
   "cell_type": "code",
   "execution_count": null,
   "metadata": {},
   "outputs": [],
   "source": [
    "def histo_using_mod(n):\n",
    "    histo = [0] * 10     # initialize the histogram\n",
    "\n",
    "    \n",
    "    \n",
    "    return histo"
   ]
  },
  {
   "cell_type": "code",
   "execution_count": 144,
   "metadata": {},
   "outputs": [
    {
     "name": "stdout",
     "output_type": "stream",
     "text": [
      "235 µs ± 30 µs per loop (mean ± std. dev. of 7 runs, 1000 loops each)\n",
      "[28, 34, 23, 25, 35, 35, 34, 35, 30, 23]\n"
     ]
    }
   ],
   "source": [
    "%timeit histo_using_mod(2**1000)\n",
    "print(histo_using_mod(2**1000))"
   ]
  },
  {
   "cell_type": "markdown",
   "metadata": {},
   "source": [
    "#### Your Solution 3: Optional Challenge Problem for extra point\n",
    "\n",
    "Write a function that works better than three functions shown above. \"Better\" means that it is faster,  shorter, cleaner or more readable and so on. Describe your justficiation about why your solution is better than the others in the following cell."
   ]
  },
  {
   "cell_type": "markdown",
   "metadata": {},
   "source": [
    "#### Describe your justfication below: (May explane of your code as well)\n",
    "- \n",
    "- \n",
    "- "
   ]
  },
  {
   "cell_type": "code",
   "execution_count": 146,
   "metadata": {},
   "outputs": [],
   "source": [
    "def histo_using_chance(n):\n",
    "    histo = [0] * 10     # initialize the histogram\n",
    "\n",
    "    \n",
    "    return histo"
   ]
  },
  {
   "cell_type": "code",
   "execution_count": null,
   "metadata": {},
   "outputs": [],
   "source": [
    "%timeit histo_using_chance(2**1000)\n",
    "print(histo_using_chance(2**1000))"
   ]
  },
  {
   "cell_type": "markdown",
   "metadata": {},
   "source": [
    "--------\n",
    "\n",
    "_Bring my sons from afar and my daughters from the end of the earth – everyone who is called by my name, whom I created for my glory, whom I formed and made._ Isa43:6b-7"
   ]
  }
 ],
 "metadata": {
  "kernelspec": {
   "display_name": "Python 3",
   "language": "python",
   "name": "python3"
  },
  "language_info": {
   "codemirror_mode": {
    "name": "ipython",
    "version": 3
   },
   "file_extension": ".py",
   "mimetype": "text/x-python",
   "name": "python",
   "nbconvert_exporter": "python",
   "pygments_lexer": "ipython3",
   "version": "3.7.3"
  }
 },
 "nbformat": 4,
 "nbformat_minor": 1
}
